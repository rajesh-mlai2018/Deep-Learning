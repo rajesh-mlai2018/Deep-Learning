{
 "cells": [
  {
   "cell_type": "code",
   "execution_count": 155,
   "id": "1ea86eb9",
   "metadata": {},
   "outputs": [
    {
     "name": "stdout",
     "output_type": "stream",
     "text": [
      "Requirement already satisfied: tensorflow_datasets in c:\\per\\py\\anaconda\\anaconda3\\lib\\site-packages (4.5.2)\n",
      "Requirement already satisfied: dill in c:\\per\\py\\anaconda\\anaconda3\\lib\\site-packages (from tensorflow_datasets) (0.3.4)\n",
      "Requirement already satisfied: protobuf>=3.12.2 in c:\\per\\py\\anaconda\\anaconda3\\lib\\site-packages (from tensorflow_datasets) (3.19.4)\n",
      "Requirement already satisfied: six in c:\\per\\py\\anaconda\\anaconda3\\lib\\site-packages (from tensorflow_datasets) (1.16.0)\n",
      "Requirement already satisfied: numpy in c:\\per\\py\\anaconda\\anaconda3\\lib\\site-packages (from tensorflow_datasets) (1.20.3)\n",
      "Requirement already satisfied: requests>=2.19.0 in c:\\per\\py\\anaconda\\anaconda3\\lib\\site-packages (from tensorflow_datasets) (2.26.0)\n",
      "Requirement already satisfied: termcolor in c:\\per\\py\\anaconda\\anaconda3\\lib\\site-packages (from tensorflow_datasets) (1.1.0)\n",
      "Requirement already satisfied: promise in c:\\per\\py\\anaconda\\anaconda3\\lib\\site-packages (from tensorflow_datasets) (2.3)\n",
      "Requirement already satisfied: tensorflow-metadata in c:\\per\\py\\anaconda\\anaconda3\\lib\\site-packages (from tensorflow_datasets) (1.7.0)\n",
      "Requirement already satisfied: tqdm in c:\\per\\py\\anaconda\\anaconda3\\lib\\site-packages (from tensorflow_datasets) (4.62.3)\n",
      "Requirement already satisfied: absl-py in c:\\per\\py\\anaconda\\anaconda3\\lib\\site-packages (from tensorflow_datasets) (1.0.0)\n",
      "Requirement already satisfied: urllib3<1.27,>=1.21.1 in c:\\per\\py\\anaconda\\anaconda3\\lib\\site-packages (from requests>=2.19.0->tensorflow_datasets) (1.26.7)\n",
      "Requirement already satisfied: certifi>=2017.4.17 in c:\\per\\py\\anaconda\\anaconda3\\lib\\site-packages (from requests>=2.19.0->tensorflow_datasets) (2021.10.8)\n",
      "Requirement already satisfied: idna<4,>=2.5 in c:\\per\\py\\anaconda\\anaconda3\\lib\\site-packages (from requests>=2.19.0->tensorflow_datasets) (3.2)\n",
      "Requirement already satisfied: charset-normalizer~=2.0.0 in c:\\per\\py\\anaconda\\anaconda3\\lib\\site-packages (from requests>=2.19.0->tensorflow_datasets) (2.0.4)\n",
      "Requirement already satisfied: googleapis-common-protos<2,>=1.52.0 in c:\\per\\py\\anaconda\\anaconda3\\lib\\site-packages (from tensorflow-metadata->tensorflow_datasets) (1.56.0)\n",
      "Requirement already satisfied: colorama in c:\\per\\py\\anaconda\\anaconda3\\lib\\site-packages (from tqdm->tensorflow_datasets) (0.4.4)\n"
     ]
    }
   ],
   "source": [
    "#!pip install tensorflow_datasets"
   ]
  },
  {
   "cell_type": "code",
   "execution_count": 156,
   "id": "a2ad2d77",
   "metadata": {},
   "outputs": [],
   "source": [
    "import tensorflow as tf\n",
    "import tensorflow_datasets as tfds"
   ]
  },
  {
   "cell_type": "code",
   "execution_count": 157,
   "id": "de7e119a",
   "metadata": {},
   "outputs": [],
   "source": [
    "# Helper libraries\n",
    "import math\n",
    "import numpy as np\n",
    "import matplotlib.pyplot as plt\n",
    "import logging"
   ]
  },
  {
   "cell_type": "code",
   "execution_count": 158,
   "id": "6f550996",
   "metadata": {},
   "outputs": [],
   "source": [
    "logger = tf.get_logger()\n",
    "logger.setLevel(logging.ERROR)"
   ]
  },
  {
   "cell_type": "code",
   "execution_count": 159,
   "id": "b95b0240",
   "metadata": {},
   "outputs": [],
   "source": [
    "dataset,info=tfds.load('fashion_mnist', as_supervised=True, with_info=True)"
   ]
  },
  {
   "cell_type": "code",
   "execution_count": 160,
   "id": "b1d5069a",
   "metadata": {},
   "outputs": [
    {
     "data": {
      "text/plain": [
       "{'train': <PrefetchDataset shapes: ((28, 28, 1), ()), types: (tf.uint8, tf.int64)>,\n",
       " 'test': <PrefetchDataset shapes: ((28, 28, 1), ()), types: (tf.uint8, tf.int64)>}"
      ]
     },
     "execution_count": 160,
     "metadata": {},
     "output_type": "execute_result"
    }
   ],
   "source": [
    "dataset"
   ]
  },
  {
   "cell_type": "code",
   "execution_count": 161,
   "id": "4e29d285",
   "metadata": {},
   "outputs": [
    {
     "data": {
      "text/plain": [
       "['T-shirt/top',\n",
       " 'Trouser',\n",
       " 'Pullover',\n",
       " 'Dress',\n",
       " 'Coat',\n",
       " 'Sandal',\n",
       " 'Shirt',\n",
       " 'Sneaker',\n",
       " 'Bag',\n",
       " 'Ankle boot']"
      ]
     },
     "execution_count": 161,
     "metadata": {},
     "output_type": "execute_result"
    }
   ],
   "source": [
    "info.features['label'].names"
   ]
  },
  {
   "cell_type": "code",
   "execution_count": 162,
   "id": "5458ce24",
   "metadata": {},
   "outputs": [],
   "source": [
    "train_dataset, test_dataset = dataset['train'], dataset['test']"
   ]
  },
  {
   "cell_type": "code",
   "execution_count": 163,
   "id": "c2cbcde1",
   "metadata": {},
   "outputs": [],
   "source": [
    "def normalize(images, labels):\n",
    "    images = tf.cast(images, tf.float32)\n",
    "    images /= 255\n",
    "    return images, labels"
   ]
  },
  {
   "cell_type": "code",
   "execution_count": 164,
   "id": "9b2fa55d",
   "metadata": {},
   "outputs": [],
   "source": [
    "# The map function applies the normalize function to each element in the train \n",
    "# and test datasets\n",
    "train_dataset =  train_dataset.map(normalize)\n",
    "test_dataset  =  test_dataset.map(normalize)\n",
    "\n",
    "# The first time you use the dataset, the images will be loaded from disk\n",
    "# Caching will keep them in memory, making training faster\n",
    "train_dataset =  train_dataset.cache()\n",
    "test_dataset  =  test_dataset.cache()"
   ]
  },
  {
   "cell_type": "code",
   "execution_count": 165,
   "id": "7fef99e4",
   "metadata": {},
   "outputs": [],
   "source": [
    "# Take a single image\n",
    "for image, label in test_dataset.take(1):\n",
    "    break"
   ]
  },
  {
   "cell_type": "code",
   "execution_count": 166,
   "id": "ddc4caad",
   "metadata": {},
   "outputs": [
    {
     "name": "stdout",
     "output_type": "stream",
     "text": [
      "<class 'tensorflow.python.framework.ops.EagerTensor'>\n",
      "<class 'numpy.ndarray'>\n",
      "(28, 28, 1)\n"
     ]
    }
   ],
   "source": [
    "print(type(image))\n",
    "print(type(image.numpy()))\n",
    "print(image.shape)"
   ]
  },
  {
   "cell_type": "code",
   "execution_count": 167,
   "id": "f5ed7ff4",
   "metadata": {},
   "outputs": [
    {
     "name": "stdout",
     "output_type": "stream",
     "text": [
      "<class 'numpy.ndarray'>\n",
      "(28, 28)\n"
     ]
    }
   ],
   "source": [
    "# remove color dimension by reshaping\n",
    "image = image.numpy().reshape((28,28))\n",
    "\n",
    "print(type(image))\n",
    "print(image.shape)"
   ]
  },
  {
   "cell_type": "code",
   "execution_count": 168,
   "id": "640bf48c",
   "metadata": {
    "scrolled": true
   },
   "outputs": [
    {
     "data": {
      "image/png": "[encoded data removed]",
      "text/plain": [
       "<Figure size 432x288 with 2 Axes>"
      ]
     },
     "metadata": {
      "needs_background": "light"
     },
     "output_type": "display_data"
    }
   ],
   "source": [
    "# Plot the image - voila a piece of fashion clothing\n",
    "plt.figure()\n",
    "plt.imshow(image, cmap=plt.cm.binary)\n",
    "plt.colorbar()\n",
    "plt.grid(False)\n",
    "plt.show()"
   ]
  },
  {
   "cell_type": "code",
   "execution_count": 169,
   "id": "c7afc89f",
   "metadata": {},
   "outputs": [],
   "source": [
    "class_names = info.features['label'].names"
   ]
  },
  {
   "cell_type": "code",
   "execution_count": 170,
   "id": "0486b323",
   "metadata": {},
   "outputs": [
    {
     "data": {
      "image/png": "[encoded data removed]",
      "text/plain": [
       "<Figure size 720x720 with 10 Axes>"
      ]
     },
     "metadata": {},
     "output_type": "display_data"
    }
   ],
   "source": [
    "plt.figure(figsize=(10,10))\n",
    "for i, (image, label) in enumerate(train_dataset.take(10)):\n",
    "    image = image.numpy().reshape((28,28))\n",
    "    plt.subplot(5,5,i+1)\n",
    "    plt.xticks([])\n",
    "    plt.yticks([])\n",
    "    plt.grid(False)\n",
    "    plt.imshow(image, cmap=plt.cm.binary)\n",
    "    plt.xlabel(class_names[label])\n",
    "plt.show()"
   ]
  },
  {
   "cell_type": "code",
   "execution_count": 171,
   "id": "15a5ef21",
   "metadata": {},
   "outputs": [],
   "source": [
    "model = tf.keras.Sequential([\n",
    "    tf.keras.layers.Flatten(input_shape=(28, 28, 1)),\n",
    "    tf.keras.layers.Dense(128, activation=tf.nn.relu),\n",
    "    tf.keras.layers.Dense(10, activation=tf.nn.softmax)\n",
    "])"
   ]
  },
  {
   "cell_type": "code",
   "execution_count": 172,
   "id": "f22d4e00",
   "metadata": {},
   "outputs": [],
   "source": [
    "model.compile(optimizer=tf.optimizers.RMSprop(),\n",
    "             loss=tf.keras.losses.SparseCategoricalCrossentropy(),\n",
    "             metrics=['accuracy'])"
   ]
  },
  {
   "cell_type": "code",
   "execution_count": 173,
   "id": "e3188432",
   "metadata": {},
   "outputs": [
    {
     "data": {
      "text/plain": [
       "60000"
      ]
     },
     "execution_count": 173,
     "metadata": {},
     "output_type": "execute_result"
    }
   ],
   "source": [
    "len(train_dataset)"
   ]
  },
  {
   "cell_type": "code",
   "execution_count": 174,
   "id": "4dcfe377",
   "metadata": {},
   "outputs": [],
   "source": [
    "batch_size=32\n",
    "train_dataset = train_dataset.cache().repeat().shuffle(info.splits['train'].num_examples).batch(batch_size)"
   ]
  },
  {
   "cell_type": "code",
   "execution_count": 175,
   "id": "b312513a",
   "metadata": {},
   "outputs": [],
   "source": [
    "#len(train_dataset) #TypeError: The dataset is infinite."
   ]
  },
  {
   "cell_type": "code",
   "execution_count": 176,
   "id": "ef1b28dd",
   "metadata": {},
   "outputs": [],
   "source": [
    "test_dataset = test_dataset.cache().repeat().shuffle(info.splits['test'].num_examples).batch(batch_size)"
   ]
  },
  {
   "cell_type": "code",
   "execution_count": 177,
   "id": "1361a562",
   "metadata": {},
   "outputs": [
    {
     "name": "stdout",
     "output_type": "stream",
     "text": [
      "313/313 [==============================] - 1s 1ms/step - loss: 2.3916 - accuracy: 0.0997\n",
      "Accuracy on test dataset before training: 0.0997404158115387\n"
     ]
    }
   ],
   "source": [
    "y_test_loss, y_test_accuracy = model.evaluate(test_dataset, steps=math.ceil(info.splits['test'].num_examples/batch_size))\n",
    "print('Accuracy on test dataset before training:', y_test_accuracy)"
   ]
  },
  {
   "cell_type": "code",
   "execution_count": 178,
   "id": "b217d947",
   "metadata": {},
   "outputs": [
    {
     "name": "stdout",
     "output_type": "stream",
     "text": [
      "Epoch 1/5\n",
      "313/313 [==============================] - 2s 1ms/step - loss: 0.7184 - accuracy: 0.7506\n",
      "Epoch 2/5\n",
      "313/313 [==============================] - 0s 1ms/step - loss: 0.5157 - accuracy: 0.8198\n",
      "Epoch 3/5\n",
      "313/313 [==============================] - 0s 1ms/step - loss: 0.4790 - accuracy: 0.8329\n",
      "Epoch 4/5\n",
      "313/313 [==============================] - 0s 1ms/step - loss: 0.4451 - accuracy: 0.8427\n",
      "Epoch 5/5\n",
      "313/313 [==============================] - 0s 1ms/step - loss: 0.4221 - accuracy: 0.8489\n"
     ]
    },
    {
     "data": {
      "text/plain": [
       "<keras.callbacks.History at 0x17de4753070>"
      ]
     },
     "execution_count": 178,
     "metadata": {},
     "output_type": "execute_result"
    }
   ],
   "source": [
    "model.fit(train_dataset, epochs=5, steps_per_epoch=math.ceil(info.splits['test'].num_examples/batch_size))"
   ]
  },
  {
   "cell_type": "code",
   "execution_count": 179,
   "id": "6dd46ae6",
   "metadata": {},
   "outputs": [],
   "source": [
    "for test_images, test_labels in test_dataset.take(1):\n",
    "    test_images = test_images.numpy()\n",
    "    test_labels = test_labels.numpy()\n",
    "predictions = model.predict(test_images)"
   ]
  },
  {
   "cell_type": "code",
   "execution_count": 180,
   "id": "84433595",
   "metadata": {},
   "outputs": [
    {
     "name": "stdout",
     "output_type": "stream",
     "text": [
      "actual label: 7\n"
     ]
    },
    {
     "data": {
      "image/png": "[encoded data removed]",
      "text/plain": [
       "<Figure size 432x288 with 1 Axes>"
      ]
     },
     "metadata": {
      "needs_background": "light"
     },
     "output_type": "display_data"
    }
   ],
   "source": [
    "plt.imshow(test_images[0], cmap=plt.cm.binary)\n",
    "print('actual label: {}'.format(test_labels[0]))"
   ]
  },
  {
   "cell_type": "code",
   "execution_count": 181,
   "id": "3a0dc00f",
   "metadata": {},
   "outputs": [
    {
     "data": {
      "text/plain": [
       "(32, 10)"
      ]
     },
     "execution_count": 181,
     "metadata": {},
     "output_type": "execute_result"
    }
   ],
   "source": [
    "predictions.shape"
   ]
  },
  {
   "cell_type": "code",
   "execution_count": 182,
   "id": "d87e9589",
   "metadata": {},
   "outputs": [
    {
     "name": "stdout",
     "output_type": "stream",
     "text": [
      "Predicted label: 7\n",
      "actual label: 7\n"
     ]
    }
   ],
   "source": [
    "print('Predicted label: {}'.format(np.argmax(predictions[0])))\n",
    "print('actual label: {}'.format(test_labels[0]))"
   ]
  },
  {
   "cell_type": "code",
   "execution_count": 183,
   "id": "5dd20d72",
   "metadata": {},
   "outputs": [],
   "source": [
    "def plot_image(i, predictions_array, true_labels, images):\n",
    "    predictions_array, true_label, img = predictions_array[i], true_labels[i], images[i]\n",
    "    plt.grid(False)\n",
    "    plt.xticks([])\n",
    "    plt.yticks([])\n",
    "    \n",
    "    #plt.imshow(img[...,0], cmap=plt.cm.binary)\n",
    "    plt.imshow(img, cmap=plt.cm.binary)\n",
    "    #print(predictions_array)\n",
    "    \n",
    "    predicted_label = np.argmax(predictions_array)\n",
    "    if predicted_label == true_label:\n",
    "        color = 'blue'\n",
    "    else:\n",
    "        color = 'red'\n",
    "        \n",
    "    plt.xlabel(\"{} {:2.0f}% ({})\".format(class_names[predicted_label],\n",
    "                                100*np.max(predictions_array),\n",
    "                                class_names[true_label]),\n",
    "                                color=color)\n"
   ]
  },
  {
   "cell_type": "code",
   "execution_count": 184,
   "id": "8962c86f",
   "metadata": {},
   "outputs": [],
   "source": [
    "def plot_value_array(i, predictions_array, true_label):\n",
    "    predictions_array, true_label = predictions_array[i], true_label[i]\n",
    "    plt.grid(False)\n",
    "    plt.xticks([])\n",
    "    plt.yticks([])\n",
    "    thisplot = plt.bar(range(10), predictions_array, color=\"#777777\")\n",
    "    plt.ylim([0, 1]) \n",
    "    predicted_label = np.argmax(predictions_array)\n",
    "    \n",
    "    thisplot[predicted_label].set_color('red')\n",
    "    thisplot[true_label].set_color('blue')"
   ]
  },
  {
   "cell_type": "code",
   "execution_count": 185,
   "id": "58835f5a",
   "metadata": {},
   "outputs": [
    {
     "data": {
      "image/png": "[encoded data removed]",
      "text/plain": [
       "<Figure size 432x216 with 2 Axes>"
      ]
     },
     "metadata": {},
     "output_type": "display_data"
    }
   ],
   "source": [
    "i = 0\n",
    "plt.figure(figsize=(6,3))\n",
    "plt.subplot(1,2,1)\n",
    "plot_image(i, predictions, test_labels, test_images)\n",
    "plt.subplot(1,2,2)\n",
    "plot_value_array(i, predictions, test_labels)"
   ]
  },
  {
   "cell_type": "code",
   "execution_count": 186,
   "id": "723a194a",
   "metadata": {},
   "outputs": [
    {
     "data": {
      "text/plain": [
       "98.64769"
      ]
     },
     "execution_count": 186,
     "metadata": {},
     "output_type": "execute_result"
    }
   ],
   "source": [
    "np.max(9.8647690e-01)*100"
   ]
  },
  {
   "cell_type": "code",
   "execution_count": 187,
   "id": "e0874871",
   "metadata": {},
   "outputs": [
    {
     "data": {
      "image/png": "[encoded data removed]",
      "text/plain": [
       "<Figure size 864x720 with 30 Axes>"
      ]
     },
     "metadata": {},
     "output_type": "display_data"
    }
   ],
   "source": [
    "# Plot the first X test images, their predicted label, and the true label\n",
    "# Color correct predictions in blue, incorrect predictions in red\n",
    "num_rows = 5\n",
    "num_cols = 3\n",
    "num_images = num_rows*num_cols\n",
    "plt.figure(figsize=(2*2*num_cols, 2*num_rows))\n",
    "for i in range(num_images):\n",
    "  plt.subplot(num_rows, 2*num_cols, 2*i+1)\n",
    "  plot_image(i, predictions, test_labels, test_images)\n",
    "  plt.subplot(num_rows, 2*num_cols, 2*i+2)\n",
    "  plot_value_array(i, predictions, test_labels)\n"
   ]
  },
  {
   "cell_type": "markdown",
   "id": "0a41a327",
   "metadata": {},
   "source": [
    "### Implementing Convolution layer"
   ]
  },
  {
   "cell_type": "code",
   "execution_count": 188,
   "id": "620cfd84",
   "metadata": {},
   "outputs": [],
   "source": [
    "train_dataset_cnn, test_dataset_cnn = dataset['train'], dataset['test']\n",
    "\n",
    "train_dataset_cnn =  train_dataset_cnn.map(normalize)\n",
    "test_dataset_cnn  =  test_dataset_cnn.map(normalize)\n",
    "\n",
    "train_dataset_cnn =  train_dataset_cnn.cache()\n",
    "test_dataset_cnn  =  test_dataset_cnn.cache()"
   ]
  },
  {
   "cell_type": "code",
   "execution_count": 189,
   "id": "b19baf36",
   "metadata": {},
   "outputs": [],
   "source": [
    "model_cnn = tf.keras.Sequential([\n",
    "    tf.keras.layers.Conv2D(32, (3,3), padding='same', activation=tf.nn.relu,\n",
    "                           input_shape=(28, 28, 1)),\n",
    "    tf.keras.layers.MaxPooling2D((2, 2), strides=2),\n",
    "    \n",
    "    tf.keras.layers.Conv2D(64, (3,3), padding='same', activation=tf.nn.relu),\n",
    "    tf.keras.layers.MaxPooling2D((2, 2), strides=2),\n",
    "    \n",
    "    tf.keras.layers.Flatten(input_shape=(28, 28, 1)),\n",
    "    tf.keras.layers.Dense(128, activation=tf.nn.relu),\n",
    "    tf.keras.layers.Dense(10, activation=tf.nn.softmax)\n",
    "])"
   ]
  },
  {
   "cell_type": "code",
   "execution_count": 190,
   "id": "a319f6d3",
   "metadata": {},
   "outputs": [],
   "source": [
    "model_cnn.compile(optimizer='adam',\n",
    "              loss=tf.keras.losses.SparseCategoricalCrossentropy(),\n",
    "              metrics=['accuracy'])"
   ]
  },
  {
   "cell_type": "code",
   "execution_count": 191,
   "id": "dcb80258",
   "metadata": {},
   "outputs": [],
   "source": [
    "num_train_examples=info.splits['train'].num_examples\n",
    "num_test_examples=info.splits['test'].num_examples"
   ]
  },
  {
   "cell_type": "code",
   "execution_count": 195,
   "id": "004cbe98",
   "metadata": {},
   "outputs": [],
   "source": []
  },
  {
   "cell_type": "code",
   "execution_count": 192,
   "id": "83be7d5c",
   "metadata": {},
   "outputs": [],
   "source": [
    "batch_size=32\n",
    "train_dataset_cnn = train_dataset_cnn.cache().repeat().shuffle(num_train_examples).batch(batch_size=32)\n",
    "test_dataset_cnn = test_dataset_cnn.cache().batch(batch_size=32)\n"
   ]
  },
  {
   "cell_type": "code",
   "execution_count": 193,
   "id": "b2648881",
   "metadata": {},
   "outputs": [
    {
     "name": "stdout",
     "output_type": "stream",
     "text": [
      "Epoch 1/10\n",
      "1875/1875 [==============================] - 65s 34ms/step - loss: 0.3998 - accuracy: 0.8546\n",
      "Epoch 2/10\n",
      "1875/1875 [==============================] - 60s 32ms/step - loss: 0.2586 - accuracy: 0.9047\n",
      "Epoch 3/10\n",
      "1875/1875 [==============================] - 63s 33ms/step - loss: 0.2178 - accuracy: 0.9212\n",
      "Epoch 4/10\n",
      "1875/1875 [==============================] - 64s 34ms/step - loss: 0.1844 - accuracy: 0.9316\n",
      "Epoch 5/10\n",
      "1875/1875 [==============================] - 70s 38ms/step - loss: 0.1573 - accuracy: 0.9414\n",
      "Epoch 6/10\n",
      "1875/1875 [==============================] - 69s 37ms/step - loss: 0.1379 - accuracy: 0.9480\n",
      "Epoch 7/10\n",
      "1875/1875 [==============================] - 66s 35ms/step - loss: 0.1163 - accuracy: 0.9563\n",
      "Epoch 8/10\n",
      "1875/1875 [==============================] - 61s 33ms/step - loss: 0.0975 - accuracy: 0.9640\n",
      "Epoch 9/10\n",
      "1875/1875 [==============================] - 61s 33ms/step - loss: 0.0828 - accuracy: 0.9695\n",
      "Epoch 10/10\n",
      "1875/1875 [==============================] - 58s 31ms/step - loss: 0.0698 - accuracy: 0.9738\n"
     ]
    },
    {
     "data": {
      "text/plain": [
       "<keras.callbacks.History at 0x17de9f0b940>"
      ]
     },
     "execution_count": 193,
     "metadata": {},
     "output_type": "execute_result"
    }
   ],
   "source": [
    "\n",
    "model_cnn.fit(train_dataset_cnn, epochs=10, steps_per_epoch=math.ceil(num_train_examples/batch_size))"
   ]
  },
  {
   "cell_type": "code",
   "execution_count": 196,
   "id": "00733260",
   "metadata": {},
   "outputs": [
    {
     "name": "stdout",
     "output_type": "stream",
     "text": [
      "313/313 [==============================] - 1s 2ms/step - loss: 0.4842 - accuracy: 0.8346\n",
      "Accuracy on test dataset: 0.8345999717712402\n"
     ]
    }
   ],
   "source": [
    "y_loss_cnn, y_accuracy_cnn = model.evaluate(test_dataset_cnn, steps=math.ceil(num_test_examples/32))\n",
    "print('Accuracy on test dataset:', y_accuracy_cnn)"
   ]
  },
  {
   "cell_type": "code",
   "execution_count": 199,
   "id": "ff784df3",
   "metadata": {},
   "outputs": [
    {
     "name": "stdout",
     "output_type": "stream",
     "text": [
      "Predicted label: 4\n",
      "actual label: 4\n"
     ]
    }
   ],
   "source": [
    "for test_images, test_labels in test_dataset_cnn.take(1):\n",
    "    test_images = test_images.numpy()\n",
    "    test_labels = test_labels.numpy()\n",
    "\n",
    "predictions = model_cnn.predict(test_images)\n",
    "#np.argmax(predictions[0])\n",
    "print('Predicted label: {}'.format(np.argmax(predictions[0])))\n",
    "print('actual label: {}'.format(test_labels[0]))"
   ]
  }
 ],
 "metadata": {
  "kernelspec": {
   "display_name": "Python 3 (ipykernel)",
   "language": "python",
   "name": "python3"
  },
  "language_info": {
   "codemirror_mode": {
    "name": "ipython",
    "version": 3
   },
   "file_extension": ".py",
   "mimetype": "text/x-python",
   "name": "python",
   "nbconvert_exporter": "python",
   "pygments_lexer": "ipython3",
   "version": "3.9.7"
  }
 },
 "nbformat": 4,
 "nbformat_minor": 5
}
