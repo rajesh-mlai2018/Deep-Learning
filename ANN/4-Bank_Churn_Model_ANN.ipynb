{
 "cells": [
  {
   "cell_type": "code",
   "execution_count": 1,
   "id": "73f0ccf6",
   "metadata": {},
   "outputs": [],
   "source": [
    "import numpy as np\n",
    "import matplotlib.pyplot as plt\n",
    "import pandas as pd\n",
    "import os\n",
    "import glob\n",
    "from pathlib import Path\n",
    "from sklearn.model_selection import train_test_split\n",
    "from sklearn.preprocessing import StandardScaler\n",
    "\n",
    "# Importing the Keras libraries and packages\n",
    "import keras\n",
    "from keras.models import Sequential\n",
    "from keras.layers import Dense\n",
    "from keras.layers import LeakyReLU,PReLU,ELU\n",
    "from keras.layers import Dropout\n",
    "from sklearn import metrics\n",
    "from sklearn.metrics import accuracy_score\n",
    "from sklearn.metrics import confusion_matrix"
   ]
  },
  {
   "cell_type": "code",
   "execution_count": 2,
   "id": "f437228c",
   "metadata": {},
   "outputs": [
    {
     "name": "stdout",
     "output_type": "stream",
     "text": [
      "file to be read: Churn.csv\n"
     ]
    }
   ],
   "source": [
    "#Importing data\n",
    "l_input_files=['Churn']\n",
    "\n",
    "cur_dir=os.getcwd()\n",
    "data_dir=os.path.join(cur_dir,'data','*')\n",
    "ls_files=[f  for f in glob.glob(data_dir) \\\n",
    "          if (Path(f).stem in l_input_files and os.path.basename(f).endswith('csv')) ]\n",
    "\n",
    "#print(ls_files)\n",
    "df=pd.DataFrame()\n",
    "for f in ls_files:\n",
    "    print('file to be read: {}'.format(os.path.basename(f)))\n",
    "    df=pd.read_csv(f)"
   ]
  },
  {
   "cell_type": "code",
   "execution_count": 3,
   "id": "d7d83d1a",
   "metadata": {},
   "outputs": [],
   "source": [
    "churn_df=df.copy()"
   ]
  },
  {
   "cell_type": "code",
   "execution_count": 4,
   "id": "73af3c6a",
   "metadata": {},
   "outputs": [],
   "source": [
    "X = churn_df.iloc[:, 3:13]\n",
    "y = churn_df.iloc[:, 13]"
   ]
  },
  {
   "cell_type": "code",
   "execution_count": 5,
   "id": "44635cbf",
   "metadata": {},
   "outputs": [],
   "source": [
    "#Create dummy variables\n",
    "geography=pd.get_dummies(X[\"Geography\"],drop_first=True)\n",
    "gender=pd.get_dummies(X['Gender'],drop_first=True)"
   ]
  },
  {
   "cell_type": "code",
   "execution_count": 6,
   "id": "9c5310d3",
   "metadata": {},
   "outputs": [],
   "source": [
    "# Concatenate dummy varaibles to Data Frames and drop features\n",
    "X=pd.concat([X,geography,gender],axis=1)\n",
    "X=X.drop(['Geography','Gender'],axis=1)"
   ]
  },
  {
   "cell_type": "code",
   "execution_count": 7,
   "id": "717d4b6f",
   "metadata": {},
   "outputs": [],
   "source": [
    "x_train, x_test, y_train, y_test = train_test_split(X, y, test_size = 0.2, random_state = 0)"
   ]
  },
  {
   "cell_type": "code",
   "execution_count": 8,
   "id": "3c25d27c",
   "metadata": {},
   "outputs": [],
   "source": [
    "# Feature Scaling\n",
    "sc = StandardScaler()\n",
    "X_train = sc.fit_transform(x_train)\n",
    "X_test = sc.transform(x_test)"
   ]
  },
  {
   "cell_type": "markdown",
   "id": "b95bce33",
   "metadata": {},
   "source": [
    "## Building ANN"
   ]
  },
  {
   "cell_type": "code",
   "execution_count": 9,
   "id": "8d17e309",
   "metadata": {},
   "outputs": [],
   "source": [
    "model_nn = Sequential()"
   ]
  },
  {
   "cell_type": "code",
   "execution_count": 10,
   "id": "0166394f",
   "metadata": {},
   "outputs": [],
   "source": [
    "model_nn.add(Dense(units = 6, kernel_initializer= 'he_uniform',activation='relu',input_dim = 11))\n",
    "model_nn.add(Dense(units = 6, kernel_initializer = 'he_uniform',activation='relu'))\n",
    "# Adding output layer\n",
    "model_nn.add(Dense(units = 1, kernel_initializer = 'glorot_uniform', activation = 'sigmoid'))"
   ]
  },
  {
   "cell_type": "code",
   "execution_count": 11,
   "id": "d07329ac",
   "metadata": {},
   "outputs": [
    {
     "name": "stdout",
     "output_type": "stream",
     "text": [
      "Model: \"sequential\"\n",
      "_________________________________________________________________\n",
      " Layer (type)                Output Shape              Param #   \n",
      "=================================================================\n",
      " dense (Dense)               (None, 6)                 72        \n",
      "                                                                 \n",
      " dense_1 (Dense)             (None, 6)                 42        \n",
      "                                                                 \n",
      " dense_2 (Dense)             (None, 1)                 7         \n",
      "                                                                 \n",
      "=================================================================\n",
      "Total params: 121\n",
      "Trainable params: 121\n",
      "Non-trainable params: 0\n",
      "_________________________________________________________________\n"
     ]
    }
   ],
   "source": [
    "model_nn.summary()"
   ]
  },
  {
   "cell_type": "code",
   "execution_count": 12,
   "id": "4eb28a15",
   "metadata": {},
   "outputs": [],
   "source": [
    "model_nn.compile(optimizer = 'Adamax', loss = 'binary_crossentropy', metrics = ['accuracy'])"
   ]
  },
  {
   "cell_type": "code",
   "execution_count": 13,
   "id": "54e22b0d",
   "metadata": {},
   "outputs": [
    {
     "name": "stdout",
     "output_type": "stream",
     "text": [
      "Epoch 1/100\n",
      "560/560 [==============================] - 1s 946us/step - loss: 0.6578 - accuracy: 0.6441 - val_loss: 0.5419 - val_accuracy: 0.7758\n",
      "Epoch 2/100\n",
      "560/560 [==============================] - 0s 717us/step - loss: 0.5249 - accuracy: 0.7891 - val_loss: 0.5095 - val_accuracy: 0.7937\n",
      "Epoch 3/100\n",
      "560/560 [==============================] - 0s 789us/step - loss: 0.5009 - accuracy: 0.7957 - val_loss: 0.4946 - val_accuracy: 0.7954\n",
      "Epoch 4/100\n",
      "560/560 [==============================] - 0s 695us/step - loss: 0.4877 - accuracy: 0.7961 - val_loss: 0.4853 - val_accuracy: 0.7954\n",
      "Epoch 5/100\n",
      "560/560 [==============================] - 0s 700us/step - loss: 0.4777 - accuracy: 0.7961 - val_loss: 0.4777 - val_accuracy: 0.7954\n",
      "Epoch 6/100\n",
      "560/560 [==============================] - 0s 673us/step - loss: 0.4697 - accuracy: 0.7961 - val_loss: 0.4713 - val_accuracy: 0.7954\n",
      "Epoch 7/100\n",
      "560/560 [==============================] - 0s 701us/step - loss: 0.4622 - accuracy: 0.7957 - val_loss: 0.4660 - val_accuracy: 0.7954\n",
      "Epoch 8/100\n",
      "560/560 [==============================] - 0s 810us/step - loss: 0.4553 - accuracy: 0.7957 - val_loss: 0.4611 - val_accuracy: 0.7950\n",
      "Epoch 9/100\n",
      "560/560 [==============================] - 1s 993us/step - loss: 0.4486 - accuracy: 0.7955 - val_loss: 0.4562 - val_accuracy: 0.7958\n",
      "Epoch 10/100\n",
      "560/560 [==============================] - 1s 1ms/step - loss: 0.4419 - accuracy: 0.7989 - val_loss: 0.4512 - val_accuracy: 0.7983\n",
      "Epoch 11/100\n",
      "560/560 [==============================] - 1s 1ms/step - loss: 0.4357 - accuracy: 0.7996 - val_loss: 0.4465 - val_accuracy: 0.7992\n",
      "Epoch 12/100\n",
      "560/560 [==============================] - 1s 1ms/step - loss: 0.4297 - accuracy: 0.8046 - val_loss: 0.4419 - val_accuracy: 0.7992\n",
      "Epoch 13/100\n",
      "560/560 [==============================] - 1s 1ms/step - loss: 0.4235 - accuracy: 0.8095 - val_loss: 0.4370 - val_accuracy: 0.8025\n",
      "Epoch 14/100\n",
      "560/560 [==============================] - 1s 1ms/step - loss: 0.4175 - accuracy: 0.8116 - val_loss: 0.4323 - val_accuracy: 0.8058\n",
      "Epoch 15/100\n",
      "560/560 [==============================] - 1s 1ms/step - loss: 0.4120 - accuracy: 0.8180 - val_loss: 0.4276 - val_accuracy: 0.8125\n",
      "Epoch 16/100\n",
      "560/560 [==============================] - 1s 1ms/step - loss: 0.4070 - accuracy: 0.8211 - val_loss: 0.4241 - val_accuracy: 0.8129\n",
      "Epoch 17/100\n",
      "560/560 [==============================] - 1s 1ms/step - loss: 0.4023 - accuracy: 0.8232 - val_loss: 0.4202 - val_accuracy: 0.8150\n",
      "Epoch 18/100\n",
      "560/560 [==============================] - 1s 1ms/step - loss: 0.3982 - accuracy: 0.8261 - val_loss: 0.4165 - val_accuracy: 0.8179\n",
      "Epoch 19/100\n",
      "560/560 [==============================] - 1s 1ms/step - loss: 0.3941 - accuracy: 0.8284 - val_loss: 0.4132 - val_accuracy: 0.8213\n",
      "Epoch 20/100\n",
      "560/560 [==============================] - 1s 1ms/step - loss: 0.3903 - accuracy: 0.8293 - val_loss: 0.4105 - val_accuracy: 0.8221\n",
      "Epoch 21/100\n",
      "560/560 [==============================] - 1s 1ms/step - loss: 0.3871 - accuracy: 0.8339 - val_loss: 0.4074 - val_accuracy: 0.8254\n",
      "Epoch 22/100\n",
      "560/560 [==============================] - 1s 1ms/step - loss: 0.3843 - accuracy: 0.8350 - val_loss: 0.4050 - val_accuracy: 0.8258\n",
      "Epoch 23/100\n",
      "560/560 [==============================] - 1s 1ms/step - loss: 0.3817 - accuracy: 0.8343 - val_loss: 0.4026 - val_accuracy: 0.8267\n",
      "Epoch 24/100\n",
      "560/560 [==============================] - 1s 1ms/step - loss: 0.3793 - accuracy: 0.8359 - val_loss: 0.4007 - val_accuracy: 0.8300\n",
      "Epoch 25/100\n",
      "560/560 [==============================] - 1s 1ms/step - loss: 0.3772 - accuracy: 0.8371 - val_loss: 0.3987 - val_accuracy: 0.8308\n",
      "Epoch 26/100\n",
      "560/560 [==============================] - 1s 1ms/step - loss: 0.3751 - accuracy: 0.8380 - val_loss: 0.3971 - val_accuracy: 0.8317\n",
      "Epoch 27/100\n",
      "560/560 [==============================] - 1s 1ms/step - loss: 0.3730 - accuracy: 0.8386 - val_loss: 0.3957 - val_accuracy: 0.8317\n",
      "Epoch 28/100\n",
      "560/560 [==============================] - 1s 1ms/step - loss: 0.3712 - accuracy: 0.8402 - val_loss: 0.3942 - val_accuracy: 0.8325\n",
      "Epoch 29/100\n",
      "560/560 [==============================] - 1s 1ms/step - loss: 0.3696 - accuracy: 0.8398 - val_loss: 0.3930 - val_accuracy: 0.8342\n",
      "Epoch 30/100\n",
      "560/560 [==============================] - 1s 1ms/step - loss: 0.3681 - accuracy: 0.8423 - val_loss: 0.3916 - val_accuracy: 0.8338\n",
      "Epoch 31/100\n",
      "560/560 [==============================] - 1s 1ms/step - loss: 0.3665 - accuracy: 0.8421 - val_loss: 0.3906 - val_accuracy: 0.8333\n",
      "Epoch 32/100\n",
      "560/560 [==============================] - 1s 972us/step - loss: 0.3650 - accuracy: 0.8439 - val_loss: 0.3890 - val_accuracy: 0.8354\n",
      "Epoch 33/100\n",
      "560/560 [==============================] - 1s 1ms/step - loss: 0.3633 - accuracy: 0.8443 - val_loss: 0.3879 - val_accuracy: 0.8383\n",
      "Epoch 34/100\n",
      "560/560 [==============================] - 1s 972us/step - loss: 0.3619 - accuracy: 0.8448 - val_loss: 0.3867 - val_accuracy: 0.8383\n",
      "Epoch 35/100\n",
      "560/560 [==============================] - 1s 1ms/step - loss: 0.3607 - accuracy: 0.8462 - val_loss: 0.3857 - val_accuracy: 0.8371\n",
      "Epoch 36/100\n",
      "560/560 [==============================] - 1s 979us/step - loss: 0.3593 - accuracy: 0.8480 - val_loss: 0.3843 - val_accuracy: 0.8375\n",
      "Epoch 37/100\n",
      "560/560 [==============================] - 1s 1ms/step - loss: 0.3583 - accuracy: 0.8473 - val_loss: 0.3832 - val_accuracy: 0.8379\n",
      "Epoch 38/100\n",
      "560/560 [==============================] - 1s 960us/step - loss: 0.3570 - accuracy: 0.8507 - val_loss: 0.3824 - val_accuracy: 0.8392\n",
      "Epoch 39/100\n",
      "560/560 [==============================] - 1s 1ms/step - loss: 0.3559 - accuracy: 0.8504 - val_loss: 0.3811 - val_accuracy: 0.8392\n",
      "Epoch 40/100\n",
      "560/560 [==============================] - 1s 1ms/step - loss: 0.3547 - accuracy: 0.8498 - val_loss: 0.3799 - val_accuracy: 0.8404\n",
      "Epoch 41/100\n",
      "560/560 [==============================] - 1s 1ms/step - loss: 0.3535 - accuracy: 0.8498 - val_loss: 0.3788 - val_accuracy: 0.8413\n",
      "Epoch 42/100\n",
      "560/560 [==============================] - 1s 979us/step - loss: 0.3525 - accuracy: 0.8507 - val_loss: 0.3781 - val_accuracy: 0.8396\n",
      "Epoch 43/100\n",
      "560/560 [==============================] - 1s 1ms/step - loss: 0.3515 - accuracy: 0.8511 - val_loss: 0.3774 - val_accuracy: 0.8396\n",
      "Epoch 44/100\n",
      "560/560 [==============================] - 1s 942us/step - loss: 0.3507 - accuracy: 0.8529 - val_loss: 0.3763 - val_accuracy: 0.8421\n",
      "Epoch 45/100\n",
      "560/560 [==============================] - 1s 1ms/step - loss: 0.3496 - accuracy: 0.8536 - val_loss: 0.3756 - val_accuracy: 0.8417\n",
      "Epoch 46/100\n",
      "560/560 [==============================] - 1s 986us/step - loss: 0.3489 - accuracy: 0.8532 - val_loss: 0.3746 - val_accuracy: 0.8438\n",
      "Epoch 47/100\n",
      "560/560 [==============================] - 1s 959us/step - loss: 0.3479 - accuracy: 0.8550 - val_loss: 0.3739 - val_accuracy: 0.8438\n",
      "Epoch 48/100\n",
      "560/560 [==============================] - 1s 964us/step - loss: 0.3471 - accuracy: 0.8536 - val_loss: 0.3732 - val_accuracy: 0.8454\n",
      "Epoch 49/100\n",
      "560/560 [==============================] - 1s 964us/step - loss: 0.3464 - accuracy: 0.8545 - val_loss: 0.3725 - val_accuracy: 0.8450\n",
      "Epoch 50/100\n",
      "560/560 [==============================] - 1s 1ms/step - loss: 0.3459 - accuracy: 0.8548 - val_loss: 0.3719 - val_accuracy: 0.8442\n",
      "Epoch 51/100\n",
      "560/560 [==============================] - 1s 960us/step - loss: 0.3453 - accuracy: 0.8550 - val_loss: 0.3714 - val_accuracy: 0.8442\n",
      "Epoch 52/100\n",
      "560/560 [==============================] - 1s 1ms/step - loss: 0.3446 - accuracy: 0.8550 - val_loss: 0.3709 - val_accuracy: 0.8450\n",
      "Epoch 53/100\n",
      "560/560 [==============================] - 1s 1ms/step - loss: 0.3441 - accuracy: 0.8545 - val_loss: 0.3705 - val_accuracy: 0.8462\n",
      "Epoch 54/100\n",
      "560/560 [==============================] - 1s 1ms/step - loss: 0.3433 - accuracy: 0.8577 - val_loss: 0.3704 - val_accuracy: 0.8462\n",
      "Epoch 55/100\n",
      "560/560 [==============================] - 1s 1ms/step - loss: 0.3431 - accuracy: 0.8570 - val_loss: 0.3695 - val_accuracy: 0.8471\n",
      "Epoch 56/100\n",
      "560/560 [==============================] - 1s 953us/step - loss: 0.3428 - accuracy: 0.8577 - val_loss: 0.3690 - val_accuracy: 0.8475\n",
      "Epoch 57/100\n"
     ]
    },
    {
     "name": "stdout",
     "output_type": "stream",
     "text": [
      "560/560 [==============================] - 0s 832us/step - loss: 0.3421 - accuracy: 0.8587 - val_loss: 0.3685 - val_accuracy: 0.8479\n",
      "Epoch 58/100\n",
      "560/560 [==============================] - 0s 846us/step - loss: 0.3416 - accuracy: 0.8582 - val_loss: 0.3681 - val_accuracy: 0.8483\n",
      "Epoch 59/100\n",
      "560/560 [==============================] - 0s 825us/step - loss: 0.3412 - accuracy: 0.8595 - val_loss: 0.3676 - val_accuracy: 0.8483\n",
      "Epoch 60/100\n",
      "560/560 [==============================] - 0s 830us/step - loss: 0.3409 - accuracy: 0.8596 - val_loss: 0.3672 - val_accuracy: 0.8504\n",
      "Epoch 61/100\n",
      "560/560 [==============================] - 0s 766us/step - loss: 0.3405 - accuracy: 0.8595 - val_loss: 0.3669 - val_accuracy: 0.8504\n",
      "Epoch 62/100\n",
      "560/560 [==============================] - 0s 798us/step - loss: 0.3400 - accuracy: 0.8600 - val_loss: 0.3666 - val_accuracy: 0.8500\n",
      "Epoch 63/100\n",
      "560/560 [==============================] - 0s 871us/step - loss: 0.3400 - accuracy: 0.8596 - val_loss: 0.3661 - val_accuracy: 0.8512\n",
      "Epoch 64/100\n",
      "560/560 [==============================] - 0s 817us/step - loss: 0.3395 - accuracy: 0.8607 - val_loss: 0.3659 - val_accuracy: 0.8508\n",
      "Epoch 65/100\n",
      "560/560 [==============================] - 0s 860us/step - loss: 0.3389 - accuracy: 0.8600 - val_loss: 0.3658 - val_accuracy: 0.8500\n",
      "Epoch 66/100\n",
      "560/560 [==============================] - 1s 975us/step - loss: 0.3389 - accuracy: 0.8614 - val_loss: 0.3654 - val_accuracy: 0.8500\n",
      "Epoch 67/100\n",
      "560/560 [==============================] - 1s 1ms/step - loss: 0.3387 - accuracy: 0.8620 - val_loss: 0.3653 - val_accuracy: 0.8500\n",
      "Epoch 68/100\n",
      "560/560 [==============================] - 1s 1ms/step - loss: 0.3383 - accuracy: 0.8623 - val_loss: 0.3649 - val_accuracy: 0.8508\n",
      "Epoch 69/100\n",
      "560/560 [==============================] - 1s 1ms/step - loss: 0.3382 - accuracy: 0.8609 - val_loss: 0.3648 - val_accuracy: 0.8504\n",
      "Epoch 70/100\n",
      "560/560 [==============================] - 1s 1ms/step - loss: 0.3379 - accuracy: 0.8611 - val_loss: 0.3646 - val_accuracy: 0.8508\n",
      "Epoch 71/100\n",
      "560/560 [==============================] - 1s 1ms/step - loss: 0.3377 - accuracy: 0.8616 - val_loss: 0.3643 - val_accuracy: 0.8500\n",
      "Epoch 72/100\n",
      "560/560 [==============================] - 1s 1ms/step - loss: 0.3375 - accuracy: 0.8618 - val_loss: 0.3646 - val_accuracy: 0.8512\n",
      "Epoch 73/100\n",
      "560/560 [==============================] - 1s 1ms/step - loss: 0.3371 - accuracy: 0.8618 - val_loss: 0.3649 - val_accuracy: 0.8496\n",
      "Epoch 74/100\n",
      "560/560 [==============================] - 1s 1ms/step - loss: 0.3373 - accuracy: 0.8607 - val_loss: 0.3641 - val_accuracy: 0.8521\n",
      "Epoch 75/100\n",
      "560/560 [==============================] - 1s 1ms/step - loss: 0.3368 - accuracy: 0.8616 - val_loss: 0.3639 - val_accuracy: 0.8512\n",
      "Epoch 76/100\n",
      "560/560 [==============================] - 1s 1ms/step - loss: 0.3367 - accuracy: 0.8616 - val_loss: 0.3637 - val_accuracy: 0.8517\n",
      "Epoch 77/100\n",
      "560/560 [==============================] - 1s 1ms/step - loss: 0.3367 - accuracy: 0.8616 - val_loss: 0.3634 - val_accuracy: 0.8512\n",
      "Epoch 78/100\n",
      "560/560 [==============================] - 1s 1ms/step - loss: 0.3364 - accuracy: 0.8614 - val_loss: 0.3633 - val_accuracy: 0.8517\n",
      "Epoch 79/100\n",
      "560/560 [==============================] - 1s 1ms/step - loss: 0.3364 - accuracy: 0.8614 - val_loss: 0.3632 - val_accuracy: 0.8504\n",
      "Epoch 80/100\n",
      "560/560 [==============================] - 1s 1ms/step - loss: 0.3361 - accuracy: 0.8618 - val_loss: 0.3638 - val_accuracy: 0.8508\n",
      "Epoch 81/100\n",
      "560/560 [==============================] - 1s 2ms/step - loss: 0.3361 - accuracy: 0.8623 - val_loss: 0.3634 - val_accuracy: 0.8512\n",
      "Epoch 82/100\n",
      "560/560 [==============================] - 1s 1ms/step - loss: 0.3360 - accuracy: 0.8621 - val_loss: 0.3629 - val_accuracy: 0.8521\n",
      "Epoch 83/100\n",
      "560/560 [==============================] - 1s 1ms/step - loss: 0.3357 - accuracy: 0.8629 - val_loss: 0.3630 - val_accuracy: 0.8521\n",
      "Epoch 84/100\n",
      "560/560 [==============================] - 1s 1ms/step - loss: 0.3359 - accuracy: 0.8620 - val_loss: 0.3628 - val_accuracy: 0.8529\n",
      "Epoch 85/100\n",
      "560/560 [==============================] - 1s 1ms/step - loss: 0.3355 - accuracy: 0.8612 - val_loss: 0.3629 - val_accuracy: 0.8533\n",
      "Epoch 86/100\n",
      "560/560 [==============================] - 1s 1ms/step - loss: 0.3354 - accuracy: 0.8621 - val_loss: 0.3626 - val_accuracy: 0.8521\n",
      "Epoch 87/100\n",
      "560/560 [==============================] - 1s 1ms/step - loss: 0.3353 - accuracy: 0.8616 - val_loss: 0.3625 - val_accuracy: 0.8533\n",
      "Epoch 88/100\n",
      "560/560 [==============================] - 1s 1ms/step - loss: 0.3351 - accuracy: 0.8620 - val_loss: 0.3622 - val_accuracy: 0.8533\n",
      "Epoch 89/100\n",
      "560/560 [==============================] - 1s 1ms/step - loss: 0.3349 - accuracy: 0.8636 - val_loss: 0.3623 - val_accuracy: 0.8525\n",
      "Epoch 90/100\n",
      "560/560 [==============================] - 1s 1ms/step - loss: 0.3349 - accuracy: 0.8625 - val_loss: 0.3622 - val_accuracy: 0.8525\n",
      "Epoch 91/100\n",
      "560/560 [==============================] - 1s 1ms/step - loss: 0.3348 - accuracy: 0.8634 - val_loss: 0.3621 - val_accuracy: 0.8529\n",
      "Epoch 92/100\n",
      "560/560 [==============================] - 1s 1ms/step - loss: 0.3346 - accuracy: 0.8639 - val_loss: 0.3621 - val_accuracy: 0.8525\n",
      "Epoch 93/100\n",
      "560/560 [==============================] - 1s 1ms/step - loss: 0.3345 - accuracy: 0.8636 - val_loss: 0.3619 - val_accuracy: 0.8521\n",
      "Epoch 94/100\n",
      "560/560 [==============================] - 1s 1ms/step - loss: 0.3343 - accuracy: 0.8629 - val_loss: 0.3619 - val_accuracy: 0.8517\n",
      "Epoch 95/100\n",
      "560/560 [==============================] - 1s 1ms/step - loss: 0.3342 - accuracy: 0.8630 - val_loss: 0.3623 - val_accuracy: 0.8525\n",
      "Epoch 96/100\n",
      "560/560 [==============================] - 1s 1ms/step - loss: 0.3341 - accuracy: 0.8623 - val_loss: 0.3622 - val_accuracy: 0.8525\n",
      "Epoch 97/100\n",
      "560/560 [==============================] - 1s 1ms/step - loss: 0.3342 - accuracy: 0.8616 - val_loss: 0.3620 - val_accuracy: 0.8529\n",
      "Epoch 98/100\n",
      "560/560 [==============================] - 1s 1ms/step - loss: 0.3337 - accuracy: 0.8623 - val_loss: 0.3618 - val_accuracy: 0.8521\n",
      "Epoch 99/100\n",
      "560/560 [==============================] - 1s 1ms/step - loss: 0.3332 - accuracy: 0.8630 - val_loss: 0.3624 - val_accuracy: 0.8533\n",
      "Epoch 100/100\n",
      "560/560 [==============================] - 1s 1ms/step - loss: 0.3338 - accuracy: 0.8614 - val_loss: 0.3616 - val_accuracy: 0.8529\n"
     ]
    }
   ],
   "source": [
    "model_nn_hist=model_nn.fit(X_train, y_train,validation_split=0.3, batch_size = 10, epochs = 100)"
   ]
  },
  {
   "cell_type": "code",
   "execution_count": 39,
   "id": "e6c7737c",
   "metadata": {},
   "outputs": [
    {
     "name": "stdout",
     "output_type": "stream",
     "text": [
      "dict_keys(['loss', 'accuracy', 'val_loss', 'val_accuracy'])\n"
     ]
    }
   ],
   "source": [
    "print(model_nn_hist.history.keys())"
   ]
  },
  {
   "cell_type": "code",
   "execution_count": 41,
   "id": "74b8091d",
   "metadata": {},
   "outputs": [
    {
     "data": {
      "image/png": "[encoded data removed]",
      "text/plain": [
       "<Figure size 432x288 with 1 Axes>"
      ]
     },
     "metadata": {
      "needs_background": "light"
     },
     "output_type": "display_data"
    },
    {
     "data": {
      "image/png": "[encoded data removed]",
      "text/plain": [
       "<Figure size 432x288 with 1 Axes>"
      ]
     },
     "metadata": {
      "needs_background": "light"
     },
     "output_type": "display_data"
    }
   ],
   "source": [
    "# summarize history for accuracy\n",
    "plt.plot(model_nn_hist.history['accuracy'])\n",
    "plt.plot(model_nn_hist.history['val_accuracy'])\n",
    "plt.title('model accuracy')\n",
    "plt.ylabel('accuracy')\n",
    "plt.xlabel('epoch')\n",
    "plt.legend(['train', 'test'], loc='upper left')\n",
    "plt.show()\n",
    "\n",
    "# summarize history for loss\n",
    "plt.plot(model_nn_hist.history['loss'])\n",
    "plt.plot(model_nn_hist.history['val_loss'])\n",
    "plt.title('model loss')\n",
    "plt.ylabel('loss')\n",
    "plt.xlabel('epoch')\n",
    "plt.legend(['train', 'test'], loc='upper left')\n",
    "plt.show()\n"
   ]
  },
  {
   "cell_type": "markdown",
   "id": "4c953e0b",
   "metadata": {},
   "source": [
    "## Making the predictions and evaluating the model"
   ]
  },
  {
   "cell_type": "code",
   "execution_count": 42,
   "id": "d06ad930",
   "metadata": {},
   "outputs": [],
   "source": [
    "y_pred = model_nn.predict(X_test)\n",
    "#y_pred1 = (y_pred > 0.5)"
   ]
  },
  {
   "cell_type": "code",
   "execution_count": 43,
   "id": "8bbfa8a9",
   "metadata": {},
   "outputs": [
    {
     "data": {
      "text/plain": [
       "array([[0.27797052],\n",
       "       [0.3749084 ],\n",
       "       [0.15518397],\n",
       "       ...,\n",
       "       [0.21102616],\n",
       "       [0.1440931 ],\n",
       "       [0.16912693]], dtype=float32)"
      ]
     },
     "execution_count": 43,
     "metadata": {},
     "output_type": "execute_result"
    }
   ],
   "source": [
    "y_pred"
   ]
  },
  {
   "cell_type": "code",
   "execution_count": 44,
   "id": "7e7e680d",
   "metadata": {},
   "outputs": [],
   "source": [
    "y_pred_df = pd.DataFrame(y_pred)"
   ]
  },
  {
   "cell_type": "code",
   "execution_count": 45,
   "id": "d0ffd6fc",
   "metadata": {},
   "outputs": [
    {
     "data": {
      "text/html": [
       "<div>\n",
       "<style scoped>\n",
       "    .dataframe tbody tr th:only-of-type {\n",
       "        vertical-align: middle;\n",
       "    }\n",
       "\n",
       "    .dataframe tbody tr th {\n",
       "        vertical-align: top;\n",
       "    }\n",
       "\n",
       "    .dataframe thead th {\n",
       "        text-align: right;\n",
       "    }\n",
       "</style>\n",
       "<table border=\"1\" class=\"dataframe\">\n",
       "  <thead>\n",
       "    <tr style=\"text-align: right;\">\n",
       "      <th></th>\n",
       "      <th>0</th>\n",
       "    </tr>\n",
       "  </thead>\n",
       "  <tbody>\n",
       "    <tr>\n",
       "      <th>0</th>\n",
       "      <td>0.277971</td>\n",
       "    </tr>\n",
       "    <tr>\n",
       "      <th>1</th>\n",
       "      <td>0.374908</td>\n",
       "    </tr>\n",
       "    <tr>\n",
       "      <th>2</th>\n",
       "      <td>0.155184</td>\n",
       "    </tr>\n",
       "    <tr>\n",
       "      <th>3</th>\n",
       "      <td>0.090318</td>\n",
       "    </tr>\n",
       "    <tr>\n",
       "      <th>4</th>\n",
       "      <td>0.066134</td>\n",
       "    </tr>\n",
       "  </tbody>\n",
       "</table>\n",
       "</div>"
      ],
      "text/plain": [
       "          0\n",
       "0  0.277971\n",
       "1  0.374908\n",
       "2  0.155184\n",
       "3  0.090318\n",
       "4  0.066134"
      ]
     },
     "execution_count": 45,
     "metadata": {},
     "output_type": "execute_result"
    }
   ],
   "source": [
    "y_pred_df.head()"
   ]
  },
  {
   "cell_type": "code",
   "execution_count": 46,
   "id": "83db0900",
   "metadata": {},
   "outputs": [
    {
     "data": {
      "text/html": [
       "<div>\n",
       "<style scoped>\n",
       "    .dataframe tbody tr th:only-of-type {\n",
       "        vertical-align: middle;\n",
       "    }\n",
       "\n",
       "    .dataframe tbody tr th {\n",
       "        vertical-align: top;\n",
       "    }\n",
       "\n",
       "    .dataframe thead th {\n",
       "        text-align: right;\n",
       "    }\n",
       "</style>\n",
       "<table border=\"1\" class=\"dataframe\">\n",
       "  <thead>\n",
       "    <tr style=\"text-align: right;\">\n",
       "      <th></th>\n",
       "      <th>Exited</th>\n",
       "    </tr>\n",
       "  </thead>\n",
       "  <tbody>\n",
       "    <tr>\n",
       "      <th>9394</th>\n",
       "      <td>0</td>\n",
       "    </tr>\n",
       "    <tr>\n",
       "      <th>898</th>\n",
       "      <td>1</td>\n",
       "    </tr>\n",
       "    <tr>\n",
       "      <th>2398</th>\n",
       "      <td>0</td>\n",
       "    </tr>\n",
       "    <tr>\n",
       "      <th>5906</th>\n",
       "      <td>0</td>\n",
       "    </tr>\n",
       "    <tr>\n",
       "      <th>2343</th>\n",
       "      <td>0</td>\n",
       "    </tr>\n",
       "  </tbody>\n",
       "</table>\n",
       "</div>"
      ],
      "text/plain": [
       "      Exited\n",
       "9394       0\n",
       "898        1\n",
       "2398       0\n",
       "5906       0\n",
       "2343       0"
      ]
     },
     "execution_count": 46,
     "metadata": {},
     "output_type": "execute_result"
    }
   ],
   "source": [
    "y_test_df = pd.DataFrame(y_test)\n",
    "y_test_df.head()"
   ]
  },
  {
   "cell_type": "code",
   "execution_count": 47,
   "id": "831bf79e",
   "metadata": {},
   "outputs": [],
   "source": [
    "y_test_df['ID'] = y_test_df.index"
   ]
  },
  {
   "cell_type": "code",
   "execution_count": 48,
   "id": "243418d9",
   "metadata": {},
   "outputs": [
    {
     "data": {
      "text/html": [
       "<div>\n",
       "<style scoped>\n",
       "    .dataframe tbody tr th:only-of-type {\n",
       "        vertical-align: middle;\n",
       "    }\n",
       "\n",
       "    .dataframe tbody tr th {\n",
       "        vertical-align: top;\n",
       "    }\n",
       "\n",
       "    .dataframe thead th {\n",
       "        text-align: right;\n",
       "    }\n",
       "</style>\n",
       "<table border=\"1\" class=\"dataframe\">\n",
       "  <thead>\n",
       "    <tr style=\"text-align: right;\">\n",
       "      <th></th>\n",
       "      <th>Exited</th>\n",
       "      <th>ID</th>\n",
       "    </tr>\n",
       "  </thead>\n",
       "  <tbody>\n",
       "    <tr>\n",
       "      <th>9394</th>\n",
       "      <td>0</td>\n",
       "      <td>9394</td>\n",
       "    </tr>\n",
       "    <tr>\n",
       "      <th>898</th>\n",
       "      <td>1</td>\n",
       "      <td>898</td>\n",
       "    </tr>\n",
       "    <tr>\n",
       "      <th>2398</th>\n",
       "      <td>0</td>\n",
       "      <td>2398</td>\n",
       "    </tr>\n",
       "    <tr>\n",
       "      <th>5906</th>\n",
       "      <td>0</td>\n",
       "      <td>5906</td>\n",
       "    </tr>\n",
       "    <tr>\n",
       "      <th>2343</th>\n",
       "      <td>0</td>\n",
       "      <td>2343</td>\n",
       "    </tr>\n",
       "  </tbody>\n",
       "</table>\n",
       "</div>"
      ],
      "text/plain": [
       "      Exited    ID\n",
       "9394       0  9394\n",
       "898        1   898\n",
       "2398       0  2398\n",
       "5906       0  5906\n",
       "2343       0  2343"
      ]
     },
     "execution_count": 48,
     "metadata": {},
     "output_type": "execute_result"
    }
   ],
   "source": [
    "y_test_df.head()"
   ]
  },
  {
   "cell_type": "code",
   "execution_count": 49,
   "id": "2347ac89",
   "metadata": {},
   "outputs": [],
   "source": [
    "y_pred_df.reset_index(drop=True, inplace=True)\n",
    "y_test_df.reset_index(drop=True, inplace=True)"
   ]
  },
  {
   "cell_type": "code",
   "execution_count": 50,
   "id": "2dad98ae",
   "metadata": {},
   "outputs": [],
   "source": [
    "y_pred_final = pd.concat([y_test_df,y_pred_df],axis=1)"
   ]
  },
  {
   "cell_type": "code",
   "execution_count": 51,
   "id": "cbe12486",
   "metadata": {},
   "outputs": [],
   "source": [
    "y_pred_final= y_pred_final.rename(columns={ 0: 'Churn_Prob'})"
   ]
  },
  {
   "cell_type": "code",
   "execution_count": 52,
   "id": "7ea6aafc",
   "metadata": {},
   "outputs": [],
   "source": [
    "y_pred_final['predicted'] = y_pred_final.Churn_Prob.map( lambda x: 1 if x > 0.5 else 0)"
   ]
  },
  {
   "cell_type": "code",
   "execution_count": 53,
   "id": "876c331a",
   "metadata": {},
   "outputs": [
    {
     "data": {
      "text/html": [
       "<div>\n",
       "<style scoped>\n",
       "    .dataframe tbody tr th:only-of-type {\n",
       "        vertical-align: middle;\n",
       "    }\n",
       "\n",
       "    .dataframe tbody tr th {\n",
       "        vertical-align: top;\n",
       "    }\n",
       "\n",
       "    .dataframe thead th {\n",
       "        text-align: right;\n",
       "    }\n",
       "</style>\n",
       "<table border=\"1\" class=\"dataframe\">\n",
       "  <thead>\n",
       "    <tr style=\"text-align: right;\">\n",
       "      <th></th>\n",
       "      <th>Exited</th>\n",
       "      <th>ID</th>\n",
       "      <th>Churn_Prob</th>\n",
       "      <th>predicted</th>\n",
       "    </tr>\n",
       "  </thead>\n",
       "  <tbody>\n",
       "    <tr>\n",
       "      <th>0</th>\n",
       "      <td>0</td>\n",
       "      <td>9394</td>\n",
       "      <td>0.277971</td>\n",
       "      <td>0</td>\n",
       "    </tr>\n",
       "    <tr>\n",
       "      <th>1</th>\n",
       "      <td>1</td>\n",
       "      <td>898</td>\n",
       "      <td>0.374908</td>\n",
       "      <td>0</td>\n",
       "    </tr>\n",
       "    <tr>\n",
       "      <th>2</th>\n",
       "      <td>0</td>\n",
       "      <td>2398</td>\n",
       "      <td>0.155184</td>\n",
       "      <td>0</td>\n",
       "    </tr>\n",
       "    <tr>\n",
       "      <th>3</th>\n",
       "      <td>0</td>\n",
       "      <td>5906</td>\n",
       "      <td>0.090318</td>\n",
       "      <td>0</td>\n",
       "    </tr>\n",
       "    <tr>\n",
       "      <th>4</th>\n",
       "      <td>0</td>\n",
       "      <td>2343</td>\n",
       "      <td>0.066134</td>\n",
       "      <td>0</td>\n",
       "    </tr>\n",
       "  </tbody>\n",
       "</table>\n",
       "</div>"
      ],
      "text/plain": [
       "   Exited    ID  Churn_Prob  predicted\n",
       "0       0  9394    0.277971          0\n",
       "1       1   898    0.374908          0\n",
       "2       0  2398    0.155184          0\n",
       "3       0  5906    0.090318          0\n",
       "4       0  2343    0.066134          0"
      ]
     },
     "execution_count": 53,
     "metadata": {},
     "output_type": "execute_result"
    }
   ],
   "source": [
    "y_pred_final.head()"
   ]
  },
  {
   "cell_type": "code",
   "execution_count": 54,
   "id": "af6a53be",
   "metadata": {},
   "outputs": [
    {
     "data": {
      "text/plain": [
       "array([[1524,   71],\n",
       "       [ 201,  204]], dtype=int64)"
      ]
     },
     "execution_count": 54,
     "metadata": {},
     "output_type": "execute_result"
    }
   ],
   "source": [
    "confusion = confusion_matrix( y_pred_final.Exited, y_pred_final.predicted )\n",
    "confusion"
   ]
  },
  {
   "cell_type": "code",
   "execution_count": 55,
   "id": "bb608f70",
   "metadata": {},
   "outputs": [
    {
     "data": {
      "text/plain": [
       "0.864"
      ]
     },
     "execution_count": 55,
     "metadata": {},
     "output_type": "execute_result"
    }
   ],
   "source": [
    "accuracy_score( y_pred_final.Exited, y_pred_final.predicted)"
   ]
  },
  {
   "cell_type": "markdown",
   "id": "407630e7",
   "metadata": {},
   "source": [
    "### ROC Curve"
   ]
  },
  {
   "cell_type": "code",
   "execution_count": 56,
   "id": "d0dc5a95",
   "metadata": {},
   "outputs": [],
   "source": [
    "def draw_roc( actual, probs ):\n",
    "    fpr, tpr, thresholds = metrics.roc_curve( actual, probs,\n",
    "                                              drop_intermediate = False )\n",
    "    auc_score = metrics.roc_auc_score( actual, probs )\n",
    "    plt.figure(figsize=(6, 4))\n",
    "    plt.plot( fpr, tpr, label='ROC curve (area = %0.2f)' % auc_score )\n",
    "    plt.plot([0, 1], [0, 1], 'k--')\n",
    "    plt.xlim([0.0, 1.0])\n",
    "    plt.ylim([0.0, 1.05])\n",
    "    plt.xlabel('False Positive Rate or [1 - True Negative Rate]')\n",
    "    plt.ylabel('True Positive Rate')\n",
    "    plt.title('Receiver operating characteristic example')\n",
    "    plt.legend(loc=\"lower right\")\n",
    "    plt.show()\n",
    "\n",
    "    return fpr, tpr, thresholds"
   ]
  },
  {
   "cell_type": "code",
   "execution_count": 57,
   "id": "42bf0fe7",
   "metadata": {},
   "outputs": [
    {
     "data": {
      "image/png": "[encoded data removed]",
      "text/plain": [
       "<Figure size 432x288 with 1 Axes>"
      ]
     },
     "metadata": {
      "needs_background": "light"
     },
     "output_type": "display_data"
    },
    {
     "data": {
      "text/plain": [
       "(array([0.        , 0.04451411, 1.        ]),\n",
       " array([0.       , 0.5037037, 1.       ]),\n",
       " array([2, 1, 0], dtype=int64))"
      ]
     },
     "execution_count": 57,
     "metadata": {},
     "output_type": "execute_result"
    }
   ],
   "source": [
    "draw_roc(y_pred_final.Exited, y_pred_final.predicted)"
   ]
  },
  {
   "cell_type": "code",
   "execution_count": 58,
   "id": "911b3e10",
   "metadata": {},
   "outputs": [
    {
     "data": {
      "text/html": [
       "<div>\n",
       "<style scoped>\n",
       "    .dataframe tbody tr th:only-of-type {\n",
       "        vertical-align: middle;\n",
       "    }\n",
       "\n",
       "    .dataframe tbody tr th {\n",
       "        vertical-align: top;\n",
       "    }\n",
       "\n",
       "    .dataframe thead th {\n",
       "        text-align: right;\n",
       "    }\n",
       "</style>\n",
       "<table border=\"1\" class=\"dataframe\">\n",
       "  <thead>\n",
       "    <tr style=\"text-align: right;\">\n",
       "      <th></th>\n",
       "      <th>Exited</th>\n",
       "      <th>ID</th>\n",
       "      <th>Churn_Prob</th>\n",
       "      <th>predicted</th>\n",
       "      <th>0.0</th>\n",
       "      <th>0.1</th>\n",
       "      <th>0.2</th>\n",
       "      <th>0.3</th>\n",
       "      <th>0.4</th>\n",
       "      <th>0.5</th>\n",
       "      <th>0.6</th>\n",
       "      <th>0.7</th>\n",
       "      <th>0.8</th>\n",
       "      <th>0.9</th>\n",
       "    </tr>\n",
       "  </thead>\n",
       "  <tbody>\n",
       "    <tr>\n",
       "      <th>0</th>\n",
       "      <td>0</td>\n",
       "      <td>9394</td>\n",
       "      <td>0.277971</td>\n",
       "      <td>0</td>\n",
       "      <td>1</td>\n",
       "      <td>1</td>\n",
       "      <td>1</td>\n",
       "      <td>0</td>\n",
       "      <td>0</td>\n",
       "      <td>0</td>\n",
       "      <td>0</td>\n",
       "      <td>0</td>\n",
       "      <td>0</td>\n",
       "      <td>0</td>\n",
       "    </tr>\n",
       "    <tr>\n",
       "      <th>1</th>\n",
       "      <td>1</td>\n",
       "      <td>898</td>\n",
       "      <td>0.374908</td>\n",
       "      <td>0</td>\n",
       "      <td>1</td>\n",
       "      <td>1</td>\n",
       "      <td>1</td>\n",
       "      <td>1</td>\n",
       "      <td>0</td>\n",
       "      <td>0</td>\n",
       "      <td>0</td>\n",
       "      <td>0</td>\n",
       "      <td>0</td>\n",
       "      <td>0</td>\n",
       "    </tr>\n",
       "    <tr>\n",
       "      <th>2</th>\n",
       "      <td>0</td>\n",
       "      <td>2398</td>\n",
       "      <td>0.155184</td>\n",
       "      <td>0</td>\n",
       "      <td>1</td>\n",
       "      <td>1</td>\n",
       "      <td>0</td>\n",
       "      <td>0</td>\n",
       "      <td>0</td>\n",
       "      <td>0</td>\n",
       "      <td>0</td>\n",
       "      <td>0</td>\n",
       "      <td>0</td>\n",
       "      <td>0</td>\n",
       "    </tr>\n",
       "    <tr>\n",
       "      <th>3</th>\n",
       "      <td>0</td>\n",
       "      <td>5906</td>\n",
       "      <td>0.090318</td>\n",
       "      <td>0</td>\n",
       "      <td>1</td>\n",
       "      <td>0</td>\n",
       "      <td>0</td>\n",
       "      <td>0</td>\n",
       "      <td>0</td>\n",
       "      <td>0</td>\n",
       "      <td>0</td>\n",
       "      <td>0</td>\n",
       "      <td>0</td>\n",
       "      <td>0</td>\n",
       "    </tr>\n",
       "    <tr>\n",
       "      <th>4</th>\n",
       "      <td>0</td>\n",
       "      <td>2343</td>\n",
       "      <td>0.066134</td>\n",
       "      <td>0</td>\n",
       "      <td>1</td>\n",
       "      <td>0</td>\n",
       "      <td>0</td>\n",
       "      <td>0</td>\n",
       "      <td>0</td>\n",
       "      <td>0</td>\n",
       "      <td>0</td>\n",
       "      <td>0</td>\n",
       "      <td>0</td>\n",
       "      <td>0</td>\n",
       "    </tr>\n",
       "  </tbody>\n",
       "</table>\n",
       "</div>"
      ],
      "text/plain": [
       "   Exited    ID  Churn_Prob  predicted  0.0  0.1  0.2  0.3  0.4  0.5  0.6  \\\n",
       "0       0  9394    0.277971          0    1    1    1    0    0    0    0   \n",
       "1       1   898    0.374908          0    1    1    1    1    0    0    0   \n",
       "2       0  2398    0.155184          0    1    1    0    0    0    0    0   \n",
       "3       0  5906    0.090318          0    1    0    0    0    0    0    0   \n",
       "4       0  2343    0.066134          0    1    0    0    0    0    0    0   \n",
       "\n",
       "   0.7  0.8  0.9  \n",
       "0    0    0    0  \n",
       "1    0    0    0  \n",
       "2    0    0    0  \n",
       "3    0    0    0  \n",
       "4    0    0    0  "
      ]
     },
     "execution_count": 58,
     "metadata": {},
     "output_type": "execute_result"
    }
   ],
   "source": [
    "# Let's create columns with different probability cutoffs \n",
    "numbers = [float(x)/10 for x in range(10)]\n",
    "for i in numbers:\n",
    "    y_pred_final[i]= y_pred_final.Churn_Prob.map( lambda x: 1 if x > i else 0)\n",
    "y_pred_final.head()"
   ]
  },
  {
   "cell_type": "code",
   "execution_count": 33,
   "id": "1b897b46",
   "metadata": {},
   "outputs": [
    {
     "name": "stdout",
     "output_type": "stream",
     "text": [
      "     prob  accuracy     sensi     speci\n",
      "0.0   0.0    0.2025  0.000000  1.000000\n",
      "0.1   0.1    0.6405  0.571787  0.911111\n",
      "0.2   0.2    0.7620  0.751724  0.802469\n",
      "0.3   0.3    0.8170  0.848276  0.693827\n",
      "0.4   0.4    0.8440  0.910345  0.582716\n",
      "0.5   0.5    0.8640  0.955486  0.503704\n",
      "0.6   0.6    0.8620  0.973041  0.424691\n",
      "0.7   0.7    0.8580  0.988088  0.345679\n",
      "0.8   0.8    0.8415  0.994984  0.237037\n",
      "0.9   0.9    0.8200  0.999373  0.113580\n"
     ]
    }
   ],
   "source": [
    "# Now let's calculate accuracy sensitivity and specificity for various probability cutoffs.\n",
    "cutoff_df = pd.DataFrame( columns = ['prob','accuracy','sensi','speci'])\n",
    "from sklearn.metrics import confusion_matrix\n",
    "num = [0.0,0.1,0.2,0.3,0.4,0.5,0.6,0.7,0.8,0.9]\n",
    "for i in num:\n",
    "    cm1 = metrics.confusion_matrix( y_pred_final.Exited, y_pred_final[i] )\n",
    "    total1=sum(sum(cm1))\n",
    "    accuracy = (cm1[0,0]+cm1[1,1])/total1\n",
    "    sensi = cm1[0,0]/(cm1[0,0]+cm1[0,1])\n",
    "    speci = cm1[1,1]/(cm1[1,0]+cm1[1,1])\n",
    "    cutoff_df.loc[i] =[ i ,accuracy,sensi,speci]\n",
    "print(cutoff_df)"
   ]
  },
  {
   "cell_type": "code",
   "execution_count": 34,
   "id": "93339f1b",
   "metadata": {},
   "outputs": [
    {
     "data": {
      "text/plain": [
       "<AxesSubplot:xlabel='prob'>"
      ]
     },
     "execution_count": 34,
     "metadata": {},
     "output_type": "execute_result"
    },
    {
     "data": {
      "image/png": "[encoded data removed]",
      "text/plain": [
       "<Figure size 432x288 with 1 Axes>"
      ]
     },
     "metadata": {
      "needs_background": "light"
     },
     "output_type": "display_data"
    }
   ],
   "source": [
    "# Let's plot accuracy sensitivity and specificity for various probabilities.\n",
    "cutoff_df.plot.line(x='prob', y=['accuracy','sensi','speci'])"
   ]
  },
  {
   "cell_type": "markdown",
   "id": "9753c552",
   "metadata": {},
   "source": [
    "#### From the curve above, 0.4 is the optimum point to take it as a cutoff probability."
   ]
  },
  {
   "cell_type": "code",
   "execution_count": 35,
   "id": "5706c451",
   "metadata": {},
   "outputs": [],
   "source": [
    "y_pred_final['final_predicted'] = y_pred_final.Churn_Prob.map( lambda x: 1 if x > 0.4 else 0)"
   ]
  },
  {
   "cell_type": "code",
   "execution_count": 36,
   "id": "75cfb477",
   "metadata": {},
   "outputs": [
    {
     "data": {
      "text/html": [
       "<div>\n",
       "<style scoped>\n",
       "    .dataframe tbody tr th:only-of-type {\n",
       "        vertical-align: middle;\n",
       "    }\n",
       "\n",
       "    .dataframe tbody tr th {\n",
       "        vertical-align: top;\n",
       "    }\n",
       "\n",
       "    .dataframe thead th {\n",
       "        text-align: right;\n",
       "    }\n",
       "</style>\n",
       "<table border=\"1\" class=\"dataframe\">\n",
       "  <thead>\n",
       "    <tr style=\"text-align: right;\">\n",
       "      <th></th>\n",
       "      <th>Exited</th>\n",
       "      <th>ID</th>\n",
       "      <th>Churn_Prob</th>\n",
       "      <th>predicted</th>\n",
       "      <th>0.0</th>\n",
       "      <th>0.1</th>\n",
       "      <th>0.2</th>\n",
       "      <th>0.3</th>\n",
       "      <th>0.4</th>\n",
       "      <th>0.5</th>\n",
       "      <th>0.6</th>\n",
       "      <th>0.7</th>\n",
       "      <th>0.8</th>\n",
       "      <th>0.9</th>\n",
       "      <th>final_predicted</th>\n",
       "    </tr>\n",
       "  </thead>\n",
       "  <tbody>\n",
       "    <tr>\n",
       "      <th>0</th>\n",
       "      <td>0</td>\n",
       "      <td>9394</td>\n",
       "      <td>0.277971</td>\n",
       "      <td>0</td>\n",
       "      <td>1</td>\n",
       "      <td>1</td>\n",
       "      <td>1</td>\n",
       "      <td>0</td>\n",
       "      <td>0</td>\n",
       "      <td>0</td>\n",
       "      <td>0</td>\n",
       "      <td>0</td>\n",
       "      <td>0</td>\n",
       "      <td>0</td>\n",
       "      <td>0</td>\n",
       "    </tr>\n",
       "    <tr>\n",
       "      <th>1</th>\n",
       "      <td>1</td>\n",
       "      <td>898</td>\n",
       "      <td>0.374908</td>\n",
       "      <td>0</td>\n",
       "      <td>1</td>\n",
       "      <td>1</td>\n",
       "      <td>1</td>\n",
       "      <td>1</td>\n",
       "      <td>0</td>\n",
       "      <td>0</td>\n",
       "      <td>0</td>\n",
       "      <td>0</td>\n",
       "      <td>0</td>\n",
       "      <td>0</td>\n",
       "      <td>0</td>\n",
       "    </tr>\n",
       "    <tr>\n",
       "      <th>2</th>\n",
       "      <td>0</td>\n",
       "      <td>2398</td>\n",
       "      <td>0.155184</td>\n",
       "      <td>0</td>\n",
       "      <td>1</td>\n",
       "      <td>1</td>\n",
       "      <td>0</td>\n",
       "      <td>0</td>\n",
       "      <td>0</td>\n",
       "      <td>0</td>\n",
       "      <td>0</td>\n",
       "      <td>0</td>\n",
       "      <td>0</td>\n",
       "      <td>0</td>\n",
       "      <td>0</td>\n",
       "    </tr>\n",
       "    <tr>\n",
       "      <th>3</th>\n",
       "      <td>0</td>\n",
       "      <td>5906</td>\n",
       "      <td>0.090318</td>\n",
       "      <td>0</td>\n",
       "      <td>1</td>\n",
       "      <td>0</td>\n",
       "      <td>0</td>\n",
       "      <td>0</td>\n",
       "      <td>0</td>\n",
       "      <td>0</td>\n",
       "      <td>0</td>\n",
       "      <td>0</td>\n",
       "      <td>0</td>\n",
       "      <td>0</td>\n",
       "      <td>0</td>\n",
       "    </tr>\n",
       "    <tr>\n",
       "      <th>4</th>\n",
       "      <td>0</td>\n",
       "      <td>2343</td>\n",
       "      <td>0.066134</td>\n",
       "      <td>0</td>\n",
       "      <td>1</td>\n",
       "      <td>0</td>\n",
       "      <td>0</td>\n",
       "      <td>0</td>\n",
       "      <td>0</td>\n",
       "      <td>0</td>\n",
       "      <td>0</td>\n",
       "      <td>0</td>\n",
       "      <td>0</td>\n",
       "      <td>0</td>\n",
       "      <td>0</td>\n",
       "    </tr>\n",
       "  </tbody>\n",
       "</table>\n",
       "</div>"
      ],
      "text/plain": [
       "   Exited    ID  Churn_Prob  predicted  0.0  0.1  0.2  0.3  0.4  0.5  0.6  \\\n",
       "0       0  9394    0.277971          0    1    1    1    0    0    0    0   \n",
       "1       1   898    0.374908          0    1    1    1    1    0    0    0   \n",
       "2       0  2398    0.155184          0    1    1    0    0    0    0    0   \n",
       "3       0  5906    0.090318          0    1    0    0    0    0    0    0   \n",
       "4       0  2343    0.066134          0    1    0    0    0    0    0    0   \n",
       "\n",
       "   0.7  0.8  0.9  final_predicted  \n",
       "0    0    0    0                0  \n",
       "1    0    0    0                0  \n",
       "2    0    0    0                0  \n",
       "3    0    0    0                0  \n",
       "4    0    0    0                0  "
      ]
     },
     "execution_count": 36,
     "metadata": {},
     "output_type": "execute_result"
    }
   ],
   "source": [
    "y_pred_final.head()"
   ]
  },
  {
   "cell_type": "code",
   "execution_count": 37,
   "id": "a3347597",
   "metadata": {},
   "outputs": [
    {
     "data": {
      "text/plain": [
       "0.844"
      ]
     },
     "execution_count": 37,
     "metadata": {},
     "output_type": "execute_result"
    }
   ],
   "source": [
    "accuracy_score( y_pred_final.Exited, y_pred_final.final_predicted)"
   ]
  },
  {
   "cell_type": "code",
   "execution_count": 38,
   "id": "939fb25d",
   "metadata": {},
   "outputs": [
    {
     "data": {
      "text/plain": [
       "array([[1452,  143],\n",
       "       [ 169,  236]], dtype=int64)"
      ]
     },
     "execution_count": 38,
     "metadata": {},
     "output_type": "execute_result"
    }
   ],
   "source": [
    "confusion_matrix( y_pred_final.Exited, y_pred_final.final_predicted )"
   ]
  },
  {
   "cell_type": "code",
   "execution_count": null,
   "id": "dc167e99",
   "metadata": {},
   "outputs": [],
   "source": []
  }
 ],
 "metadata": {
  "kernelspec": {
   "display_name": "Python 3 (ipykernel)",
   "language": "python",
   "name": "python3"
  },
  "language_info": {
   "codemirror_mode": {
    "name": "ipython",
    "version": 3
   },
   "file_extension": ".py",
   "mimetype": "text/x-python",
   "name": "python",
   "nbconvert_exporter": "python",
   "pygments_lexer": "ipython3",
   "version": "3.9.7"
  }
 },
 "nbformat": 4,
 "nbformat_minor": 5
}
