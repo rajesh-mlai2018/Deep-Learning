{
 "cells": [
  {
   "cell_type": "code",
   "execution_count": 1,
   "id": "73f0ccf6",
   "metadata": {},
   "outputs": [
    {
     "name": "stderr",
     "output_type": "stream",
     "text": [
      "C:\\Users\\RPAREPAL\\AppData\\Local\\Temp/ipykernel_13136/4269418548.py:21: DeprecationWarning: `import kerastuner` is deprecated, please use `import keras_tuner`.\n",
      "  from kerastuner.tuners import RandomSearch\n"
     ]
    }
   ],
   "source": [
    "import numpy as np\n",
    "import matplotlib.pyplot as plt\n",
    "import pandas as pd\n",
    "import os\n",
    "import glob\n",
    "from pathlib import Path\n",
    "from sklearn.model_selection import train_test_split\n",
    "from sklearn.preprocessing import StandardScaler\n",
    "\n",
    "# Importing the Keras libraries and packages\n",
    "import tensorflow as tf\n",
    "from tensorflow import keras\n",
    "from keras.models import Sequential\n",
    "from keras.layers import Dense\n",
    "from keras.layers import LeakyReLU,PReLU,ELU\n",
    "from keras.layers import Dropout\n",
    "from sklearn import metrics\n",
    "from sklearn.metrics import accuracy_score\n",
    "from sklearn.metrics import confusion_matrix\n",
    "\n",
    "from kerastuner.tuners import RandomSearch"
   ]
  },
  {
   "cell_type": "code",
   "execution_count": 2,
   "id": "f437228c",
   "metadata": {},
   "outputs": [
    {
     "name": "stdout",
     "output_type": "stream",
     "text": [
      "file to be read: Churn.csv\n"
     ]
    }
   ],
   "source": [
    "#Importing data\n",
    "l_input_files=['Churn']\n",
    "\n",
    "cur_dir=os.getcwd()\n",
    "data_dir=os.path.join(cur_dir,'data','*')\n",
    "ls_files=[f  for f in glob.glob(data_dir) \\\n",
    "          if (Path(f).stem in l_input_files and os.path.basename(f).endswith('csv')) ]\n",
    "\n",
    "#print(ls_files)\n",
    "df=pd.DataFrame()\n",
    "for f in ls_files:\n",
    "    print('file to be read: {}'.format(os.path.basename(f)))\n",
    "    df=pd.read_csv(f)"
   ]
  },
  {
   "cell_type": "code",
   "execution_count": 45,
   "id": "d7d83d1a",
   "metadata": {},
   "outputs": [],
   "source": [
    "churn_df=df.copy()"
   ]
  },
  {
   "cell_type": "code",
   "execution_count": 47,
   "id": "83e5ce33",
   "metadata": {},
   "outputs": [
    {
     "data": {
      "text/html": [
       "<div>\n",
       "<style scoped>\n",
       "    .dataframe tbody tr th:only-of-type {\n",
       "        vertical-align: middle;\n",
       "    }\n",
       "\n",
       "    .dataframe tbody tr th {\n",
       "        vertical-align: top;\n",
       "    }\n",
       "\n",
       "    .dataframe thead th {\n",
       "        text-align: right;\n",
       "    }\n",
       "</style>\n",
       "<table border=\"1\" class=\"dataframe\">\n",
       "  <thead>\n",
       "    <tr style=\"text-align: right;\">\n",
       "      <th></th>\n",
       "      <th>RowNumber</th>\n",
       "      <th>CustomerId</th>\n",
       "      <th>Surname</th>\n",
       "      <th>CreditScore</th>\n",
       "      <th>Geography</th>\n",
       "      <th>Gender</th>\n",
       "      <th>Age</th>\n",
       "      <th>Tenure</th>\n",
       "      <th>Balance</th>\n",
       "      <th>NumOfProducts</th>\n",
       "      <th>HasCrCard</th>\n",
       "      <th>IsActiveMember</th>\n",
       "      <th>EstimatedSalary</th>\n",
       "      <th>Exited</th>\n",
       "    </tr>\n",
       "  </thead>\n",
       "  <tbody>\n",
       "    <tr>\n",
       "      <th>0</th>\n",
       "      <td>1</td>\n",
       "      <td>15634602</td>\n",
       "      <td>Hargrave</td>\n",
       "      <td>619</td>\n",
       "      <td>France</td>\n",
       "      <td>Female</td>\n",
       "      <td>42</td>\n",
       "      <td>2</td>\n",
       "      <td>0.00</td>\n",
       "      <td>1</td>\n",
       "      <td>1</td>\n",
       "      <td>1</td>\n",
       "      <td>101348.88</td>\n",
       "      <td>1</td>\n",
       "    </tr>\n",
       "    <tr>\n",
       "      <th>1</th>\n",
       "      <td>2</td>\n",
       "      <td>15647311</td>\n",
       "      <td>Hill</td>\n",
       "      <td>608</td>\n",
       "      <td>Spain</td>\n",
       "      <td>Female</td>\n",
       "      <td>41</td>\n",
       "      <td>1</td>\n",
       "      <td>83807.86</td>\n",
       "      <td>1</td>\n",
       "      <td>0</td>\n",
       "      <td>1</td>\n",
       "      <td>112542.58</td>\n",
       "      <td>0</td>\n",
       "    </tr>\n",
       "    <tr>\n",
       "      <th>2</th>\n",
       "      <td>3</td>\n",
       "      <td>15619304</td>\n",
       "      <td>Onio</td>\n",
       "      <td>502</td>\n",
       "      <td>France</td>\n",
       "      <td>Female</td>\n",
       "      <td>42</td>\n",
       "      <td>8</td>\n",
       "      <td>159660.80</td>\n",
       "      <td>3</td>\n",
       "      <td>1</td>\n",
       "      <td>0</td>\n",
       "      <td>113931.57</td>\n",
       "      <td>1</td>\n",
       "    </tr>\n",
       "    <tr>\n",
       "      <th>3</th>\n",
       "      <td>4</td>\n",
       "      <td>15701354</td>\n",
       "      <td>Boni</td>\n",
       "      <td>699</td>\n",
       "      <td>France</td>\n",
       "      <td>Female</td>\n",
       "      <td>39</td>\n",
       "      <td>1</td>\n",
       "      <td>0.00</td>\n",
       "      <td>2</td>\n",
       "      <td>0</td>\n",
       "      <td>0</td>\n",
       "      <td>93826.63</td>\n",
       "      <td>0</td>\n",
       "    </tr>\n",
       "    <tr>\n",
       "      <th>4</th>\n",
       "      <td>5</td>\n",
       "      <td>15737888</td>\n",
       "      <td>Mitchell</td>\n",
       "      <td>850</td>\n",
       "      <td>Spain</td>\n",
       "      <td>Female</td>\n",
       "      <td>43</td>\n",
       "      <td>2</td>\n",
       "      <td>125510.82</td>\n",
       "      <td>1</td>\n",
       "      <td>1</td>\n",
       "      <td>1</td>\n",
       "      <td>79084.10</td>\n",
       "      <td>0</td>\n",
       "    </tr>\n",
       "  </tbody>\n",
       "</table>\n",
       "</div>"
      ],
      "text/plain": [
       "   RowNumber  CustomerId   Surname  CreditScore Geography  Gender  Age  \\\n",
       "0          1    15634602  Hargrave          619    France  Female   42   \n",
       "1          2    15647311      Hill          608     Spain  Female   41   \n",
       "2          3    15619304      Onio          502    France  Female   42   \n",
       "3          4    15701354      Boni          699    France  Female   39   \n",
       "4          5    15737888  Mitchell          850     Spain  Female   43   \n",
       "\n",
       "   Tenure    Balance  NumOfProducts  HasCrCard  IsActiveMember  \\\n",
       "0       2       0.00              1          1               1   \n",
       "1       1   83807.86              1          0               1   \n",
       "2       8  159660.80              3          1               0   \n",
       "3       1       0.00              2          0               0   \n",
       "4       2  125510.82              1          1               1   \n",
       "\n",
       "   EstimatedSalary  Exited  \n",
       "0        101348.88       1  \n",
       "1        112542.58       0  \n",
       "2        113931.57       1  \n",
       "3         93826.63       0  \n",
       "4         79084.10       0  "
      ]
     },
     "execution_count": 47,
     "metadata": {},
     "output_type": "execute_result"
    }
   ],
   "source": [
    "churn_df.head()"
   ]
  },
  {
   "cell_type": "code",
   "execution_count": 46,
   "id": "73af3c6a",
   "metadata": {},
   "outputs": [],
   "source": [
    "X = churn_df.iloc[:, 3:13]\n",
    "y = churn_df.iloc[:, 13]"
   ]
  },
  {
   "cell_type": "code",
   "execution_count": 5,
   "id": "44635cbf",
   "metadata": {},
   "outputs": [],
   "source": [
    "#Create dummy variables\n",
    "geography=pd.get_dummies(X[\"Geography\"],drop_first=True)\n",
    "gender=pd.get_dummies(X['Gender'],drop_first=True)"
   ]
  },
  {
   "cell_type": "code",
   "execution_count": 6,
   "id": "9c5310d3",
   "metadata": {},
   "outputs": [],
   "source": [
    "# Concatenate dummy varaibles to Data Frames and drop features\n",
    "X=pd.concat([X,geography,gender],axis=1)\n",
    "X=X.drop(['Geography','Gender'],axis=1)"
   ]
  },
  {
   "cell_type": "code",
   "execution_count": 7,
   "id": "717d4b6f",
   "metadata": {},
   "outputs": [],
   "source": [
    "x_train, x_test, y_train, y_test = train_test_split(X, y, test_size = 0.2, random_state = 0)"
   ]
  },
  {
   "cell_type": "code",
   "execution_count": 8,
   "id": "3c25d27c",
   "metadata": {},
   "outputs": [],
   "source": [
    "# Feature Scaling\n",
    "sc = StandardScaler()\n",
    "X_train = sc.fit_transform(x_train)\n",
    "X_test = sc.transform(x_test)"
   ]
  },
  {
   "cell_type": "markdown",
   "id": "b95bce33",
   "metadata": {},
   "source": [
    "## Building Baseline ANN"
   ]
  },
  {
   "cell_type": "code",
   "execution_count": 9,
   "id": "8d17e309",
   "metadata": {},
   "outputs": [],
   "source": [
    "baseline_model = Sequential()"
   ]
  },
  {
   "cell_type": "code",
   "execution_count": 10,
   "id": "0166394f",
   "metadata": {},
   "outputs": [],
   "source": [
    "baseline_model.add(Dense(units = 6, kernel_initializer= 'he_uniform',activation='relu',input_dim = 11))\n",
    "baseline_model.add(Dense(units = 6, kernel_initializer = 'he_uniform',activation='relu'))\n",
    "# Adding output layer\n",
    "baseline_model.add(Dense(units = 1, kernel_initializer = 'glorot_uniform', activation = 'sigmoid'))"
   ]
  },
  {
   "cell_type": "code",
   "execution_count": 11,
   "id": "d07329ac",
   "metadata": {},
   "outputs": [
    {
     "name": "stdout",
     "output_type": "stream",
     "text": [
      "Model: \"sequential\"\n",
      "_________________________________________________________________\n",
      " Layer (type)                Output Shape              Param #   \n",
      "=================================================================\n",
      " dense (Dense)               (None, 6)                 72        \n",
      "                                                                 \n",
      " dense_1 (Dense)             (None, 6)                 42        \n",
      "                                                                 \n",
      " dense_2 (Dense)             (None, 1)                 7         \n",
      "                                                                 \n",
      "=================================================================\n",
      "Total params: 121\n",
      "Trainable params: 121\n",
      "Non-trainable params: 0\n",
      "_________________________________________________________________\n"
     ]
    }
   ],
   "source": [
    "baseline_model.summary()"
   ]
  },
  {
   "cell_type": "code",
   "execution_count": 12,
   "id": "4eb28a15",
   "metadata": {},
   "outputs": [],
   "source": [
    "baseline_model.compile(optimizer = 'Adamax', loss = 'binary_crossentropy', metrics = ['accuracy'])"
   ]
  },
  {
   "cell_type": "code",
   "execution_count": 13,
   "id": "54e22b0d",
   "metadata": {
    "scrolled": true
   },
   "outputs": [
    {
     "name": "stdout",
     "output_type": "stream",
     "text": [
      "Epoch 1/100\n",
      "560/560 [==============================] - 1s 951us/step - loss: 29263.6191 - accuracy: 0.7961 - val_loss: 16435.3379 - val_accuracy: 0.7958\n",
      "Epoch 2/100\n",
      "560/560 [==============================] - 0s 741us/step - loss: 10101.3369 - accuracy: 0.7961 - val_loss: 4782.5015 - val_accuracy: 0.7958\n",
      "Epoch 3/100\n",
      "560/560 [==============================] - 0s 750us/step - loss: 1936.7596 - accuracy: 0.7241 - val_loss: 104.2366 - val_accuracy: 0.4833\n",
      "Epoch 4/100\n",
      "560/560 [==============================] - 0s 773us/step - loss: 54.4334 - accuracy: 0.4768 - val_loss: 27.5955 - val_accuracy: 0.3921\n",
      "Epoch 5/100\n",
      "560/560 [==============================] - 0s 777us/step - loss: 23.8008 - accuracy: 0.4184 - val_loss: 28.9950 - val_accuracy: 0.4812\n",
      "Epoch 6/100\n",
      "560/560 [==============================] - 1s 1ms/step - loss: 17.1466 - accuracy: 0.4946 - val_loss: 15.8222 - val_accuracy: 0.7362\n",
      "Epoch 7/100\n",
      "560/560 [==============================] - 1s 1ms/step - loss: 12.3595 - accuracy: 0.6977 - val_loss: 9.4568 - val_accuracy: 0.6092\n",
      "Epoch 8/100\n",
      "560/560 [==============================] - 1s 1ms/step - loss: 7.3249 - accuracy: 0.7138 - val_loss: 5.2817 - val_accuracy: 0.6908\n",
      "Epoch 9/100\n",
      "560/560 [==============================] - 1s 1ms/step - loss: 5.0875 - accuracy: 0.7323 - val_loss: 6.8922 - val_accuracy: 0.7521\n",
      "Epoch 10/100\n",
      "560/560 [==============================] - 1s 1ms/step - loss: 4.4315 - accuracy: 0.7509 - val_loss: 10.2517 - val_accuracy: 0.7937\n",
      "Epoch 11/100\n",
      "560/560 [==============================] - 1s 1ms/step - loss: 4.4252 - accuracy: 0.7489 - val_loss: 3.2509 - val_accuracy: 0.7967\n",
      "Epoch 12/100\n",
      "560/560 [==============================] - 1s 1ms/step - loss: 4.5170 - accuracy: 0.7534 - val_loss: 1.9347 - val_accuracy: 0.7425\n",
      "Epoch 13/100\n",
      "560/560 [==============================] - 1s 1ms/step - loss: 4.4875 - accuracy: 0.7491 - val_loss: 1.9675 - val_accuracy: 0.7200\n",
      "Epoch 14/100\n",
      "560/560 [==============================] - 1s 1ms/step - loss: 5.5322 - accuracy: 0.7559 - val_loss: 2.8090 - val_accuracy: 0.7917\n",
      "Epoch 15/100\n",
      "560/560 [==============================] - 1s 1ms/step - loss: 5.1393 - accuracy: 0.7541 - val_loss: 3.9532 - val_accuracy: 0.7513\n",
      "Epoch 16/100\n",
      "560/560 [==============================] - 1s 1ms/step - loss: 5.0255 - accuracy: 0.7489 - val_loss: 3.8557 - val_accuracy: 0.7950\n",
      "Epoch 17/100\n",
      "560/560 [==============================] - 1s 1ms/step - loss: 4.0134 - accuracy: 0.7589 - val_loss: 2.0698 - val_accuracy: 0.7912\n",
      "Epoch 18/100\n",
      "560/560 [==============================] - 1s 1ms/step - loss: 3.9544 - accuracy: 0.7530 - val_loss: 1.8393 - val_accuracy: 0.7758\n",
      "Epoch 19/100\n",
      "560/560 [==============================] - 1s 1ms/step - loss: 3.9930 - accuracy: 0.7573 - val_loss: 7.3995 - val_accuracy: 0.7958\n",
      "Epoch 20/100\n",
      "560/560 [==============================] - 1s 1ms/step - loss: 5.0154 - accuracy: 0.7557 - val_loss: 1.6728 - val_accuracy: 0.7871\n",
      "Epoch 21/100\n",
      "560/560 [==============================] - 1s 1ms/step - loss: 4.5242 - accuracy: 0.7557 - val_loss: 1.4918 - val_accuracy: 0.7046\n",
      "Epoch 22/100\n",
      "560/560 [==============================] - 1s 1ms/step - loss: 4.3062 - accuracy: 0.7596 - val_loss: 4.6600 - val_accuracy: 0.5738\n",
      "Epoch 23/100\n",
      "560/560 [==============================] - 1s 1ms/step - loss: 4.3086 - accuracy: 0.7543 - val_loss: 2.5127 - val_accuracy: 0.7929\n",
      "Epoch 24/100\n",
      "560/560 [==============================] - 1s 1ms/step - loss: 5.2167 - accuracy: 0.7489 - val_loss: 1.3132 - val_accuracy: 0.7788\n",
      "Epoch 25/100\n",
      "560/560 [==============================] - 1s 1ms/step - loss: 4.8711 - accuracy: 0.7546 - val_loss: 5.2588 - val_accuracy: 0.7967\n",
      "Epoch 26/100\n",
      "560/560 [==============================] - 1s 1ms/step - loss: 4.4672 - accuracy: 0.7546 - val_loss: 10.0908 - val_accuracy: 0.7958\n",
      "Epoch 27/100\n",
      "560/560 [==============================] - 1s 1ms/step - loss: 4.6825 - accuracy: 0.7529 - val_loss: 2.7493 - val_accuracy: 0.7946\n",
      "Epoch 28/100\n",
      "560/560 [==============================] - 1s 1ms/step - loss: 5.7654 - accuracy: 0.7554 - val_loss: 8.4582 - val_accuracy: 0.7962\n",
      "Epoch 29/100\n",
      "560/560 [==============================] - 1s 1ms/step - loss: 4.7426 - accuracy: 0.7530 - val_loss: 1.3912 - val_accuracy: 0.7279\n",
      "Epoch 30/100\n",
      "560/560 [==============================] - 1s 1ms/step - loss: 4.7465 - accuracy: 0.7618 - val_loss: 5.3102 - val_accuracy: 0.7125\n",
      "Epoch 31/100\n",
      "560/560 [==============================] - 1s 1ms/step - loss: 4.1076 - accuracy: 0.7536 - val_loss: 4.0034 - val_accuracy: 0.7967\n",
      "Epoch 32/100\n",
      "560/560 [==============================] - 1s 1ms/step - loss: 4.3090 - accuracy: 0.7591 - val_loss: 9.7056 - val_accuracy: 0.7958\n",
      "Epoch 33/100\n",
      "560/560 [==============================] - 1s 1ms/step - loss: 4.4872 - accuracy: 0.7564 - val_loss: 6.1994 - val_accuracy: 0.7946\n",
      "Epoch 34/100\n",
      "560/560 [==============================] - 1s 1ms/step - loss: 4.7351 - accuracy: 0.7573 - val_loss: 2.8901 - val_accuracy: 0.7896\n",
      "Epoch 35/100\n",
      "560/560 [==============================] - 1s 1ms/step - loss: 4.0553 - accuracy: 0.7586 - val_loss: 4.3579 - val_accuracy: 0.7821\n",
      "Epoch 36/100\n",
      "560/560 [==============================] - 1s 1ms/step - loss: 3.1971 - accuracy: 0.7600 - val_loss: 1.0094 - val_accuracy: 0.7758\n",
      "Epoch 37/100\n",
      "560/560 [==============================] - 1s 1ms/step - loss: 4.2129 - accuracy: 0.7568 - val_loss: 1.4676 - val_accuracy: 0.6687\n",
      "Epoch 38/100\n",
      "560/560 [==============================] - 1s 1ms/step - loss: 3.7873 - accuracy: 0.7589 - val_loss: 3.3878 - val_accuracy: 0.7958\n",
      "Epoch 39/100\n",
      "560/560 [==============================] - 1s 1ms/step - loss: 4.4405 - accuracy: 0.7607 - val_loss: 5.7733 - val_accuracy: 0.7392\n",
      "Epoch 40/100\n",
      "560/560 [==============================] - 1s 1ms/step - loss: 4.6789 - accuracy: 0.7571 - val_loss: 10.1157 - val_accuracy: 0.5567\n",
      "Epoch 41/100\n",
      "560/560 [==============================] - 1s 1ms/step - loss: 3.7233 - accuracy: 0.7609 - val_loss: 1.6552 - val_accuracy: 0.6671\n",
      "Epoch 42/100\n",
      "560/560 [==============================] - 1s 1ms/step - loss: 3.7611 - accuracy: 0.7604 - val_loss: 1.4140 - val_accuracy: 0.7808\n",
      "Epoch 43/100\n",
      "560/560 [==============================] - 1s 1ms/step - loss: 4.0640 - accuracy: 0.7596 - val_loss: 4.2353 - val_accuracy: 0.7842\n",
      "Epoch 44/100\n",
      "560/560 [==============================] - 1s 1ms/step - loss: 3.6355 - accuracy: 0.7586 - val_loss: 3.9971 - val_accuracy: 0.7950\n",
      "Epoch 45/100\n",
      "560/560 [==============================] - 1s 1ms/step - loss: 3.8367 - accuracy: 0.7561 - val_loss: 1.0966 - val_accuracy: 0.7688\n",
      "Epoch 46/100\n",
      "560/560 [==============================] - 1s 1ms/step - loss: 4.5204 - accuracy: 0.7580 - val_loss: 6.1962 - val_accuracy: 0.5283\n",
      "Epoch 47/100\n",
      "560/560 [==============================] - 1s 1ms/step - loss: 4.1051 - accuracy: 0.7598 - val_loss: 1.8538 - val_accuracy: 0.7883\n",
      "Epoch 48/100\n",
      "560/560 [==============================] - 1s 1ms/step - loss: 3.5936 - accuracy: 0.7568 - val_loss: 2.7506 - val_accuracy: 0.7950\n",
      "Epoch 49/100\n",
      "560/560 [==============================] - 1s 1ms/step - loss: 3.4424 - accuracy: 0.7579 - val_loss: 1.6150 - val_accuracy: 0.7350\n",
      "Epoch 50/100\n",
      "560/560 [==============================] - 1s 1ms/step - loss: 3.4646 - accuracy: 0.7605 - val_loss: 11.2398 - val_accuracy: 0.7958\n",
      "Epoch 51/100\n",
      "560/560 [==============================] - 1s 1ms/step - loss: 3.5228 - accuracy: 0.7541 - val_loss: 5.3143 - val_accuracy: 0.7958\n",
      "Epoch 52/100\n",
      "560/560 [==============================] - 1s 1ms/step - loss: 3.7602 - accuracy: 0.7580 - val_loss: 6.9824 - val_accuracy: 0.7958\n",
      "Epoch 53/100\n",
      "560/560 [==============================] - 1s 1ms/step - loss: 5.0863 - accuracy: 0.7598 - val_loss: 6.2505 - val_accuracy: 0.7958\n",
      "Epoch 54/100\n",
      "560/560 [==============================] - 1s 1ms/step - loss: 3.2890 - accuracy: 0.7639 - val_loss: 4.3543 - val_accuracy: 0.7800\n",
      "Epoch 55/100\n",
      "560/560 [==============================] - 1s 1ms/step - loss: 3.7425 - accuracy: 0.7577 - val_loss: 2.1595 - val_accuracy: 0.7925\n",
      "Epoch 56/100\n",
      "560/560 [==============================] - 1s 1ms/step - loss: 4.5292 - accuracy: 0.7563 - val_loss: 3.0238 - val_accuracy: 0.7950\n",
      "Epoch 57/100\n"
     ]
    },
    {
     "name": "stdout",
     "output_type": "stream",
     "text": [
      "560/560 [==============================] - 1s 1ms/step - loss: 4.3586 - accuracy: 0.7591 - val_loss: 6.7182 - val_accuracy: 0.5579\n",
      "Epoch 58/100\n",
      "560/560 [==============================] - 1s 1ms/step - loss: 5.1823 - accuracy: 0.7616 - val_loss: 2.0248 - val_accuracy: 0.6808\n",
      "Epoch 59/100\n",
      "560/560 [==============================] - 1s 1ms/step - loss: 5.2293 - accuracy: 0.7511 - val_loss: 5.6590 - val_accuracy: 0.7817\n",
      "Epoch 60/100\n",
      "560/560 [==============================] - 1s 1ms/step - loss: 4.1752 - accuracy: 0.7638 - val_loss: 3.8241 - val_accuracy: 0.7950\n",
      "Epoch 61/100\n",
      "560/560 [==============================] - 1s 1ms/step - loss: 4.0565 - accuracy: 0.7563 - val_loss: 9.9200 - val_accuracy: 0.7879\n",
      "Epoch 62/100\n",
      "560/560 [==============================] - 1s 1ms/step - loss: 5.0754 - accuracy: 0.7532 - val_loss: 2.2814 - val_accuracy: 0.7475\n",
      "Epoch 63/100\n",
      "560/560 [==============================] - 1s 1ms/step - loss: 4.1118 - accuracy: 0.7575 - val_loss: 5.2973 - val_accuracy: 0.7962\n",
      "Epoch 64/100\n",
      "560/560 [==============================] - 1s 1ms/step - loss: 4.8718 - accuracy: 0.7591 - val_loss: 2.9051 - val_accuracy: 0.7825\n",
      "Epoch 65/100\n",
      "560/560 [==============================] - 1s 1ms/step - loss: 3.1290 - accuracy: 0.7616 - val_loss: 3.3849 - val_accuracy: 0.7708\n",
      "Epoch 66/100\n",
      "560/560 [==============================] - 1s 1ms/step - loss: 4.9777 - accuracy: 0.7579 - val_loss: 7.4517 - val_accuracy: 0.7958\n",
      "Epoch 67/100\n",
      "560/560 [==============================] - 1s 1ms/step - loss: 4.6020 - accuracy: 0.7586 - val_loss: 6.6418 - val_accuracy: 0.7962\n",
      "Epoch 68/100\n",
      "560/560 [==============================] - 1s 1ms/step - loss: 3.4971 - accuracy: 0.7654 - val_loss: 6.5474 - val_accuracy: 0.7962\n",
      "Epoch 69/100\n",
      "560/560 [==============================] - 1s 1ms/step - loss: 3.4454 - accuracy: 0.7596 - val_loss: 3.4927 - val_accuracy: 0.6446\n",
      "Epoch 70/100\n",
      "560/560 [==============================] - 1s 1ms/step - loss: 4.5647 - accuracy: 0.7582 - val_loss: 6.4333 - val_accuracy: 0.7954\n",
      "Epoch 71/100\n",
      "560/560 [==============================] - 1s 1ms/step - loss: 4.2062 - accuracy: 0.7613 - val_loss: 4.2109 - val_accuracy: 0.7646\n",
      "Epoch 72/100\n",
      "560/560 [==============================] - 1s 1ms/step - loss: 4.4727 - accuracy: 0.7596 - val_loss: 1.3377 - val_accuracy: 0.7808\n",
      "Epoch 73/100\n",
      "560/560 [==============================] - 1s 1ms/step - loss: 4.5961 - accuracy: 0.7580 - val_loss: 2.1613 - val_accuracy: 0.7917\n",
      "Epoch 74/100\n",
      "560/560 [==============================] - 1s 990us/step - loss: 4.1448 - accuracy: 0.7627 - val_loss: 3.8324 - val_accuracy: 0.7950\n",
      "Epoch 75/100\n",
      "560/560 [==============================] - 1s 1ms/step - loss: 3.6255 - accuracy: 0.7595 - val_loss: 3.4782 - val_accuracy: 0.7950\n",
      "Epoch 76/100\n",
      "560/560 [==============================] - 1s 1ms/step - loss: 4.4752 - accuracy: 0.7584 - val_loss: 9.8520 - val_accuracy: 0.7958\n",
      "Epoch 77/100\n",
      "560/560 [==============================] - 1s 1ms/step - loss: 4.0517 - accuracy: 0.7571 - val_loss: 5.2440 - val_accuracy: 0.7962\n",
      "Epoch 78/100\n",
      "560/560 [==============================] - 1s 1ms/step - loss: 4.4027 - accuracy: 0.7621 - val_loss: 3.6076 - val_accuracy: 0.7292\n",
      "Epoch 79/100\n",
      "560/560 [==============================] - 1s 1ms/step - loss: 3.3545 - accuracy: 0.7584 - val_loss: 4.7027 - val_accuracy: 0.7958\n",
      "Epoch 80/100\n",
      "560/560 [==============================] - 1s 1ms/step - loss: 3.6957 - accuracy: 0.7621 - val_loss: 4.0055 - val_accuracy: 0.7683\n",
      "Epoch 81/100\n",
      "560/560 [==============================] - 1s 1ms/step - loss: 3.7961 - accuracy: 0.7600 - val_loss: 4.2980 - val_accuracy: 0.7954\n",
      "Epoch 82/100\n",
      "560/560 [==============================] - 1s 1ms/step - loss: 3.2733 - accuracy: 0.7605 - val_loss: 1.8519 - val_accuracy: 0.7887\n",
      "Epoch 83/100\n",
      "560/560 [==============================] - 1s 1ms/step - loss: 3.4208 - accuracy: 0.7630 - val_loss: 3.5810 - val_accuracy: 0.7946\n",
      "Epoch 84/100\n",
      "560/560 [==============================] - 1s 1ms/step - loss: 4.0847 - accuracy: 0.7620 - val_loss: 6.5671 - val_accuracy: 0.7958\n",
      "Epoch 85/100\n",
      "560/560 [==============================] - 1s 1ms/step - loss: 3.0788 - accuracy: 0.7636 - val_loss: 3.9128 - val_accuracy: 0.7758\n",
      "Epoch 86/100\n",
      "560/560 [==============================] - 1s 1ms/step - loss: 3.8031 - accuracy: 0.7586 - val_loss: 6.0786 - val_accuracy: 0.6129\n",
      "Epoch 87/100\n",
      "560/560 [==============================] - 1s 1ms/step - loss: 3.9754 - accuracy: 0.7613 - val_loss: 2.7243 - val_accuracy: 0.6142\n",
      "Epoch 88/100\n",
      "560/560 [==============================] - 1s 1ms/step - loss: 4.1936 - accuracy: 0.7593 - val_loss: 10.3627 - val_accuracy: 0.7954\n",
      "Epoch 89/100\n",
      "560/560 [==============================] - 1s 1ms/step - loss: 3.5896 - accuracy: 0.7588 - val_loss: 2.0921 - val_accuracy: 0.7917\n",
      "Epoch 90/100\n",
      "560/560 [==============================] - 1s 963us/step - loss: 3.3777 - accuracy: 0.7613 - val_loss: 6.9145 - val_accuracy: 0.7958\n",
      "Epoch 91/100\n",
      "560/560 [==============================] - 1s 1ms/step - loss: 4.1618 - accuracy: 0.7595 - val_loss: 11.4090 - val_accuracy: 0.7958\n",
      "Epoch 92/100\n",
      "560/560 [==============================] - 1s 1ms/step - loss: 4.0088 - accuracy: 0.7620 - val_loss: 10.0514 - val_accuracy: 0.7958\n",
      "Epoch 93/100\n",
      "560/560 [==============================] - 1s 1ms/step - loss: 4.0887 - accuracy: 0.7641 - val_loss: 5.5736 - val_accuracy: 0.7654\n",
      "Epoch 94/100\n",
      "560/560 [==============================] - 1s 1ms/step - loss: 2.8642 - accuracy: 0.7632 - val_loss: 1.8172 - val_accuracy: 0.7296\n",
      "Epoch 95/100\n",
      "560/560 [==============================] - 1s 1ms/step - loss: 3.6630 - accuracy: 0.7625 - val_loss: 1.3264 - val_accuracy: 0.7750\n",
      "Epoch 96/100\n",
      "560/560 [==============================] - 1s 1ms/step - loss: 3.8952 - accuracy: 0.7613 - val_loss: 1.0405 - val_accuracy: 0.7754\n",
      "Epoch 97/100\n",
      "560/560 [==============================] - 1s 1ms/step - loss: 2.9140 - accuracy: 0.7639 - val_loss: 2.5910 - val_accuracy: 0.6146\n",
      "Epoch 98/100\n",
      "560/560 [==============================] - 1s 1ms/step - loss: 4.4842 - accuracy: 0.7591 - val_loss: 2.6924 - val_accuracy: 0.7925\n",
      "Epoch 99/100\n",
      "560/560 [==============================] - 1s 1ms/step - loss: 3.7117 - accuracy: 0.7611 - val_loss: 5.8316 - val_accuracy: 0.7962\n",
      "Epoch 100/100\n",
      "560/560 [==============================] - 1s 1ms/step - loss: 3.5825 - accuracy: 0.7596 - val_loss: 6.0420 - val_accuracy: 0.7958\n"
     ]
    }
   ],
   "source": [
    "baseline_model_hist=baseline_model.fit(x_train, y_train,validation_split=0.3, batch_size = 10, epochs = 100)"
   ]
  },
  {
   "cell_type": "code",
   "execution_count": 14,
   "id": "43e192f0",
   "metadata": {
    "scrolled": true
   },
   "outputs": [
    {
     "name": "stdout",
     "output_type": "stream",
     "text": [
      "63/63 [==============================] - 0s 1ms/step - loss: 5.3787 - accuracy: 0.7980\n"
     ]
    },
    {
     "data": {
      "text/plain": [
       "[5.378667831420898, 0.7979999780654907]"
      ]
     },
     "execution_count": 14,
     "metadata": {},
     "output_type": "execute_result"
    }
   ],
   "source": [
    "baseline_model.evaluate(x_test,y_test)\n",
    "#test_loss = model.evaluate(test_images, test_labels)"
   ]
  },
  {
   "cell_type": "markdown",
   "id": "4ec347ec",
   "metadata": {},
   "source": [
    "### HyperParameter Tunning using KerasTunner"
   ]
  },
  {
   "cell_type": "code",
   "execution_count": 15,
   "id": "a0638319",
   "metadata": {},
   "outputs": [],
   "source": [
    "import kerastuner as kt"
   ]
  },
  {
   "cell_type": "code",
   "execution_count": 36,
   "id": "572094d0",
   "metadata": {},
   "outputs": [],
   "source": [
    "def model_builder_template(units, activation, dropout, lr):\n",
    "    model = tf.keras.Sequential()\n",
    "    model.add(tf.keras.layers.Flatten())\n",
    "    \n",
    "    model.add(tf.keras.layers.Dense(units=units, activation=activation))\n",
    "    if dropout:\n",
    "        model.add(tf.keras.layers.Dropout(rate=0.25))\n",
    "    model.add(tf.keras.layers.Dense(1, activation=\"sigmoid\"))\n",
    "    \n",
    "    model.compile(\n",
    "        optimizer=keras.optimizers.Adam(learning_rate=lr),\n",
    "        loss=\"binary_crossentropy\",\n",
    "        metrics=[\"accuracy\"],\n",
    "    )\n",
    "    return model"
   ]
  },
  {
   "cell_type": "code",
   "execution_count": 37,
   "id": "68ee82d6",
   "metadata": {},
   "outputs": [],
   "source": [
    "def build_model(hp):\n",
    "    #for j in range(hp.Int('Num_Layers',2,20)):\n",
    "        units = hp.Int(\"Layer\", min_value=32, max_value=512, step=32)\n",
    "        activation = hp.Choice(\"activation\", [\"relu\", \"tanh\"])\n",
    "        dropout = hp.Boolean(\"dropout\")\n",
    "        lr = hp.Float(\"lr\", min_value=1e-4, max_value=1e-2, sampling=\"log\")\n",
    "   \n",
    "        # call existing model-building code with the hyperparameter values.\n",
    "        model = model_builder_template(\n",
    "            units=units, activation=activation, dropout=dropout, lr=lr\n",
    "        )\n",
    "        return model"
   ]
  },
  {
   "cell_type": "code",
   "execution_count": 38,
   "id": "2f246330",
   "metadata": {},
   "outputs": [
    {
     "name": "stdout",
     "output_type": "stream",
     "text": [
      "INFO:tensorflow:Reloading Oracle from existing project dir\\khyperband\\oracle.json\n",
      "INFO:tensorflow:Reloading Tuner from dir\\khyperband\\tuner0.json\n"
     ]
    }
   ],
   "source": [
    "tuner = kt.Hyperband(build_model, # the hypermodel\n",
    "                     objective='val_accuracy', # objective to optimize\n",
    "max_epochs=10,\n",
    "factor=3, # factor which you have seen above \n",
    "directory='dir', # directory to save logs \n",
    "project_name='khyperband')"
   ]
  },
  {
   "cell_type": "code",
   "execution_count": 39,
   "id": "83b54323",
   "metadata": {},
   "outputs": [
    {
     "name": "stdout",
     "output_type": "stream",
     "text": [
      "Search space summary\n",
      "Default search space size: 24\n",
      "Num_Layers (Int)\n",
      "{'default': None, 'conditions': [], 'min_value': 2, 'max_value': 20, 'step': 1, 'sampling': None}\n",
      "Layer_0 (Int)\n",
      "{'default': None, 'conditions': [], 'min_value': 32, 'max_value': 512, 'step': 32, 'sampling': None}\n",
      "activation (Choice)\n",
      "{'default': 'relu', 'conditions': [], 'values': ['relu', 'tanh'], 'ordered': False}\n",
      "dropout (Boolean)\n",
      "{'default': False, 'conditions': []}\n",
      "lr (Float)\n",
      "{'default': 0.0001, 'conditions': [], 'min_value': 0.0001, 'max_value': 0.01, 'step': None, 'sampling': 'log'}\n",
      "Layer_1 (Int)\n",
      "{'default': None, 'conditions': [], 'min_value': 32, 'max_value': 512, 'step': 32, 'sampling': None}\n",
      "Layer_2 (Int)\n",
      "{'default': None, 'conditions': [], 'min_value': 32, 'max_value': 512, 'step': 32, 'sampling': None}\n",
      "Layer_3 (Int)\n",
      "{'default': None, 'conditions': [], 'min_value': 32, 'max_value': 512, 'step': 32, 'sampling': None}\n",
      "Layer_4 (Int)\n",
      "{'default': None, 'conditions': [], 'min_value': 32, 'max_value': 512, 'step': 32, 'sampling': None}\n",
      "Layer_5 (Int)\n",
      "{'default': None, 'conditions': [], 'min_value': 32, 'max_value': 512, 'step': 32, 'sampling': None}\n",
      "Layer_6 (Int)\n",
      "{'default': None, 'conditions': [], 'min_value': 32, 'max_value': 512, 'step': 32, 'sampling': None}\n",
      "Layer_7 (Int)\n",
      "{'default': None, 'conditions': [], 'min_value': 32, 'max_value': 512, 'step': 32, 'sampling': None}\n",
      "Layer_8 (Int)\n",
      "{'default': None, 'conditions': [], 'min_value': 32, 'max_value': 512, 'step': 32, 'sampling': None}\n",
      "Layer_9 (Int)\n",
      "{'default': None, 'conditions': [], 'min_value': 32, 'max_value': 512, 'step': 32, 'sampling': None}\n",
      "Layer_10 (Int)\n",
      "{'default': None, 'conditions': [], 'min_value': 32, 'max_value': 512, 'step': 32, 'sampling': None}\n",
      "Layer_11 (Int)\n",
      "{'default': None, 'conditions': [], 'min_value': 32, 'max_value': 512, 'step': 32, 'sampling': None}\n",
      "Layer_12 (Int)\n",
      "{'default': None, 'conditions': [], 'min_value': 32, 'max_value': 512, 'step': 32, 'sampling': None}\n",
      "Layer_13 (Int)\n",
      "{'default': None, 'conditions': [], 'min_value': 32, 'max_value': 512, 'step': 32, 'sampling': None}\n",
      "Layer_14 (Int)\n",
      "{'default': None, 'conditions': [], 'min_value': 32, 'max_value': 512, 'step': 32, 'sampling': None}\n",
      "Layer_15 (Int)\n",
      "{'default': None, 'conditions': [], 'min_value': 32, 'max_value': 512, 'step': 32, 'sampling': None}\n",
      "Layer_16 (Int)\n",
      "{'default': None, 'conditions': [], 'min_value': 32, 'max_value': 512, 'step': 32, 'sampling': None}\n",
      "Layer_17 (Int)\n",
      "{'default': None, 'conditions': [], 'min_value': 32, 'max_value': 512, 'step': 32, 'sampling': None}\n",
      "Layer_18 (Int)\n",
      "{'default': None, 'conditions': [], 'min_value': 32, 'max_value': 512, 'step': 32, 'sampling': None}\n",
      "Layer_19 (Int)\n",
      "{'default': None, 'conditions': [], 'min_value': 32, 'max_value': 512, 'step': 32, 'sampling': None}\n"
     ]
    }
   ],
   "source": [
    "# hypertuning settings\n",
    "tuner.search_space_summary() "
   ]
  },
  {
   "cell_type": "code",
   "execution_count": 40,
   "id": "81943722",
   "metadata": {},
   "outputs": [
    {
     "name": "stdout",
     "output_type": "stream",
     "text": [
      "INFO:tensorflow:Oracle triggered exit\n"
     ]
    }
   ],
   "source": [
    "stop_early = tf.keras.callbacks.EarlyStopping(monitor='val_loss', patience=5)\n",
    "# Perform hypertuning\n",
    "tuner.search(x_train, y_train, epochs=10, validation_split=0.2, callbacks=[stop_early])"
   ]
  },
  {
   "cell_type": "code",
   "execution_count": 41,
   "id": "628576bb",
   "metadata": {},
   "outputs": [],
   "source": [
    "best_hp=tuner.get_best_hyperparameters()[0]"
   ]
  },
  {
   "cell_type": "code",
   "execution_count": 43,
   "id": "b1fa6840",
   "metadata": {},
   "outputs": [],
   "source": [
    "hp = kt.HyperParameters()"
   ]
  },
  {
   "cell_type": "code",
   "execution_count": 44,
   "id": "84cadde9",
   "metadata": {},
   "outputs": [
    {
     "ename": "KeyError",
     "evalue": "'0 does not exist.'",
     "output_type": "error",
     "traceback": [
      "\u001b[1;31m---------------------------------------------------------------------------\u001b[0m",
      "\u001b[1;31mKeyError\u001b[0m                                  Traceback (most recent call last)",
      "\u001b[1;32m~\\AppData\\Local\\Temp/ipykernel_13136/2564121578.py\u001b[0m in \u001b[0;36m<module>\u001b[1;34m\u001b[0m\n\u001b[0;32m      1\u001b[0m \u001b[0mhypermodel\u001b[0m \u001b[1;33m=\u001b[0m \u001b[0mbuild_model\u001b[0m\u001b[1;33m(\u001b[0m\u001b[0mhp\u001b[0m\u001b[1;33m)\u001b[0m\u001b[1;33m\u001b[0m\u001b[1;33m\u001b[0m\u001b[0m\n\u001b[0;32m      2\u001b[0m \u001b[0mbest_hp\u001b[0m \u001b[1;33m=\u001b[0m \u001b[0mtuner\u001b[0m\u001b[1;33m.\u001b[0m\u001b[0mget_best_hyperparameters\u001b[0m\u001b[1;33m(\u001b[0m\u001b[1;33m)\u001b[0m\u001b[1;33m[\u001b[0m\u001b[1;36m0\u001b[0m\u001b[1;33m]\u001b[0m\u001b[1;33m\u001b[0m\u001b[1;33m\u001b[0m\u001b[0m\n\u001b[1;32m----> 3\u001b[1;33m \u001b[0mmodel\u001b[0m \u001b[1;33m=\u001b[0m \u001b[0mhypermodel\u001b[0m\u001b[1;33m.\u001b[0m\u001b[0mbuild\u001b[0m\u001b[1;33m(\u001b[0m\u001b[0mbest_hp\u001b[0m\u001b[1;33m)\u001b[0m\u001b[1;33m\u001b[0m\u001b[1;33m\u001b[0m\u001b[0m\n\u001b[0m\u001b[0;32m      4\u001b[0m \u001b[1;31m#hypermodel.fit(best_hp, model, x_all, y_all, epochs=1)\u001b[0m\u001b[1;33m\u001b[0m\u001b[1;33m\u001b[0m\u001b[0m\n",
      "\u001b[1;32mC:\\Per\\py\\Anaconda\\anaconda3\\lib\\site-packages\\keras\\engine\\sequential.py\u001b[0m in \u001b[0;36mbuild\u001b[1;34m(self, input_shape)\u001b[0m\n\u001b[0;32m    343\u001b[0m       \u001b[1;32mif\u001b[0m \u001b[0minput_shape\u001b[0m \u001b[1;32mis\u001b[0m \u001b[1;32mNone\u001b[0m\u001b[1;33m:\u001b[0m\u001b[1;33m\u001b[0m\u001b[1;33m\u001b[0m\u001b[0m\n\u001b[0;32m    344\u001b[0m         \u001b[1;32mraise\u001b[0m \u001b[0mValueError\u001b[0m\u001b[1;33m(\u001b[0m\u001b[1;34m'You must provide an `input_shape` argument.'\u001b[0m\u001b[1;33m)\u001b[0m\u001b[1;33m\u001b[0m\u001b[1;33m\u001b[0m\u001b[0m\n\u001b[1;32m--> 345\u001b[1;33m       \u001b[0mself\u001b[0m\u001b[1;33m.\u001b[0m\u001b[0m_build_graph_network_for_inferred_shape\u001b[0m\u001b[1;33m(\u001b[0m\u001b[0minput_shape\u001b[0m\u001b[1;33m)\u001b[0m\u001b[1;33m\u001b[0m\u001b[1;33m\u001b[0m\u001b[0m\n\u001b[0m\u001b[0;32m    346\u001b[0m       \u001b[1;32mif\u001b[0m \u001b[1;32mnot\u001b[0m \u001b[0mself\u001b[0m\u001b[1;33m.\u001b[0m\u001b[0mbuilt\u001b[0m\u001b[1;33m:\u001b[0m\u001b[1;33m\u001b[0m\u001b[1;33m\u001b[0m\u001b[0m\n\u001b[0;32m    347\u001b[0m         \u001b[0minput_shape\u001b[0m \u001b[1;33m=\u001b[0m \u001b[0mtuple\u001b[0m\u001b[1;33m(\u001b[0m\u001b[0minput_shape\u001b[0m\u001b[1;33m)\u001b[0m\u001b[1;33m\u001b[0m\u001b[1;33m\u001b[0m\u001b[0m\n",
      "\u001b[1;32mC:\\Per\\py\\Anaconda\\anaconda3\\lib\\site-packages\\tensorflow\\python\\training\\tracking\\base.py\u001b[0m in \u001b[0;36m_method_wrapper\u001b[1;34m(self, *args, **kwargs)\u001b[0m\n\u001b[0;32m    528\u001b[0m     \u001b[0mself\u001b[0m\u001b[1;33m.\u001b[0m\u001b[0m_self_setattr_tracking\u001b[0m \u001b[1;33m=\u001b[0m \u001b[1;32mFalse\u001b[0m  \u001b[1;31m# pylint: disable=protected-access\u001b[0m\u001b[1;33m\u001b[0m\u001b[1;33m\u001b[0m\u001b[0m\n\u001b[0;32m    529\u001b[0m     \u001b[1;32mtry\u001b[0m\u001b[1;33m:\u001b[0m\u001b[1;33m\u001b[0m\u001b[1;33m\u001b[0m\u001b[0m\n\u001b[1;32m--> 530\u001b[1;33m       \u001b[0mresult\u001b[0m \u001b[1;33m=\u001b[0m \u001b[0mmethod\u001b[0m\u001b[1;33m(\u001b[0m\u001b[0mself\u001b[0m\u001b[1;33m,\u001b[0m \u001b[1;33m*\u001b[0m\u001b[0margs\u001b[0m\u001b[1;33m,\u001b[0m \u001b[1;33m**\u001b[0m\u001b[0mkwargs\u001b[0m\u001b[1;33m)\u001b[0m\u001b[1;33m\u001b[0m\u001b[1;33m\u001b[0m\u001b[0m\n\u001b[0m\u001b[0;32m    531\u001b[0m     \u001b[1;32mfinally\u001b[0m\u001b[1;33m:\u001b[0m\u001b[1;33m\u001b[0m\u001b[1;33m\u001b[0m\u001b[0m\n\u001b[0;32m    532\u001b[0m       \u001b[0mself\u001b[0m\u001b[1;33m.\u001b[0m\u001b[0m_self_setattr_tracking\u001b[0m \u001b[1;33m=\u001b[0m \u001b[0mprevious_value\u001b[0m  \u001b[1;31m# pylint: disable=protected-access\u001b[0m\u001b[1;33m\u001b[0m\u001b[1;33m\u001b[0m\u001b[0m\n",
      "\u001b[1;32mC:\\Per\\py\\Anaconda\\anaconda3\\lib\\site-packages\\keras\\engine\\sequential.py\u001b[0m in \u001b[0;36m_build_graph_network_for_inferred_shape\u001b[1;34m(self, input_shape, input_dtype)\u001b[0m\n\u001b[0;32m    272\u001b[0m       \u001b[1;31m# Determine whether the input shape is novel, i.e. whether the model\u001b[0m\u001b[1;33m\u001b[0m\u001b[1;33m\u001b[0m\u001b[0m\n\u001b[0;32m    273\u001b[0m       \u001b[1;31m# should be rebuilt.\u001b[0m\u001b[1;33m\u001b[0m\u001b[1;33m\u001b[0m\u001b[0m\n\u001b[1;32m--> 274\u001b[1;33m       \u001b[0minput_shape\u001b[0m \u001b[1;33m=\u001b[0m \u001b[0mtuple\u001b[0m\u001b[1;33m(\u001b[0m\u001b[0minput_shape\u001b[0m\u001b[1;33m)\u001b[0m\u001b[1;33m\u001b[0m\u001b[1;33m\u001b[0m\u001b[0m\n\u001b[0m\u001b[0;32m    275\u001b[0m       \u001b[1;32mif\u001b[0m \u001b[0mself\u001b[0m\u001b[1;33m.\u001b[0m\u001b[0m_inferred_input_shape\u001b[0m \u001b[1;32mis\u001b[0m \u001b[1;32mNone\u001b[0m\u001b[1;33m:\u001b[0m\u001b[1;33m\u001b[0m\u001b[1;33m\u001b[0m\u001b[0m\n\u001b[0;32m    276\u001b[0m         \u001b[0mnew_shape\u001b[0m \u001b[1;33m=\u001b[0m \u001b[0minput_shape\u001b[0m\u001b[1;33m\u001b[0m\u001b[1;33m\u001b[0m\u001b[0m\n",
      "\u001b[1;32mC:\\Per\\py\\Anaconda\\anaconda3\\lib\\site-packages\\keras_tuner\\engine\\hyperparameters.py\u001b[0m in \u001b[0;36m__getitem__\u001b[1;34m(self, name)\u001b[0m\n\u001b[0;32m    742\u001b[0m \u001b[1;33m\u001b[0m\u001b[0m\n\u001b[0;32m    743\u001b[0m     \u001b[1;32mdef\u001b[0m \u001b[0m__getitem__\u001b[0m\u001b[1;33m(\u001b[0m\u001b[0mself\u001b[0m\u001b[1;33m,\u001b[0m \u001b[0mname\u001b[0m\u001b[1;33m)\u001b[0m\u001b[1;33m:\u001b[0m\u001b[1;33m\u001b[0m\u001b[1;33m\u001b[0m\u001b[0m\n\u001b[1;32m--> 744\u001b[1;33m         \u001b[1;32mreturn\u001b[0m \u001b[0mself\u001b[0m\u001b[1;33m.\u001b[0m\u001b[0mget\u001b[0m\u001b[1;33m(\u001b[0m\u001b[0mname\u001b[0m\u001b[1;33m)\u001b[0m\u001b[1;33m\u001b[0m\u001b[1;33m\u001b[0m\u001b[0m\n\u001b[0m\u001b[0;32m    745\u001b[0m \u001b[1;33m\u001b[0m\u001b[0m\n\u001b[0;32m    746\u001b[0m     \u001b[1;32mdef\u001b[0m \u001b[0m__contains__\u001b[0m\u001b[1;33m(\u001b[0m\u001b[0mself\u001b[0m\u001b[1;33m,\u001b[0m \u001b[0mname\u001b[0m\u001b[1;33m)\u001b[0m\u001b[1;33m:\u001b[0m\u001b[1;33m\u001b[0m\u001b[1;33m\u001b[0m\u001b[0m\n",
      "\u001b[1;32mC:\\Per\\py\\Anaconda\\anaconda3\\lib\\site-packages\\keras_tuner\\engine\\hyperparameters.py\u001b[0m in \u001b[0;36mget\u001b[1;34m(self, name)\u001b[0m\n\u001b[0;32m    739\u001b[0m             \u001b[1;32mraise\u001b[0m \u001b[0mValueError\u001b[0m\u001b[1;33m(\u001b[0m\u001b[1;34m\"{} is currently inactive.\"\u001b[0m\u001b[1;33m.\u001b[0m\u001b[0mformat\u001b[0m\u001b[1;33m(\u001b[0m\u001b[0mname\u001b[0m\u001b[1;33m)\u001b[0m\u001b[1;33m)\u001b[0m\u001b[1;33m\u001b[0m\u001b[1;33m\u001b[0m\u001b[0m\n\u001b[0;32m    740\u001b[0m         \u001b[1;32melse\u001b[0m\u001b[1;33m:\u001b[0m\u001b[1;33m\u001b[0m\u001b[1;33m\u001b[0m\u001b[0m\n\u001b[1;32m--> 741\u001b[1;33m             \u001b[1;32mraise\u001b[0m \u001b[0mKeyError\u001b[0m\u001b[1;33m(\u001b[0m\u001b[1;34m\"{} does not exist.\"\u001b[0m\u001b[1;33m.\u001b[0m\u001b[0mformat\u001b[0m\u001b[1;33m(\u001b[0m\u001b[0mname\u001b[0m\u001b[1;33m)\u001b[0m\u001b[1;33m)\u001b[0m\u001b[1;33m\u001b[0m\u001b[1;33m\u001b[0m\u001b[0m\n\u001b[0m\u001b[0;32m    742\u001b[0m \u001b[1;33m\u001b[0m\u001b[0m\n\u001b[0;32m    743\u001b[0m     \u001b[1;32mdef\u001b[0m \u001b[0m__getitem__\u001b[0m\u001b[1;33m(\u001b[0m\u001b[0mself\u001b[0m\u001b[1;33m,\u001b[0m \u001b[0mname\u001b[0m\u001b[1;33m)\u001b[0m\u001b[1;33m:\u001b[0m\u001b[1;33m\u001b[0m\u001b[1;33m\u001b[0m\u001b[0m\n",
      "\u001b[1;31mKeyError\u001b[0m: '0 does not exist.'"
     ]
    }
   ],
   "source": [
    "hypermodel = build_model(hp)\n",
    "best_hp = tuner.get_best_hyperparameters()[0]\n",
    "model = hypermodel.build(best_hp)\n",
    "#hypermodel.fit(best_hp, model, x_all, y_all, epochs=1)"
   ]
  },
  {
   "cell_type": "code",
   "execution_count": 23,
   "id": "c5059735",
   "metadata": {},
   "outputs": [],
   "source": [
    "h_model = tuner.hypermodel.build(best_hp)"
   ]
  },
  {
   "cell_type": "code",
   "execution_count": 26,
   "id": "e79f55ec",
   "metadata": {},
   "outputs": [],
   "source": [
    "h_model = tuner.hypermodel.build(best_hp)"
   ]
  },
  {
   "cell_type": "code",
   "execution_count": 28,
   "id": "a7b7486f",
   "metadata": {},
   "outputs": [
    {
     "ename": "ValueError",
     "evalue": "This model has not yet been built. Build the model first by calling `build()` or by calling the model on a batch of data.",
     "output_type": "error",
     "traceback": [
      "\u001b[1;31m---------------------------------------------------------------------------\u001b[0m",
      "\u001b[1;31mValueError\u001b[0m                                Traceback (most recent call last)",
      "\u001b[1;32m~\\AppData\\Local\\Temp/ipykernel_13136/131641216.py\u001b[0m in \u001b[0;36m<module>\u001b[1;34m\u001b[0m\n\u001b[1;32m----> 1\u001b[1;33m \u001b[0mh_model\u001b[0m\u001b[1;33m.\u001b[0m\u001b[0msummary\u001b[0m\u001b[1;33m(\u001b[0m\u001b[1;33m)\u001b[0m\u001b[1;33m\u001b[0m\u001b[1;33m\u001b[0m\u001b[0m\n\u001b[0m",
      "\u001b[1;32mC:\\Per\\py\\Anaconda\\anaconda3\\lib\\site-packages\\keras\\engine\\training.py\u001b[0m in \u001b[0;36msummary\u001b[1;34m(self, line_length, positions, print_fn, expand_nested)\u001b[0m\n\u001b[0;32m   2577\u001b[0m     \"\"\"\n\u001b[0;32m   2578\u001b[0m     \u001b[1;32mif\u001b[0m \u001b[1;32mnot\u001b[0m \u001b[0mself\u001b[0m\u001b[1;33m.\u001b[0m\u001b[0mbuilt\u001b[0m\u001b[1;33m:\u001b[0m\u001b[1;33m\u001b[0m\u001b[1;33m\u001b[0m\u001b[0m\n\u001b[1;32m-> 2579\u001b[1;33m       raise ValueError(\n\u001b[0m\u001b[0;32m   2580\u001b[0m           \u001b[1;34m'This model has not yet been built. '\u001b[0m\u001b[1;33m\u001b[0m\u001b[1;33m\u001b[0m\u001b[0m\n\u001b[0;32m   2581\u001b[0m           \u001b[1;34m'Build the model first by calling `build()` or by calling '\u001b[0m\u001b[1;33m\u001b[0m\u001b[1;33m\u001b[0m\u001b[0m\n",
      "\u001b[1;31mValueError\u001b[0m: This model has not yet been built. Build the model first by calling `build()` or by calling the model on a batch of data."
     ]
    }
   ],
   "source": [
    "h_model.summary()"
   ]
  },
  {
   "cell_type": "code",
   "execution_count": 25,
   "id": "307ed49e",
   "metadata": {},
   "outputs": [
    {
     "ename": "ValueError",
     "evalue": "This model has not yet been built. Build the model first by calling `build()` or by calling the model on a batch of data.",
     "output_type": "error",
     "traceback": [
      "\u001b[1;31m---------------------------------------------------------------------------\u001b[0m",
      "\u001b[1;31mValueError\u001b[0m                                Traceback (most recent call last)",
      "\u001b[1;32m~\\AppData\\Local\\Temp/ipykernel_13136/502469678.py\u001b[0m in \u001b[0;36m<module>\u001b[1;34m\u001b[0m\n\u001b[0;32m      1\u001b[0m \u001b[1;31m# Build the model with the optimal hyperparameters\u001b[0m\u001b[1;33m\u001b[0m\u001b[1;33m\u001b[0m\u001b[0m\n\u001b[0;32m      2\u001b[0m \u001b[0mh_model\u001b[0m \u001b[1;33m=\u001b[0m \u001b[0mtuner\u001b[0m\u001b[1;33m.\u001b[0m\u001b[0mhypermodel\u001b[0m\u001b[1;33m.\u001b[0m\u001b[0mbuild\u001b[0m\u001b[1;33m(\u001b[0m\u001b[0mbest_hp\u001b[0m\u001b[1;33m)\u001b[0m\u001b[1;33m\u001b[0m\u001b[1;33m\u001b[0m\u001b[0m\n\u001b[1;32m----> 3\u001b[1;33m \u001b[0mh_model\u001b[0m\u001b[1;33m.\u001b[0m\u001b[0msummary\u001b[0m\u001b[1;33m(\u001b[0m\u001b[1;33m)\u001b[0m\u001b[1;33m\u001b[0m\u001b[1;33m\u001b[0m\u001b[0m\n\u001b[0m\u001b[0;32m      4\u001b[0m \u001b[0mh_model\u001b[0m\u001b[1;33m.\u001b[0m\u001b[0mfit\u001b[0m\u001b[1;33m(\u001b[0m\u001b[0mx_train\u001b[0m\u001b[1;33m,\u001b[0m \u001b[0mx_test\u001b[0m\u001b[1;33m,\u001b[0m \u001b[0mepochs\u001b[0m\u001b[1;33m=\u001b[0m\u001b[1;36m10\u001b[0m\u001b[1;33m,\u001b[0m \u001b[0mvalidation_split\u001b[0m\u001b[1;33m=\u001b[0m\u001b[1;36m0.2\u001b[0m\u001b[1;33m)\u001b[0m\u001b[1;33m\u001b[0m\u001b[1;33m\u001b[0m\u001b[0m\n",
      "\u001b[1;32mC:\\Per\\py\\Anaconda\\anaconda3\\lib\\site-packages\\keras\\engine\\training.py\u001b[0m in \u001b[0;36msummary\u001b[1;34m(self, line_length, positions, print_fn, expand_nested)\u001b[0m\n\u001b[0;32m   2577\u001b[0m     \"\"\"\n\u001b[0;32m   2578\u001b[0m     \u001b[1;32mif\u001b[0m \u001b[1;32mnot\u001b[0m \u001b[0mself\u001b[0m\u001b[1;33m.\u001b[0m\u001b[0mbuilt\u001b[0m\u001b[1;33m:\u001b[0m\u001b[1;33m\u001b[0m\u001b[1;33m\u001b[0m\u001b[0m\n\u001b[1;32m-> 2579\u001b[1;33m       raise ValueError(\n\u001b[0m\u001b[0;32m   2580\u001b[0m           \u001b[1;34m'This model has not yet been built. '\u001b[0m\u001b[1;33m\u001b[0m\u001b[1;33m\u001b[0m\u001b[0m\n\u001b[0;32m   2581\u001b[0m           \u001b[1;34m'Build the model first by calling `build()` or by calling '\u001b[0m\u001b[1;33m\u001b[0m\u001b[1;33m\u001b[0m\u001b[0m\n",
      "\u001b[1;31mValueError\u001b[0m: This model has not yet been built. Build the model first by calling `build()` or by calling the model on a batch of data."
     ]
    }
   ],
   "source": [
    "# Build the model with the optimal hyperparameters\n",
    "h_model = tuner.hypermodel.build(best_hp)\n",
    "h_model.summary()\n",
    "h_model.fit(x_train, x_test, epochs=10, validation_split=0.2)"
   ]
  },
  {
   "cell_type": "code",
   "execution_count": null,
   "id": "c42c03f3",
   "metadata": {},
   "outputs": [],
   "source": []
  },
  {
   "cell_type": "code",
   "execution_count": null,
   "id": "8aa1ceea",
   "metadata": {},
   "outputs": [],
   "source": []
  },
  {
   "cell_type": "code",
   "execution_count": null,
   "id": "8f7b78b9",
   "metadata": {},
   "outputs": [],
   "source": []
  },
  {
   "cell_type": "code",
   "execution_count": null,
   "id": "62001cea",
   "metadata": {},
   "outputs": [],
   "source": [
    "def build_nn(hpt_nn):\n",
    "    model=keras.Sequential()\n",
    "    for j in range(hpt_nn.Int('Num_Layers',2,20)):\n",
    "        model.add(keras.layers.Dense(units=hpt_nn.Int(\"Layer_\"+str(j),\n",
    "                                                     min_value=32,\n",
    "                                                     max_value=512,\n",
    "                                                     step=32), activation='relu'))\n",
    "    model.add(keras.layers.Dense(units=1,activation='linear'))\n",
    "    model.compile(optimizer=keras.optimizers.Adam(hpt_nn.Choice('learning_rate', [1e-2, 1e-3, 1e-4])),\n",
    "                 loss='mean_absolute_error',\n",
    "        metrics=['mean_absolute_error'])\n",
    "    return model\n",
    "                              \n",
    "                              "
   ]
  },
  {
   "cell_type": "code",
   "execution_count": null,
   "id": "798a3628",
   "metadata": {},
   "outputs": [],
   "source": [
    "import keras_tuner as kt\n",
    "\n",
    "#build_model(kt.HyperParameters())"
   ]
  },
  {
   "cell_type": "code",
   "execution_count": null,
   "id": "a7573eda",
   "metadata": {},
   "outputs": [],
   "source": [
    "tun_model=RandomSearch(build_nn,objective='val_mean_absolute_error',\n",
    "                       max_trials=5,\n",
    "                       executions_per_trial=3,\n",
    "                       directory='project',\n",
    "                       project_name='Churn Model' )"
   ]
  },
  {
   "cell_type": "code",
   "execution_count": null,
   "id": "f4ecaed9",
   "metadata": {},
   "outputs": [],
   "source": [
    "tun_model.search_space_summary()"
   ]
  },
  {
   "cell_type": "code",
   "execution_count": null,
   "id": "4a2ae803",
   "metadata": {},
   "outputs": [],
   "source": [
    " tun_model.search(X_train, y_train,\n",
    "             epochs=5,\n",
    "             validation_data=(x_train, y_train))"
   ]
  },
  {
   "cell_type": "code",
   "execution_count": null,
   "id": "0eb5ab89",
   "metadata": {},
   "outputs": [],
   "source": [
    "# Get the top 2 models.\n",
    "models = tun_model.get_best_models(num_models=2)\n",
    "best_model = models[0]\n",
    "# Build the model.\n",
    "# Needed for `Sequential` without specified `input_shape`.\n",
    "best_model.build(input_shape=(None,11))\n",
    "#input_shape=(None, 28, 28)\n",
    "#best_model.summary()\n",
    "\n"
   ]
  },
  {
   "cell_type": "code",
   "execution_count": null,
   "id": "21fae2ff",
   "metadata": {},
   "outputs": [],
   "source": [
    "best_model_hist=best_model.fit(X_train, y_train,validation_split=0.3, batch_size = 10, epochs = 100)"
   ]
  },
  {
   "cell_type": "code",
   "execution_count": null,
   "id": "c24f1820",
   "metadata": {},
   "outputs": [],
   "source": [
    "best_model_hist.history.keys()"
   ]
  },
  {
   "cell_type": "code",
   "execution_count": null,
   "id": "bfc89073",
   "metadata": {},
   "outputs": [],
   "source": [
    "\n",
    "\n",
    "# summarize history for loss\n",
    "plt.plot(best_model_hist.history['loss'])\n",
    "plt.plot(best_model_hist.history['val_loss'])\n",
    "plt.title('model loss')\n",
    "plt.ylabel('loss')\n",
    "plt.xlabel('epoch')\n",
    "plt.legend(['train', 'test'], loc='upper left')\n",
    "plt.show()\n"
   ]
  },
  {
   "cell_type": "code",
   "execution_count": null,
   "id": "c94d0e26",
   "metadata": {},
   "outputs": [],
   "source": [
    "best_hps = tun_model.get_best_hyperparameters(5)\n",
    "# Build the model with the best hp.\n",
    "model = build_nn(best_hps[0])\n",
    "# Fit with the entire dataset.\n",
    "\n",
    "\n",
    "best_model_hist=model.fit(X_train, y_train,validation_split=0.3, batch_size = 10, epochs = 100)"
   ]
  },
  {
   "cell_type": "code",
   "execution_count": null,
   "id": "d7106d03",
   "metadata": {},
   "outputs": [],
   "source": [
    "#best_model.predict(x_test,y_test)\n",
    "\n",
    "y_pred = best_model.predict(X_test)\n",
    "y_pred_df = pd.DataFrame(y_pred)\n",
    "y_test_df = pd.DataFrame(y_test)\n",
    "y_test_df['ID'] = y_test_df.index\n",
    "\n",
    "y_pred_df.reset_index(drop=True, inplace=True)\n",
    "y_test_df.reset_index(drop=True, inplace=True)\n",
    "\n",
    "y_pred_final = pd.concat([y_test_df,y_pred_df],axis=1)\n",
    "y_pred_final= y_pred_final.rename(columns={ 0: 'Churn_Prob'})\n",
    "\n",
    "y_pred_final['predicted'] = y_pred_final.Churn_Prob.map( lambda x: 1 if x > 0.5 else 0)\n",
    "#y_pred1 = (y_pred > 0.5)"
   ]
  },
  {
   "cell_type": "code",
   "execution_count": null,
   "id": "ba02b925",
   "metadata": {},
   "outputs": [],
   "source": []
  },
  {
   "cell_type": "markdown",
   "id": "d31d6f7d",
   "metadata": {},
   "source": [
    "#tun_model.get_best_hyperparameters(5)\n",
    "best_hps = tun_model.get_best_hyperparameters(5)\n",
    "# Build the model with the best hp.\n",
    "model = build_model(best_hps[0])\n",
    "# Fit with the entire dataset.\n",
    "x_all = np.concatenate((x_train, x_val))\n",
    "y_all = np.concatenate((y_train, y_val)"
   ]
  },
  {
   "cell_type": "code",
   "execution_count": null,
   "id": "af6a53be",
   "metadata": {},
   "outputs": [],
   "source": [
    "confusion = confusion_matrix( y_pred_final.Exited, y_pred_final.predicted )\n",
    "confusion"
   ]
  },
  {
   "cell_type": "code",
   "execution_count": null,
   "id": "bb608f70",
   "metadata": {},
   "outputs": [],
   "source": [
    "accuracy_score( y_pred_final.Exited, y_pred_final.predicted)"
   ]
  },
  {
   "cell_type": "markdown",
   "id": "407630e7",
   "metadata": {},
   "source": [
    "### ROC Curve"
   ]
  },
  {
   "cell_type": "code",
   "execution_count": null,
   "id": "d0dc5a95",
   "metadata": {},
   "outputs": [],
   "source": [
    "def draw_roc( actual, probs ):\n",
    "    fpr, tpr, thresholds = metrics.roc_curve( actual, probs,\n",
    "                                              drop_intermediate = False )\n",
    "    auc_score = metrics.roc_auc_score( actual, probs )\n",
    "    plt.figure(figsize=(6, 4))\n",
    "    plt.plot( fpr, tpr, label='ROC curve (area = %0.2f)' % auc_score )\n",
    "    plt.plot([0, 1], [0, 1], 'k--')\n",
    "    plt.xlim([0.0, 1.0])\n",
    "    plt.ylim([0.0, 1.05])\n",
    "    plt.xlabel('False Positive Rate or [1 - True Negative Rate]')\n",
    "    plt.ylabel('True Positive Rate')\n",
    "    plt.title('Receiver operating characteristic example')\n",
    "    plt.legend(loc=\"lower right\")\n",
    "    plt.show()\n",
    "\n",
    "    return fpr, tpr, thresholds"
   ]
  },
  {
   "cell_type": "code",
   "execution_count": null,
   "id": "42bf0fe7",
   "metadata": {},
   "outputs": [],
   "source": [
    "draw_roc(y_pred_final.Exited, y_pred_final.predicted)"
   ]
  },
  {
   "cell_type": "code",
   "execution_count": null,
   "id": "911b3e10",
   "metadata": {},
   "outputs": [],
   "source": [
    "# Let's create columns with different probability cutoffs \n",
    "numbers = [float(x)/10 for x in range(10)]\n",
    "for i in numbers:\n",
    "    y_pred_final[i]= y_pred_final.Churn_Prob.map( lambda x: 1 if x > i else 0)\n",
    "y_pred_final.head()"
   ]
  },
  {
   "cell_type": "code",
   "execution_count": null,
   "id": "1b897b46",
   "metadata": {},
   "outputs": [],
   "source": [
    "# Now let's calculate accuracy sensitivity and specificity for various probability cutoffs.\n",
    "cutoff_df = pd.DataFrame( columns = ['prob','accuracy','sensi','speci'])\n",
    "from sklearn.metrics import confusion_matrix\n",
    "num = [0.0,0.1,0.2,0.3,0.4,0.5,0.6,0.7,0.8,0.9]\n",
    "for i in num:\n",
    "    cm1 = metrics.confusion_matrix( y_pred_final.Exited, y_pred_final[i] )\n",
    "    total1=sum(sum(cm1))\n",
    "    accuracy = (cm1[0,0]+cm1[1,1])/total1\n",
    "    sensi = cm1[0,0]/(cm1[0,0]+cm1[0,1])\n",
    "    speci = cm1[1,1]/(cm1[1,0]+cm1[1,1])\n",
    "    cutoff_df.loc[i] =[ i ,accuracy,sensi,speci]\n",
    "print(cutoff_df)"
   ]
  },
  {
   "cell_type": "code",
   "execution_count": null,
   "id": "93339f1b",
   "metadata": {},
   "outputs": [],
   "source": [
    "# Let's plot accuracy sensitivity and specificity for various probabilities.\n",
    "cutoff_df.plot.line(x='prob', y=['accuracy','sensi','speci'])"
   ]
  },
  {
   "cell_type": "markdown",
   "id": "9753c552",
   "metadata": {},
   "source": [
    "#### From the curve above, 0.4 is the optimum point to take it as a cutoff probability."
   ]
  },
  {
   "cell_type": "code",
   "execution_count": null,
   "id": "5706c451",
   "metadata": {},
   "outputs": [],
   "source": [
    "y_pred_final['final_predicted'] = y_pred_final.Churn_Prob.map( lambda x: 1 if x > 0.4 else 0)"
   ]
  },
  {
   "cell_type": "code",
   "execution_count": null,
   "id": "75cfb477",
   "metadata": {},
   "outputs": [],
   "source": [
    "y_pred_final.head()"
   ]
  },
  {
   "cell_type": "code",
   "execution_count": null,
   "id": "a3347597",
   "metadata": {},
   "outputs": [],
   "source": [
    "accuracy_score( y_pred_final.Exited, y_pred_final.final_predicted)"
   ]
  },
  {
   "cell_type": "code",
   "execution_count": null,
   "id": "939fb25d",
   "metadata": {},
   "outputs": [],
   "source": [
    "confusion_matrix( y_pred_final.Exited, y_pred_final.final_predicted )"
   ]
  },
  {
   "cell_type": "code",
   "execution_count": null,
   "id": "dc167e99",
   "metadata": {},
   "outputs": [],
   "source": []
  }
 ],
 "metadata": {
  "kernelspec": {
   "display_name": "Python 3 (ipykernel)",
   "language": "python",
   "name": "python3"
  },
  "language_info": {
   "codemirror_mode": {
    "name": "ipython",
    "version": 3
   },
   "file_extension": ".py",
   "mimetype": "text/x-python",
   "name": "python",
   "nbconvert_exporter": "python",
   "pygments_lexer": "ipython3",
   "version": "3.9.7"
  }
 },
 "nbformat": 4,
 "nbformat_minor": 5
}
