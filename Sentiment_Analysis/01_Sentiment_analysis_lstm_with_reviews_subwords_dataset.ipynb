{
 "cells": [
  {
   "cell_type": "markdown",
   "metadata": {
    "id": "KTVx8__oGR9J"
   },
   "source": [
    "In this Notebook, We work with the dataset of subwords for the combined Yelp and Amazon reviews. we will use models to predict the sentiment of new reviews. you'll compare the results of using a model being prepared in Tensorflow with an Embedding layer and then adding bidirectional LSTM layers."
   ]
  },
  {
   "cell_type": "code",
   "execution_count": 65,
   "metadata": {
    "id": "L62G7LTwNzoD"
   },
   "outputs": [],
   "source": [
    "import tensorflow as tf\n",
    "\n",
    "from tensorflow.keras.preprocessing.sequence import pad_sequences\n",
    "import tensorflow_datasets as tfds"
   ]
  },
  {
   "cell_type": "code",
   "execution_count": 66,
   "metadata": {},
   "outputs": [],
   "source": [
    "import pandas as pd\n",
    "import os\n",
    "import glob as glob\n",
    "\n",
    "from pathlib import Path\n",
    "import numpy as np"
   ]
  },
  {
   "cell_type": "markdown",
   "metadata": {
    "id": "hLcl0QHvDjTV"
   },
   "source": [
    "# Get the dataset\n",
    "\n",
    "Start by getting the dataset containing Amazon and Yelp reviews, with their related sentiment (1 for positive, 0 for negative). This dataset was originally extracted from [here](https://www.kaggle.com/marklvl/sentiment-labelled-sentences-data-set).\n"
   ]
  },
  {
   "cell_type": "code",
   "execution_count": 67,
   "metadata": {
    "colab": {
     "base_uri": "https://localhost:8080/"
    },
    "id": "nCOtiRJZbxCH",
    "outputId": "eda3c24c-ed4e-4a5d-9beb-e090afabebcc"
   },
   "outputs": [],
   "source": [
    "#!wget --no-check-certificate \\\n",
    "#    https://drive.google.com/uc?id=13ySLC_ue6Umt9RJYSeM2t-V0kCv-4C-P -O /tmp/sentiment.csv"
   ]
  },
  {
   "cell_type": "code",
   "execution_count": 68,
   "metadata": {},
   "outputs": [],
   "source": [
    "l_input_files=['sentiment']\n",
    "l_datapath=os.path.join(os.getcwd(),'data')\n",
    "    \n",
    "l_filepath =[j for j in glob.glob(os.path.join(l_datapath,'*')) if os.path.basename(j) ==l_input_files[0]+'.csv' ]\n",
    "    "
   ]
  },
  {
   "cell_type": "code",
   "execution_count": 69,
   "metadata": {},
   "outputs": [
    {
     "name": "stdout",
     "output_type": "stream",
     "text": [
      "reading file sentiment.csv\n",
      "Dataframe sentiment_df created\n"
     ]
    }
   ],
   "source": [
    "for n in l_input_files:\n",
    "    for f in l_filepath:\n",
    "        if n==Path(f).stem :\n",
    "            print('reading file {}'.format(os.path.basename(f)))\n",
    "            vars()[n+'_df']=pd.read_csv(f)\n",
    "            print('Dataframe {} created'.format(n+'_df'))"
   ]
  },
  {
   "cell_type": "code",
   "execution_count": 70,
   "metadata": {},
   "outputs": [
    {
     "data": {
      "text/html": [
       "<div>\n",
       "<style scoped>\n",
       "    .dataframe tbody tr th:only-of-type {\n",
       "        vertical-align: middle;\n",
       "    }\n",
       "\n",
       "    .dataframe tbody tr th {\n",
       "        vertical-align: top;\n",
       "    }\n",
       "\n",
       "    .dataframe thead th {\n",
       "        text-align: right;\n",
       "    }\n",
       "</style>\n",
       "<table border=\"1\" class=\"dataframe\">\n",
       "  <thead>\n",
       "    <tr style=\"text-align: right;\">\n",
       "      <th></th>\n",
       "      <th>Unnamed: 0</th>\n",
       "      <th>text</th>\n",
       "      <th>sentiment</th>\n",
       "    </tr>\n",
       "  </thead>\n",
       "  <tbody>\n",
       "    <tr>\n",
       "      <th>0</th>\n",
       "      <td>0</td>\n",
       "      <td>So there is no way for me to plug it in here i...</td>\n",
       "      <td>0</td>\n",
       "    </tr>\n",
       "    <tr>\n",
       "      <th>1</th>\n",
       "      <td>1</td>\n",
       "      <td>Good case Excellent value.</td>\n",
       "      <td>1</td>\n",
       "    </tr>\n",
       "    <tr>\n",
       "      <th>2</th>\n",
       "      <td>2</td>\n",
       "      <td>Great for the jawbone.</td>\n",
       "      <td>1</td>\n",
       "    </tr>\n",
       "    <tr>\n",
       "      <th>3</th>\n",
       "      <td>3</td>\n",
       "      <td>Tied to charger for conversations lasting more...</td>\n",
       "      <td>0</td>\n",
       "    </tr>\n",
       "    <tr>\n",
       "      <th>4</th>\n",
       "      <td>4</td>\n",
       "      <td>The mic is great.</td>\n",
       "      <td>1</td>\n",
       "    </tr>\n",
       "  </tbody>\n",
       "</table>\n",
       "</div>"
      ],
      "text/plain": [
       "   Unnamed: 0                                               text  sentiment\n",
       "0           0  So there is no way for me to plug it in here i...          0\n",
       "1           1                         Good case Excellent value.          1\n",
       "2           2                             Great for the jawbone.          1\n",
       "3           3  Tied to charger for conversations lasting more...          0\n",
       "4           4                                  The mic is great.          1"
      ]
     },
     "execution_count": 70,
     "metadata": {},
     "output_type": "execute_result"
    }
   ],
   "source": [
    "sentiment_df.head()"
   ]
  },
  {
   "cell_type": "code",
   "execution_count": 71,
   "metadata": {
    "id": "XuqER_KMD-xS"
   },
   "outputs": [],
   "source": [
    "#import pandas as pd\n",
    "\n",
    "#dataset = pd.read_csv('/tmp/sentiment.csv')\n",
    "\n",
    "# Extract out sentences and labels\n",
    "sentences = sentiment_df['text'].tolist()\n",
    "labels = sentiment_df['sentiment'].tolist()"
   ]
  },
  {
   "cell_type": "code",
   "execution_count": 72,
   "metadata": {
    "colab": {
     "base_uri": "https://localhost:8080/"
    },
    "id": "Tbsx1T2CXPNO",
    "outputId": "b53ef0c6-7569-4c79-c743-417bdc702962"
   },
   "outputs": [
    {
     "name": "stdout",
     "output_type": "stream",
     "text": [
      "So there is no way for me to plug it in here in the US unless I go by a converter.\n",
      "0\n",
      "\n",
      "\n",
      "Good case Excellent value.\n",
      "1\n",
      "\n",
      "\n"
     ]
    }
   ],
   "source": [
    "# Print some example sentences and labels\n",
    "for x in range(2):\n",
    "    print(sentences[x])\n",
    "    print(labels[x])\n",
    "    print(\"\\n\")"
   ]
  },
  {
   "cell_type": "markdown",
   "metadata": {
    "id": "33AthPiALFZK"
   },
   "source": [
    "#Create a subwords dataset\n",
    "\n",
    "We will use the Amazon and Yelp reviews dataset with tensorflow_datasets's SubwordTextEncoder functionality. \n",
    "\n",
    "SubwordTextEncoder.build_from_corpus() will create a tokenizer for us. You could also use this functionality to get subwords from a much larger corpus of text as well, but we'll just use our existing dataset here.\n",
    "\n",
    "We'll create a subword vocab_size of only the 1,000 most common subwords, as well as cutting off each subword to be at most 5 characters.\n",
    "\n",
    "Check out the related documentation for the the subword text encoder [here](https://www.tensorflow.org/datasets/api_docs/python/tfds/features/text/SubwordTextEncoder#build_from_corpus)."
   ]
  },
  {
   "cell_type": "code",
   "execution_count": 73,
   "metadata": {
    "colab": {
     "base_uri": "https://localhost:8080/"
    },
    "id": "6NaicNCcLYyf",
    "outputId": "6eeb640f-a686-4e78-c801-f12625f8d577"
   },
   "outputs": [
    {
     "name": "stdout",
     "output_type": "stream",
     "text": [
      "Vocab size is  999\n"
     ]
    }
   ],
   "source": [
    "\n",
    "\n",
    "vocab_size = 1000\n",
    "tokenizer = tfds.deprecated.text.SubwordTextEncoder.build_from_corpus(sentences, vocab_size, max_subword_length=5)\n",
    "\n",
    "# How big is the vocab size?\n",
    "print(\"Vocab size is \", tokenizer.vocab_size)"
   ]
  },
  {
   "cell_type": "code",
   "execution_count": 74,
   "metadata": {
    "colab": {
     "base_uri": "https://localhost:8080/"
    },
    "id": "xvRVoeIVLevh",
    "outputId": "8928c6e7-b1c1-4fde-fe3e-1dd5d665fc78"
   },
   "outputs": [
    {
     "name": "stdout",
     "output_type": "stream",
     "text": [
      "I have to jiggle the plug to get it to line up right to get decent volume.\n",
      "[4, 31, 6, 849, 162, 450, 12, 1, 600, 438, 775, 6, 175, 14, 6, 55, 213, 159, 474, 775, 6, 175, 614, 380, 295, 148, 72, 789]\n"
     ]
    }
   ],
   "source": [
    "# Check that the tokenizer works appropriately\n",
    "num = 5\n",
    "print(sentences[num])\n",
    "encoded = tokenizer.encode(sentences[num])\n",
    "print(encoded)"
   ]
  },
  {
   "cell_type": "code",
   "execution_count": 75,
   "metadata": {
    "colab": {
     "base_uri": "https://localhost:8080/"
    },
    "id": "G_vacTCifklV",
    "outputId": "af3f9c85-8b2f-40a0-bfeb-60e725733856"
   },
   "outputs": [
    {
     "name": "stdout",
     "output_type": "stream",
     "text": [
      "I \n",
      "have \n",
      "to \n",
      "j\n",
      "ig\n",
      "gl\n",
      "e \n",
      "the \n",
      "pl\n",
      "ug\n",
      " \n",
      "to \n",
      "get \n",
      "it \n",
      "to \n",
      "li\n",
      "ne \n",
      "up \n",
      "right\n",
      " \n",
      "to \n",
      "get \n",
      "dec\n",
      "ent \n",
      "vo\n",
      "lu\n",
      "me\n",
      ".\n"
     ]
    }
   ],
   "source": [
    "# Separately print out each subword, decoded\n",
    "for i in encoded:\n",
    "    print(tokenizer.decode([i]))"
   ]
  },
  {
   "cell_type": "markdown",
   "metadata": {
    "id": "cT528cptLupl"
   },
   "source": [
    "## Replace sentence data with encoded subwords\n",
    "\n",
    "Now, we'll create the sequences to be used for training by actually encoding each of the individual sentences. This is equivalent to `text_to_sequences` with the `Tokenizer` we used in earlier exercises."
   ]
  },
  {
   "cell_type": "code",
   "execution_count": 76,
   "metadata": {
    "id": "lkseMhxjL09F"
   },
   "outputs": [],
   "source": [
    "for i, sentence in enumerate(sentences):\n",
    "    sentences[i] = tokenizer.encode(sentence)"
   ]
  },
  {
   "cell_type": "code",
   "execution_count": 77,
   "metadata": {
    "colab": {
     "base_uri": "https://localhost:8080/"
    },
    "id": "y21yRuzmL43U",
    "outputId": "31ff878d-bb14-4aa7-a1f7-4d4a55044c4e"
   },
   "outputs": [
    {
     "name": "stdout",
     "output_type": "stream",
     "text": [
      "[4, 31, 6, 849, 162, 450, 12, 1, 600, 438, 775, 6, 175, 14, 6, 55, 213, 159, 474, 775, 6, 175, 614, 380, 295, 148, 72, 789]\n"
     ]
    }
   ],
   "source": [
    "# Check the sentences are appropriately replaced\n",
    "print(sentences[5])"
   ]
  },
  {
   "cell_type": "markdown",
   "metadata": {
    "id": "8HrcPHESMBMs"
   },
   "source": [
    "## Final pre-processing\n",
    "\n",
    "Before training, we still need to pad the sequences, as well as split into training and test sets."
   ]
  },
  {
   "cell_type": "code",
   "execution_count": 78,
   "metadata": {},
   "outputs": [],
   "source": [
    "max_length = 50\n",
    "trunc_type='post'\n",
    "padding_type='post'\n",
    "sequences_padded = pad_sequences(sentences, maxlen=max_length, \n",
    "                                 padding=padding_type, truncating=trunc_type)"
   ]
  },
  {
   "cell_type": "code",
   "execution_count": 79,
   "metadata": {},
   "outputs": [
    {
     "data": {
      "text/plain": [
       "(1992, 50)"
      ]
     },
     "execution_count": 79,
     "metadata": {},
     "output_type": "execute_result"
    }
   ],
   "source": [
    "\n",
    "sequences_padded.shape"
   ]
  },
  {
   "cell_type": "code",
   "execution_count": 80,
   "metadata": {
    "id": "50-hTsogLSL-"
   },
   "outputs": [],
   "source": [
    "\n",
    "\n",
    "max_length = 50\n",
    "trunc_type='post'\n",
    "padding_type='post'\n",
    "\n",
    "# Pad all sequences\n",
    "sequences_padded = pad_sequences(sentences, maxlen=max_length, \n",
    "                                 padding=padding_type, truncating=trunc_type)\n",
    "\n",
    "# Separate out the sentences and labels into training and test sets\n",
    "training_size = int(len(sentences) * 0.8)\n",
    "\n",
    "training_sequences = sequences_padded[0:training_size]\n",
    "testing_sequences = sequences_padded[training_size:]\n",
    "training_labels = labels[0:training_size]\n",
    "testing_labels = labels[training_size:]\n",
    "\n",
    "# Make labels into numpy arrays for use with the network later\n",
    "training_labels_final = np.array(training_labels)\n",
    "testing_labels_final = np.array(testing_labels)"
   ]
  },
  {
   "cell_type": "markdown",
   "metadata": {
    "id": "PahZm7YEQ8EI"
   },
   "source": [
    "# Create the model using an Embedding"
   ]
  },
  {
   "cell_type": "code",
   "execution_count": 81,
   "metadata": {
    "colab": {
     "base_uri": "https://localhost:8080/"
    },
    "id": "c_nyQeI0RCCv",
    "outputId": "0d1f0f54-621b-4f65-d730-59ffe2013cf8"
   },
   "outputs": [
    {
     "name": "stdout",
     "output_type": "stream",
     "text": [
      "Model: \"sequential_1\"\n",
      "_________________________________________________________________\n",
      " Layer (type)                Output Shape              Param #   \n",
      "=================================================================\n",
      " embedding_1 (Embedding)     (None, 50, 16)            16000     \n",
      "                                                                 \n",
      " global_average_pooling1d_1   (None, 16)               0         \n",
      " (GlobalAveragePooling1D)                                        \n",
      "                                                                 \n",
      " dense_2 (Dense)             (None, 6)                 102       \n",
      "                                                                 \n",
      " dense_3 (Dense)             (None, 1)                 7         \n",
      "                                                                 \n",
      "=================================================================\n",
      "Total params: 16,109\n",
      "Trainable params: 16,109\n",
      "Non-trainable params: 0\n",
      "_________________________________________________________________\n"
     ]
    }
   ],
   "source": [
    "embedding_dim = 16\n",
    "\n",
    "model = tf.keras.Sequential([\n",
    "    tf.keras.layers.Embedding(vocab_size, embedding_dim, input_length=max_length),\n",
    "    tf.keras.layers.GlobalAveragePooling1D(), \n",
    "    tf.keras.layers.Dense(6, activation='relu'),\n",
    "    tf.keras.layers.Dense(1, activation='sigmoid')\n",
    "])\n",
    "\n",
    "model.summary()"
   ]
  },
  {
   "cell_type": "markdown",
   "metadata": {
    "id": "3WRXrx8BRO2L"
   },
   "source": [
    "# Train the model"
   ]
  },
  {
   "cell_type": "code",
   "execution_count": 82,
   "metadata": {
    "colab": {
     "base_uri": "https://localhost:8080/"
    },
    "id": "oBKyVYvxRQ_9",
    "outputId": "d485cc6c-4fd2-499f-f9fd-9b01f2c4c079"
   },
   "outputs": [
    {
     "name": "stdout",
     "output_type": "stream",
     "text": [
      "Epoch 1/30\n",
      "50/50 [==============================] - 1s 3ms/step - loss: 0.6917 - accuracy: 0.5342 - val_loss: 0.6954 - val_accuracy: 0.4311\n",
      "Epoch 2/30\n",
      "50/50 [==============================] - 0s 1ms/step - loss: 0.6872 - accuracy: 0.5574 - val_loss: 0.6896 - val_accuracy: 0.5213\n",
      "Epoch 3/30\n",
      "50/50 [==============================] - 0s 1ms/step - loss: 0.6775 - accuracy: 0.6277 - val_loss: 0.6822 - val_accuracy: 0.5589\n",
      "Epoch 4/30\n",
      "50/50 [==============================] - 0s 1ms/step - loss: 0.6637 - accuracy: 0.7024 - val_loss: 0.6703 - val_accuracy: 0.6266\n",
      "Epoch 5/30\n",
      "50/50 [==============================] - 0s 1ms/step - loss: 0.6439 - accuracy: 0.7389 - val_loss: 0.6595 - val_accuracy: 0.6291\n",
      "Epoch 6/30\n",
      "50/50 [==============================] - 0s 1ms/step - loss: 0.6174 - accuracy: 0.7596 - val_loss: 0.6400 - val_accuracy: 0.6692\n",
      "Epoch 7/30\n",
      "50/50 [==============================] - 0s 1ms/step - loss: 0.5832 - accuracy: 0.7941 - val_loss: 0.6045 - val_accuracy: 0.7744\n",
      "Epoch 8/30\n",
      "50/50 [==============================] - 0s 1ms/step - loss: 0.5477 - accuracy: 0.8205 - val_loss: 0.5857 - val_accuracy: 0.7669\n",
      "Epoch 9/30\n",
      "50/50 [==============================] - 0s 1ms/step - loss: 0.5089 - accuracy: 0.8336 - val_loss: 0.5745 - val_accuracy: 0.7243\n",
      "Epoch 10/30\n",
      "50/50 [==============================] - 0s 1ms/step - loss: 0.4730 - accuracy: 0.8387 - val_loss: 0.5412 - val_accuracy: 0.7870\n",
      "Epoch 11/30\n",
      "50/50 [==============================] - 0s 1ms/step - loss: 0.4385 - accuracy: 0.8531 - val_loss: 0.5324 - val_accuracy: 0.7544\n",
      "Epoch 12/30\n",
      "50/50 [==============================] - 0s 1ms/step - loss: 0.4087 - accuracy: 0.8694 - val_loss: 0.5202 - val_accuracy: 0.7469\n",
      "Epoch 13/30\n",
      "50/50 [==============================] - 0s 1ms/step - loss: 0.3815 - accuracy: 0.8707 - val_loss: 0.5145 - val_accuracy: 0.7544\n",
      "Epoch 14/30\n",
      "50/50 [==============================] - 0s 1ms/step - loss: 0.3567 - accuracy: 0.8807 - val_loss: 0.5096 - val_accuracy: 0.7544\n",
      "Epoch 15/30\n",
      "50/50 [==============================] - 0s 1ms/step - loss: 0.3360 - accuracy: 0.8814 - val_loss: 0.5237 - val_accuracy: 0.7343\n",
      "Epoch 16/30\n",
      "50/50 [==============================] - 0s 1ms/step - loss: 0.3171 - accuracy: 0.8952 - val_loss: 0.5109 - val_accuracy: 0.7494\n",
      "Epoch 17/30\n",
      "50/50 [==============================] - 0s 1ms/step - loss: 0.2990 - accuracy: 0.8939 - val_loss: 0.5118 - val_accuracy: 0.7469\n",
      "Epoch 18/30\n",
      "50/50 [==============================] - 0s 1ms/step - loss: 0.2825 - accuracy: 0.9033 - val_loss: 0.4971 - val_accuracy: 0.7594\n",
      "Epoch 19/30\n",
      "50/50 [==============================] - 0s 1ms/step - loss: 0.2702 - accuracy: 0.9090 - val_loss: 0.5063 - val_accuracy: 0.7569\n",
      "Epoch 20/30\n",
      "50/50 [==============================] - 0s 1ms/step - loss: 0.2578 - accuracy: 0.9052 - val_loss: 0.5065 - val_accuracy: 0.7519\n",
      "Epoch 21/30\n",
      "50/50 [==============================] - 0s 1ms/step - loss: 0.2463 - accuracy: 0.9153 - val_loss: 0.5136 - val_accuracy: 0.7494\n",
      "Epoch 22/30\n",
      "50/50 [==============================] - 0s 1ms/step - loss: 0.2351 - accuracy: 0.9178 - val_loss: 0.5220 - val_accuracy: 0.7469\n",
      "Epoch 23/30\n",
      "50/50 [==============================] - 0s 1ms/step - loss: 0.2257 - accuracy: 0.9247 - val_loss: 0.5327 - val_accuracy: 0.7519\n",
      "Epoch 24/30\n",
      "50/50 [==============================] - 0s 1ms/step - loss: 0.2167 - accuracy: 0.9309 - val_loss: 0.5552 - val_accuracy: 0.7444\n",
      "Epoch 25/30\n",
      "50/50 [==============================] - 0s 1ms/step - loss: 0.2079 - accuracy: 0.9297 - val_loss: 0.5739 - val_accuracy: 0.7393\n",
      "Epoch 26/30\n",
      "50/50 [==============================] - 0s 1ms/step - loss: 0.2008 - accuracy: 0.9322 - val_loss: 0.5742 - val_accuracy: 0.7393\n",
      "Epoch 27/30\n",
      "50/50 [==============================] - 0s 1ms/step - loss: 0.1936 - accuracy: 0.9303 - val_loss: 0.5596 - val_accuracy: 0.7544\n",
      "Epoch 28/30\n",
      "50/50 [==============================] - 0s 1ms/step - loss: 0.1851 - accuracy: 0.9391 - val_loss: 0.5810 - val_accuracy: 0.7444\n",
      "Epoch 29/30\n",
      "50/50 [==============================] - 0s 1ms/step - loss: 0.1786 - accuracy: 0.9448 - val_loss: 0.5921 - val_accuracy: 0.7419\n",
      "Epoch 30/30\n",
      "50/50 [==============================] - 0s 1ms/step - loss: 0.1725 - accuracy: 0.9485 - val_loss: 0.5840 - val_accuracy: 0.7594\n"
     ]
    }
   ],
   "source": [
    "num_epochs = 30\n",
    "model.compile(loss='binary_crossentropy',optimizer='adam',metrics=['accuracy'])\n",
    "history = model.fit(training_sequences, training_labels_final, epochs=num_epochs, validation_data=(testing_sequences, testing_labels_final))\n"
   ]
  },
  {
   "cell_type": "markdown",
   "metadata": {
    "id": "HhLPbUl2AZ0y"
   },
   "source": [
    "# Plot the accuracy and loss"
   ]
  },
  {
   "cell_type": "code",
   "execution_count": 83,
   "metadata": {
    "colab": {
     "base_uri": "https://localhost:8080/",
     "height": 541
    },
    "id": "jzBM1PpJAYfD",
    "outputId": "8e197937-93be-487b-d9fa-fafbc58b65c9"
   },
   "outputs": [
    {
     "data": {
      "image/png": "[encoded data removed]",
      "text/plain": [
       "<Figure size 432x288 with 1 Axes>"
      ]
     },
     "metadata": {
      "needs_background": "light"
     },
     "output_type": "display_data"
    },
    {
     "data": {
      "image/png": "[encoded data removed]",
      "text/plain": [
       "<Figure size 432x288 with 1 Axes>"
      ]
     },
     "metadata": {
      "needs_background": "light"
     },
     "output_type": "display_data"
    }
   ],
   "source": [
    "import matplotlib.pyplot as plt\n",
    "\n",
    "\n",
    "def plot_graphs(history, string):\n",
    "  plt.plot(history.history[string])\n",
    "  plt.plot(history.history['val_'+string])\n",
    "  plt.xlabel(\"Epochs\")\n",
    "  plt.ylabel(string)\n",
    "  plt.legend([string, 'val_'+string])\n",
    "  plt.show()\n",
    "  \n",
    "plot_graphs(history, \"accuracy\")\n",
    "plot_graphs(history, \"loss\")"
   ]
  },
  {
   "cell_type": "markdown",
   "metadata": {
    "id": "Fwr5inBiWffb"
   },
   "source": [
    "# Define a function to predict the sentiment of reviews\n",
    "\n",
    "We'll be creating models with some differences and will use each model to predict the sentiment of some new reviews.\n",
    "\n",
    "To save time, create a function that will take in a model and some new reviews, and print out the sentiment of each reviews.\n",
    "\n",
    "The higher the sentiment value is to 1, the more positive the review is."
   ]
  },
  {
   "cell_type": "code",
   "execution_count": 84,
   "metadata": {
    "id": "aPNOYiiaha2y"
   },
   "outputs": [],
   "source": [
    "# Define a function to take a series of reviews\n",
    "# and predict whether each one is a positive or negative review\n",
    "\n",
    "# max_length = 100 # previously defined\n",
    "\n",
    "def predict_review(model, new_sentences, maxlen=max_length, show_padded_sequence=True ):\n",
    "  # Keep the original sentences so that we can keep using them later\n",
    "  # Create an array to hold the encoded sequences\n",
    "    new_sequences = []\n",
    "  \n",
    "    # Convert the new reviews to sequences\n",
    "    for i, frvw in enumerate(new_sentences):\n",
    "        new_sequences.append(tokenizer.encode(frvw))\n",
    "  \n",
    "    trunc_type='post' \n",
    "    padding_type='post'\n",
    "  \n",
    "    # Pad all sequences for the new reviews\n",
    "    new_reviews_padded = pad_sequences(new_sequences, maxlen=max_length, \n",
    "                                   padding=padding_type, truncating=trunc_type)             \n",
    "  \n",
    "    classes = model.predict(new_reviews_padded)\n",
    "  \n",
    "    # The closer the class is to 1, the more positive the review is\n",
    "    for x in range(len(new_sentences)):\n",
    "      \n",
    "      # We can see the padded sequence if desired\n",
    "      # Print the sequence\n",
    "      if (show_padded_sequence):\n",
    "        print(new_reviews_padded[x])\n",
    "      # Print the review as text\n",
    "      print(new_sentences[x])\n",
    "      # Print its predicted class\n",
    "      print(classes[x])\n",
    "    print(\"\\n\")"
   ]
  },
  {
   "cell_type": "code",
   "execution_count": 85,
   "metadata": {
    "colab": {
     "base_uri": "https://localhost:8080/"
    },
    "id": "Qg-maex27KPW",
    "outputId": "f5d2ce96-13d8-41a4-aade-8ab196f5889e"
   },
   "outputs": [
    {
     "name": "stdout",
     "output_type": "stream",
     "text": [
      "[  4 281  16  25   0   0   0   0   0   0   0   0   0   0   0   0   0   0\n",
      "   0   0   0   0   0   0   0   0   0   0   0   0   0   0   0   0   0   0\n",
      "   0   0   0   0   0   0   0   0   0   0   0   0   0   0]\n",
      "I love this phone\n",
      "[0.85347414]\n",
      "[812 227 864 100 775   9 525 843   0   0   0   0   0   0   0   0   0   0\n",
      "   0   0   0   0   0   0   0   0   0   0   0   0   0   0   0   0   0   0\n",
      "   0   0   0   0   0   0   0   0   0   0   0   0   0   0]\n",
      "Everything was cold\n",
      "[0.06689793]\n",
      "[812 227 864 100 775   9 109   8 333 731  24  61   4 171  59  77   0   0\n",
      "   0   0   0   0   0   0   0   0   0   0   0   0   0   0   0   0   0   0\n",
      "   0   0   0   0   0   0   0   0   0   0   0   0   0   0]\n",
      "Everything was hot exactly as I wanted\n",
      "[0.22917476]\n",
      "[812 227 864 100 775   9 157 359 853   0   0   0   0   0   0   0   0   0\n",
      "   0   0   0   0   0   0   0   0   0   0   0   0   0   0   0   0   0   0\n",
      "   0   0   0   0   0   0   0   0   0   0   0   0   0   0]\n",
      "Everything was green\n",
      "[0.05694062]\n",
      "[  1 109 228 540 237 635 241 423 340  89 298   0   0   0   0   0   0   0\n",
      "   0   0   0   0   0   0   0   0   0   0   0   0   0   0   0   0   0   0\n",
      "   0   0   0   0   0   0   0   0   0   0   0   0   0   0]\n",
      "the host seated us immediately\n",
      "[0.37747404]\n",
      "[154 242  47 635 341  12 569 547 147 319 775 125  85   0   0   0   0   0\n",
      "   0   0   0   0   0   0   0   0   0   0   0   0   0   0   0   0   0   0\n",
      "   0   0   0   0   0   0   0   0   0   0   0   0   0   0]\n",
      "they gave us free chocolate cake\n",
      "[0.6664515]\n",
      "[158 190 853 782   8 607 775 210 232 146 775 470  67 305 101  15   1 328\n",
      " 296  26  19   1 661 641 195   0   0   0   0   0   0   0   0   0   0   0\n",
      "   0   0   0   0   0   0   0   0   0   0   0   0   0   0]\n",
      "we couldn't hear each other talk because of the shouting in the kitchen\n",
      "[0.0111849]\n",
      "\n",
      "\n"
     ]
    }
   ],
   "source": [
    "# Use the model to predict some reviews   \n",
    "fake_reviews = [\"I love this phone\", \n",
    "                \"Everything was cold\",\n",
    "                \"Everything was hot exactly as I wanted\", \n",
    "                \"Everything was green\", \n",
    "                \"the host seated us immediately\",\n",
    "                \"they gave us free chocolate cake\", \n",
    "                \"we couldn't hear each other talk because of the shouting in the kitchen\"\n",
    "              ]\n",
    "\n",
    "predict_review(model, fake_reviews)\n"
   ]
  },
  {
   "cell_type": "markdown",
   "metadata": {
    "id": "ycJKbMq3K4iy"
   },
   "source": [
    "# Define a function to train and show the results of models with different layers\n",
    "\n",
    "In the rest of this colab, we will define models, and then see the results. \n",
    "\n",
    "Define a function that will take the model, compile it, train it, graph the accuracy and loss, and then predict some results."
   ]
  },
  {
   "cell_type": "code",
   "execution_count": 86,
   "metadata": {
    "id": "PevUcINXK3gn"
   },
   "outputs": [],
   "source": [
    "def fit_model_now (model, sentences) :\n",
    "    model.compile(loss='binary_crossentropy',optimizer='adam',metrics=['accuracy'])\n",
    "    model.summary()\n",
    "    history = model.fit(training_sequences, training_labels_final, epochs=num_epochs, \n",
    "                      validation_data=(testing_sequences, testing_labels_final))\n",
    "    return history\n",
    "\n",
    "def plot_results (history):\n",
    "    plot_graphs(history, \"accuracy\")\n",
    "    plot_graphs(history, \"loss\")\n",
    "\n",
    "def fit_model_and_show_results (model, sentences):\n",
    "    history = fit_model_now(model, sentences)\n",
    "    plot_results(history)\n",
    "    predict_review(model, sentences)"
   ]
  },
  {
   "cell_type": "markdown",
   "metadata": {
    "id": "U13JBiJUG1oq"
   },
   "source": [
    "# Add a bidirectional LSTM\n",
    "\n",
    "Create a new model that uses a bidirectional LSTM.\n",
    "\n",
    "Then use the function we have already defined to compile the model, train it, graph the accuracy and loss, then predict some results."
   ]
  },
  {
   "cell_type": "code",
   "execution_count": 87,
   "metadata": {
    "colab": {
     "base_uri": "https://localhost:8080/",
     "height": 1000
    },
    "id": "scTUsFPAG4zP",
    "outputId": "ee636584-4a34-471d-92dd-f0ee0a0a237a"
   },
   "outputs": [
    {
     "name": "stdout",
     "output_type": "stream",
     "text": [
      "Model: \"sequential_2\"\n",
      "_________________________________________________________________\n",
      " Layer (type)                Output Shape              Param #   \n",
      "=================================================================\n",
      " embedding_2 (Embedding)     (None, 50, 16)            16000     \n",
      "                                                                 \n",
      " bidirectional (Bidirectiona  (None, 32)               4224      \n",
      " l)                                                              \n",
      "                                                                 \n",
      " dense_4 (Dense)             (None, 6)                 198       \n",
      "                                                                 \n",
      " dense_5 (Dense)             (None, 1)                 7         \n",
      "                                                                 \n",
      "=================================================================\n",
      "Total params: 20,429\n",
      "Trainable params: 20,429\n",
      "Non-trainable params: 0\n",
      "_________________________________________________________________\n",
      "Epoch 1/30\n",
      "50/50 [==============================] - 3s 21ms/step - loss: 0.6925 - accuracy: 0.5166 - val_loss: 0.6983 - val_accuracy: 0.4110\n",
      "Epoch 2/30\n",
      "50/50 [==============================] - 1s 12ms/step - loss: 0.6783 - accuracy: 0.5342 - val_loss: 0.7010 - val_accuracy: 0.4336\n",
      "Epoch 3/30\n",
      "50/50 [==============================] - 1s 11ms/step - loss: 0.5490 - accuracy: 0.7539 - val_loss: 0.5123 - val_accuracy: 0.7845\n",
      "Epoch 4/30\n",
      "50/50 [==============================] - 1s 12ms/step - loss: 0.3796 - accuracy: 0.8493 - val_loss: 0.4858 - val_accuracy: 0.7970\n",
      "Epoch 5/30\n",
      "50/50 [==============================] - 1s 11ms/step - loss: 0.2930 - accuracy: 0.8933 - val_loss: 0.5337 - val_accuracy: 0.7419\n",
      "Epoch 6/30\n",
      "50/50 [==============================] - 1s 11ms/step - loss: 0.2405 - accuracy: 0.9140 - val_loss: 0.5744 - val_accuracy: 0.7419\n",
      "Epoch 7/30\n",
      "50/50 [==============================] - 1s 11ms/step - loss: 0.1969 - accuracy: 0.9316 - val_loss: 0.6078 - val_accuracy: 0.7544\n",
      "Epoch 8/30\n",
      "50/50 [==============================] - 1s 14ms/step - loss: 0.1572 - accuracy: 0.9548 - val_loss: 0.7503 - val_accuracy: 0.7393\n",
      "Epoch 9/30\n",
      "50/50 [==============================] - 1s 19ms/step - loss: 0.1479 - accuracy: 0.9535 - val_loss: 0.9099 - val_accuracy: 0.7393\n",
      "Epoch 10/30\n",
      "50/50 [==============================] - 1s 20ms/step - loss: 0.1383 - accuracy: 0.9567 - val_loss: 0.8193 - val_accuracy: 0.7544\n",
      "Epoch 11/30\n",
      "50/50 [==============================] - 1s 22ms/step - loss: 0.1262 - accuracy: 0.9636 - val_loss: 0.8323 - val_accuracy: 0.7569\n",
      "Epoch 12/30\n",
      "50/50 [==============================] - 1s 23ms/step - loss: 0.0972 - accuracy: 0.9768 - val_loss: 0.9090 - val_accuracy: 0.7619\n",
      "Epoch 13/30\n",
      "50/50 [==============================] - 1s 19ms/step - loss: 0.0823 - accuracy: 0.9793 - val_loss: 0.9971 - val_accuracy: 0.7569\n",
      "Epoch 14/30\n",
      "50/50 [==============================] - 1s 20ms/step - loss: 0.0814 - accuracy: 0.9818 - val_loss: 0.8154 - val_accuracy: 0.7569\n",
      "Epoch 15/30\n",
      "50/50 [==============================] - 1s 21ms/step - loss: 0.0688 - accuracy: 0.9856 - val_loss: 1.0412 - val_accuracy: 0.7544\n",
      "Epoch 16/30\n",
      "50/50 [==============================] - 1s 19ms/step - loss: 0.0542 - accuracy: 0.9906 - val_loss: 1.0616 - val_accuracy: 0.7619\n",
      "Epoch 17/30\n",
      "50/50 [==============================] - 1s 27ms/step - loss: 0.0481 - accuracy: 0.9925 - val_loss: 1.1480 - val_accuracy: 0.7569\n",
      "Epoch 18/30\n",
      "50/50 [==============================] - 1s 21ms/step - loss: 0.0442 - accuracy: 0.9931 - val_loss: 1.1799 - val_accuracy: 0.7519\n",
      "Epoch 19/30\n",
      "50/50 [==============================] - 1s 20ms/step - loss: 0.0422 - accuracy: 0.9931 - val_loss: 1.2230 - val_accuracy: 0.7544\n",
      "Epoch 20/30\n",
      "50/50 [==============================] - 1s 19ms/step - loss: 0.0407 - accuracy: 0.9931 - val_loss: 1.2592 - val_accuracy: 0.7569\n",
      "Epoch 21/30\n",
      "50/50 [==============================] - 1s 20ms/step - loss: 0.0397 - accuracy: 0.9931 - val_loss: 1.3185 - val_accuracy: 0.7494\n",
      "Epoch 22/30\n",
      "50/50 [==============================] - 1s 20ms/step - loss: 0.0676 - accuracy: 0.9843 - val_loss: 1.8100 - val_accuracy: 0.7143\n",
      "Epoch 23/30\n",
      "50/50 [==============================] - 1s 20ms/step - loss: 0.1146 - accuracy: 0.9611 - val_loss: 1.2244 - val_accuracy: 0.7444\n",
      "Epoch 24/30\n",
      "50/50 [==============================] - 1s 20ms/step - loss: 0.0711 - accuracy: 0.9837 - val_loss: 1.2305 - val_accuracy: 0.7594\n",
      "Epoch 25/30\n",
      "50/50 [==============================] - 1s 18ms/step - loss: 0.0490 - accuracy: 0.9918 - val_loss: 1.2984 - val_accuracy: 0.7594\n",
      "Epoch 26/30\n",
      "50/50 [==============================] - 1s 21ms/step - loss: 0.0423 - accuracy: 0.9931 - val_loss: 1.3103 - val_accuracy: 0.7544\n",
      "Epoch 27/30\n",
      "50/50 [==============================] - 1s 20ms/step - loss: 0.0401 - accuracy: 0.9931 - val_loss: 1.3164 - val_accuracy: 0.7544\n",
      "Epoch 28/30\n",
      "50/50 [==============================] - 1s 20ms/step - loss: 0.0385 - accuracy: 0.9931 - val_loss: 1.3444 - val_accuracy: 0.7494\n",
      "Epoch 29/30\n",
      "50/50 [==============================] - 1s 18ms/step - loss: 0.0376 - accuracy: 0.9937 - val_loss: 1.3684 - val_accuracy: 0.7494\n",
      "Epoch 30/30\n",
      "50/50 [==============================] - 1s 17ms/step - loss: 0.0370 - accuracy: 0.9937 - val_loss: 1.4010 - val_accuracy: 0.7469\n"
     ]
    },
    {
     "data": {
      "image/png": "[encoded data removed]",
      "text/plain": [
       "<Figure size 432x288 with 1 Axes>"
      ]
     },
     "metadata": {
      "needs_background": "light"
     },
     "output_type": "display_data"
    },
    {
     "data": {
      "image/png": "[encoded data removed]",
      "text/plain": [
       "<Figure size 432x288 with 1 Axes>"
      ]
     },
     "metadata": {
      "needs_background": "light"
     },
     "output_type": "display_data"
    },
    {
     "name": "stdout",
     "output_type": "stream",
     "text": [
      "[  4 281  16  25   0   0   0   0   0   0   0   0   0   0   0   0   0   0\n",
      "   0   0   0   0   0   0   0   0   0   0   0   0   0   0   0   0   0   0\n",
      "   0   0   0   0   0   0   0   0   0   0   0   0   0   0]\n",
      "I love this phone\n",
      "[0.9984921]\n",
      "[812 227 864 100 775   9 525 843   0   0   0   0   0   0   0   0   0   0\n",
      "   0   0   0   0   0   0   0   0   0   0   0   0   0   0   0   0   0   0\n",
      "   0   0   0   0   0   0   0   0   0   0   0   0   0   0]\n",
      "Everything was cold\n",
      "[0.01552418]\n",
      "[812 227 864 100 775   9 109   8 333 731  24  61   4 171  59  77   0   0\n",
      "   0   0   0   0   0   0   0   0   0   0   0   0   0   0   0   0   0   0\n",
      "   0   0   0   0   0   0   0   0   0   0   0   0   0   0]\n",
      "Everything was hot exactly as I wanted\n",
      "[0.99079865]\n",
      "[812 227 864 100 775   9 157 359 853   0   0   0   0   0   0   0   0   0\n",
      "   0   0   0   0   0   0   0   0   0   0   0   0   0   0   0   0   0   0\n",
      "   0   0   0   0   0   0   0   0   0   0   0   0   0   0]\n",
      "Everything was green\n",
      "[0.03126937]\n",
      "[  1 109 228 540 237 635 241 423 340  89 298   0   0   0   0   0   0   0\n",
      "   0   0   0   0   0   0   0   0   0   0   0   0   0   0   0   0   0   0\n",
      "   0   0   0   0   0   0   0   0   0   0   0   0   0   0]\n",
      "the host seated us immediately\n",
      "[0.9995954]\n",
      "[154 242  47 635 341  12 569 547 147 319 775 125  85   0   0   0   0   0\n",
      "   0   0   0   0   0   0   0   0   0   0   0   0   0   0   0   0   0   0\n",
      "   0   0   0   0   0   0   0   0   0   0   0   0   0   0]\n",
      "they gave us free chocolate cake\n",
      "[0.99886316]\n",
      "[158 190 853 782   8 607 775 210 232 146 775 470  67 305 101  15   1 328\n",
      " 296  26  19   1 661 641 195   0   0   0   0   0   0   0   0   0   0   0\n",
      "   0   0   0   0   0   0   0   0   0   0   0   0   0   0]\n",
      "we couldn't hear each other talk because of the shouting in the kitchen\n",
      "[0.01357323]\n",
      "\n",
      "\n"
     ]
    }
   ],
   "source": [
    "# Define the model\n",
    "model_bidi_lstm = tf.keras.Sequential([\n",
    "    tf.keras.layers.Embedding(vocab_size, embedding_dim, input_length=max_length),\n",
    "    tf.keras.layers.Bidirectional(tf.keras.layers.LSTM(embedding_dim)), \n",
    "    tf.keras.layers.Dense(6, activation='relu'), \n",
    "    tf.keras.layers.Dense(1, activation='sigmoid')\n",
    "])\n",
    "\n",
    "# Compile and train the model and then show the predictions for our extra sentences\n",
    "fit_model_and_show_results(model_bidi_lstm, fake_reviews)\n"
   ]
  },
  {
   "cell_type": "markdown",
   "metadata": {
    "id": "QsxKPbCnPJTj"
   },
   "source": [
    "# Use multiple bidirectional layers\n",
    "\n",
    "Now let's see if we get any improvements from adding another Bidirectional LSTM layer to the model.\n",
    "\n",
    "Notice that the first Bidirectionl LSTM layer returns a sequence."
   ]
  },
  {
   "cell_type": "code",
   "execution_count": 88,
   "metadata": {
    "colab": {
     "base_uri": "https://localhost:8080/",
     "height": 1000
    },
    "id": "3N6Zul47PMED",
    "outputId": "32840279-1eef-405e-aa93-909934ddb876"
   },
   "outputs": [
    {
     "name": "stdout",
     "output_type": "stream",
     "text": [
      "Model: \"sequential_3\"\n",
      "_________________________________________________________________\n",
      " Layer (type)                Output Shape              Param #   \n",
      "=================================================================\n",
      " embedding_3 (Embedding)     (None, 50, 16)            16000     \n",
      "                                                                 \n",
      " bidirectional_1 (Bidirectio  (None, 50, 32)           4224      \n",
      " nal)                                                            \n",
      "                                                                 \n",
      " bidirectional_2 (Bidirectio  (None, 32)               6272      \n",
      " nal)                                                            \n",
      "                                                                 \n",
      " dense_6 (Dense)             (None, 6)                 198       \n",
      "                                                                 \n",
      " dense_7 (Dense)             (None, 1)                 7         \n",
      "                                                                 \n",
      "=================================================================\n",
      "Total params: 26,701\n",
      "Trainable params: 26,701\n",
      "Non-trainable params: 0\n",
      "_________________________________________________________________\n",
      "Epoch 1/30\n",
      "50/50 [==============================] - 7s 52ms/step - loss: 0.6933 - accuracy: 0.4890 - val_loss: 0.6944 - val_accuracy: 0.4110\n",
      "Epoch 2/30\n",
      "50/50 [==============================] - 2s 33ms/step - loss: 0.6876 - accuracy: 0.5223 - val_loss: 0.6942 - val_accuracy: 0.4110\n",
      "Epoch 3/30\n",
      "50/50 [==============================] - 2s 37ms/step - loss: 0.5644 - accuracy: 0.6855 - val_loss: 0.5373 - val_accuracy: 0.7619\n",
      "Epoch 4/30\n",
      "50/50 [==============================] - 2s 36ms/step - loss: 0.3445 - accuracy: 0.8562 - val_loss: 0.5772 - val_accuracy: 0.7619\n",
      "Epoch 5/30\n",
      "50/50 [==============================] - 2s 36ms/step - loss: 0.2554 - accuracy: 0.9077 - val_loss: 0.5455 - val_accuracy: 0.7544\n",
      "Epoch 6/30\n",
      "50/50 [==============================] - 2s 35ms/step - loss: 0.2349 - accuracy: 0.9165 - val_loss: 0.6452 - val_accuracy: 0.7494\n",
      "Epoch 7/30\n",
      "50/50 [==============================] - 2s 37ms/step - loss: 0.1804 - accuracy: 0.9416 - val_loss: 0.7791 - val_accuracy: 0.7619\n",
      "Epoch 8/30\n",
      "50/50 [==============================] - 2s 35ms/step - loss: 0.1296 - accuracy: 0.9642 - val_loss: 1.0329 - val_accuracy: 0.7318\n",
      "Epoch 9/30\n",
      "50/50 [==============================] - 2s 36ms/step - loss: 0.1077 - accuracy: 0.9705 - val_loss: 0.9353 - val_accuracy: 0.7419\n",
      "Epoch 10/30\n",
      "50/50 [==============================] - 2s 35ms/step - loss: 0.0951 - accuracy: 0.9743 - val_loss: 1.1056 - val_accuracy: 0.7318\n",
      "Epoch 11/30\n",
      "50/50 [==============================] - 2s 39ms/step - loss: 0.1192 - accuracy: 0.9648 - val_loss: 0.9904 - val_accuracy: 0.7218\n",
      "Epoch 12/30\n",
      "50/50 [==============================] - 2s 37ms/step - loss: 0.1187 - accuracy: 0.9655 - val_loss: 1.0225 - val_accuracy: 0.7419\n",
      "Epoch 13/30\n",
      "50/50 [==============================] - 2s 37ms/step - loss: 0.0747 - accuracy: 0.9831 - val_loss: 1.3380 - val_accuracy: 0.7218\n",
      "Epoch 14/30\n",
      "50/50 [==============================] - 2s 37ms/step - loss: 0.0697 - accuracy: 0.9831 - val_loss: 1.2580 - val_accuracy: 0.7268\n",
      "Epoch 15/30\n",
      "50/50 [==============================] - 2s 36ms/step - loss: 0.0592 - accuracy: 0.9874 - val_loss: 1.3519 - val_accuracy: 0.7218\n",
      "Epoch 16/30\n",
      "50/50 [==============================] - 2s 36ms/step - loss: 0.0656 - accuracy: 0.9818 - val_loss: 1.5111 - val_accuracy: 0.7243\n",
      "Epoch 17/30\n",
      "50/50 [==============================] - 2s 34ms/step - loss: 0.0666 - accuracy: 0.9856 - val_loss: 1.2453 - val_accuracy: 0.7393\n",
      "Epoch 18/30\n",
      "50/50 [==============================] - 2s 33ms/step - loss: 0.0596 - accuracy: 0.9862 - val_loss: 1.2625 - val_accuracy: 0.7343\n",
      "Epoch 19/30\n",
      "50/50 [==============================] - 2s 38ms/step - loss: 0.0553 - accuracy: 0.9887 - val_loss: 1.3388 - val_accuracy: 0.7393\n",
      "Epoch 20/30\n",
      "50/50 [==============================] - 2s 37ms/step - loss: 0.0546 - accuracy: 0.9887 - val_loss: 1.3780 - val_accuracy: 0.7318\n",
      "Epoch 21/30\n",
      "50/50 [==============================] - 2s 37ms/step - loss: 0.0543 - accuracy: 0.9887 - val_loss: 1.3881 - val_accuracy: 0.7318\n",
      "Epoch 22/30\n",
      "50/50 [==============================] - 2s 34ms/step - loss: 0.0542 - accuracy: 0.9887 - val_loss: 1.3867 - val_accuracy: 0.7343\n",
      "Epoch 23/30\n",
      "50/50 [==============================] - 2s 37ms/step - loss: 0.0539 - accuracy: 0.9887 - val_loss: 1.3990 - val_accuracy: 0.7393\n",
      "Epoch 24/30\n",
      "50/50 [==============================] - 2s 36ms/step - loss: 0.0537 - accuracy: 0.9887 - val_loss: 1.4412 - val_accuracy: 0.7419\n",
      "Epoch 25/30\n",
      "50/50 [==============================] - 2s 36ms/step - loss: 0.0550 - accuracy: 0.9881 - val_loss: 1.4117 - val_accuracy: 0.7469\n",
      "Epoch 26/30\n",
      "50/50 [==============================] - 2s 35ms/step - loss: 0.0516 - accuracy: 0.9893 - val_loss: 1.4479 - val_accuracy: 0.7393\n",
      "Epoch 27/30\n",
      "50/50 [==============================] - 2s 34ms/step - loss: 0.0510 - accuracy: 0.9893 - val_loss: 1.4846 - val_accuracy: 0.7318\n",
      "Epoch 28/30\n",
      "50/50 [==============================] - 2s 33ms/step - loss: 0.0508 - accuracy: 0.9893 - val_loss: 1.4846 - val_accuracy: 0.7343\n",
      "Epoch 29/30\n",
      "50/50 [==============================] - 2s 34ms/step - loss: 0.0503 - accuracy: 0.9893 - val_loss: 1.4990 - val_accuracy: 0.7343\n",
      "Epoch 30/30\n",
      "50/50 [==============================] - 2s 34ms/step - loss: 0.0494 - accuracy: 0.9893 - val_loss: 1.5974 - val_accuracy: 0.7268\n"
     ]
    },
    {
     "data": {
      "image/png": "[encoded data removed]",
      "text/plain": [
       "<Figure size 432x288 with 1 Axes>"
      ]
     },
     "metadata": {
      "needs_background": "light"
     },
     "output_type": "display_data"
    },
    {
     "data": {
      "image/png": "[encoded data removed]",
      "text/plain": [
       "<Figure size 432x288 with 1 Axes>"
      ]
     },
     "metadata": {
      "needs_background": "light"
     },
     "output_type": "display_data"
    },
    {
     "name": "stdout",
     "output_type": "stream",
     "text": [
      "[  4 281  16  25   0   0   0   0   0   0   0   0   0   0   0   0   0   0\n",
      "   0   0   0   0   0   0   0   0   0   0   0   0   0   0   0   0   0   0\n",
      "   0   0   0   0   0   0   0   0   0   0   0   0   0   0]\n",
      "I love this phone\n",
      "[0.99996305]\n",
      "[812 227 864 100 775   9 525 843   0   0   0   0   0   0   0   0   0   0\n",
      "   0   0   0   0   0   0   0   0   0   0   0   0   0   0   0   0   0   0\n",
      "   0   0   0   0   0   0   0   0   0   0   0   0   0   0]\n",
      "Everything was cold\n",
      "[0.01975581]\n",
      "[812 227 864 100 775   9 109   8 333 731  24  61   4 171  59  77   0   0\n",
      "   0   0   0   0   0   0   0   0   0   0   0   0   0   0   0   0   0   0\n",
      "   0   0   0   0   0   0   0   0   0   0   0   0   0   0]\n",
      "Everything was hot exactly as I wanted\n",
      "[0.01794478]\n",
      "[812 227 864 100 775   9 157 359 853   0   0   0   0   0   0   0   0   0\n",
      "   0   0   0   0   0   0   0   0   0   0   0   0   0   0   0   0   0   0\n",
      "   0   0   0   0   0   0   0   0   0   0   0   0   0   0]\n",
      "Everything was green\n",
      "[0.01996878]\n",
      "[  1 109 228 540 237 635 241 423 340  89 298   0   0   0   0   0   0   0\n",
      "   0   0   0   0   0   0   0   0   0   0   0   0   0   0   0   0   0   0\n",
      "   0   0   0   0   0   0   0   0   0   0   0   0   0   0]\n",
      "the host seated us immediately\n",
      "[0.01899546]\n",
      "[154 242  47 635 341  12 569 547 147 319 775 125  85   0   0   0   0   0\n",
      "   0   0   0   0   0   0   0   0   0   0   0   0   0   0   0   0   0   0\n",
      "   0   0   0   0   0   0   0   0   0   0   0   0   0   0]\n",
      "they gave us free chocolate cake\n",
      "[0.9999589]\n",
      "[158 190 853 782   8 607 775 210 232 146 775 470  67 305 101  15   1 328\n",
      " 296  26  19   1 661 641 195   0   0   0   0   0   0   0   0   0   0   0\n",
      "   0   0   0   0   0   0   0   0   0   0   0   0   0   0]\n",
      "we couldn't hear each other talk because of the shouting in the kitchen\n",
      "[0.01829591]\n",
      "\n",
      "\n"
     ]
    }
   ],
   "source": [
    "model_multiple_bidi_lstm = tf.keras.Sequential([\n",
    "    tf.keras.layers.Embedding(vocab_size, embedding_dim, input_length=max_length),\n",
    "    tf.keras.layers.Bidirectional(tf.keras.layers.LSTM(embedding_dim, \n",
    "                                                       return_sequences=True)), \n",
    "    tf.keras.layers.Bidirectional(tf.keras.layers.LSTM(embedding_dim)),\n",
    "    tf.keras.layers.Dense(6, activation='relu'),\n",
    "    tf.keras.layers.Dense(1, activation='sigmoid')\n",
    "])\n",
    "\n",
    "fit_model_and_show_results(model_multiple_bidi_lstm, fake_reviews)"
   ]
  },
  {
   "cell_type": "markdown",
   "metadata": {
    "id": "ABVYYPwba8Hx"
   },
   "source": [
    "# Compare predictions for all the models\n",
    "\n",
    "It can be hard to see which model gives a better prediction for different reviews when you examine each model separately. So for comparison purposes, here we define some more reviews and print out the predictions that each of the three models gives for each review:\n",
    "\n",
    "*   Embeddings and a Global Average Pooling layer\n",
    "*   Embeddings and a Bidirectional LSTM layer\n",
    "*   Embeddings and two Bidirectional LSTM layers\n",
    "\n",
    "The results are not always what you might expect. The input dataset is fairly small, it has less than 2000 reviews. Some of the reviews are fairly short, and some of the short ones are fairly repetitive which reduces their impact on improving the  model, such as these two reviews:\n",
    "\n",
    "*   Bad Quality.\n",
    "*   Low Quality.\n",
    "\n",
    "Feel free to add more reviews of your own, or change the reviews. The results will depend on the combination of words in the reviews, and how well they match to reviews in the training set. \n",
    "\n",
    "How do the different models handle things like \"wasn't good\" which contains a positive word (good) but is a poor review?\n"
   ]
  },
  {
   "cell_type": "code",
   "execution_count": 89,
   "metadata": {
    "id": "6XebrXt0jtOy"
   },
   "outputs": [],
   "source": [
    "my_reviews =[\"lovely\", \"dreadful\", \"stay away\",\n",
    "             \"everything was hot exactly as I wanted\",\n",
    "             \"everything was not exactly as I wanted\",\n",
    "             \"they gave us free chocolate cake\",\n",
    "             \"I've never eaten anything so spicy in my life, my throat burned for hours\",\n",
    "             \"for a phone that is as expensive as this one I expect it to be much easier to use than this thing is\",\n",
    "             \"we left there very full for a low price so I'd say you just can't go wrong at this place\",\n",
    "             \"that place does not have quality meals and it isn't a good place to go for dinner\",\n",
    "             ]"
   ]
  },
  {
   "cell_type": "code",
   "execution_count": 90,
   "metadata": {
    "colab": {
     "base_uri": "https://localhost:8080/"
    },
    "id": "tRWGjkJLkY2y",
    "outputId": "bc3b992e-dee9-4343-8465-00a0359cba0a"
   },
   "outputs": [
    {
     "name": "stdout",
     "output_type": "stream",
     "text": [
      "===================================\n",
      " Embeddings only:\n",
      " ===================================\n",
      "lovely\n",
      "[0.88829195]\n",
      "dreadful\n",
      "[0.21250689]\n",
      "stay away\n",
      "[0.53250957]\n",
      "everything was hot exactly as I wanted\n",
      "[0.6665017]\n",
      "everything was not exactly as I wanted\n",
      "[0.41747546]\n",
      "they gave us free chocolate cake\n",
      "[0.6664515]\n",
      "I've never eaten anything so spicy in my life, my throat burned for hours\n",
      "[0.01684701]\n",
      "for a phone that is as expensive as this one I expect it to be much easier to use than this thing is\n",
      "[0.5243199]\n",
      "we left there very full for a low price so I'd say you just can't go wrong at this place\n",
      "[0.77000487]\n",
      "that place does not have quality meals and it isn't a good place to go for dinner\n",
      "[0.8248502]\n",
      "\n",
      "\n"
     ]
    }
   ],
   "source": [
    "print(\"===================================\\n\",\"Embeddings only:\\n\", \"===================================\",)\n",
    "predict_review(model, my_reviews, show_padded_sequence=False)"
   ]
  },
  {
   "cell_type": "code",
   "execution_count": 91,
   "metadata": {
    "colab": {
     "base_uri": "https://localhost:8080/"
    },
    "id": "G2FJR3IVBt30",
    "outputId": "bc256ba5-5c90-4aaa-e503-0903e6ab54d6"
   },
   "outputs": [
    {
     "name": "stdout",
     "output_type": "stream",
     "text": [
      "===================================\n",
      " With a single bidirectional LSTM:\n",
      " ===================================\n",
      "lovely\n",
      "[0.97649676]\n",
      "dreadful\n",
      "[0.01176289]\n",
      "stay away\n",
      "[0.0181269]\n",
      "everything was hot exactly as I wanted\n",
      "[0.99798155]\n",
      "everything was not exactly as I wanted\n",
      "[0.01595074]\n",
      "they gave us free chocolate cake\n",
      "[0.99886316]\n",
      "I've never eaten anything so spicy in my life, my throat burned for hours\n",
      "[0.01553929]\n",
      "for a phone that is as expensive as this one I expect it to be much easier to use than this thing is\n",
      "[0.01788712]\n",
      "we left there very full for a low price so I'd say you just can't go wrong at this place\n",
      "[0.9999992]\n",
      "that place does not have quality meals and it isn't a good place to go for dinner\n",
      "[0.8931109]\n",
      "\n",
      "\n"
     ]
    }
   ],
   "source": [
    "print(\"===================================\\n\", \"With a single bidirectional LSTM:\\n\", \"===================================\")\n",
    "predict_review(model_bidi_lstm, my_reviews, show_padded_sequence=False)"
   ]
  },
  {
   "cell_type": "code",
   "execution_count": 92,
   "metadata": {
    "colab": {
     "base_uri": "https://localhost:8080/"
    },
    "id": "81v1r3Y2BwvC",
    "outputId": "423dffe3-6682-427d-cfc1-e38cee51b6b3"
   },
   "outputs": [
    {
     "name": "stdout",
     "output_type": "stream",
     "text": [
      "===================================\n",
      " With two bidirectional LSTMs:\n",
      " ===================================\n",
      "lovely\n",
      "[0.9999626]\n",
      "dreadful\n",
      "[0.02005455]\n",
      "stay away\n",
      "[0.02062702]\n",
      "everything was hot exactly as I wanted\n",
      "[0.6001113]\n",
      "everything was not exactly as I wanted\n",
      "[0.01882294]\n",
      "they gave us free chocolate cake\n",
      "[0.9999589]\n",
      "I've never eaten anything so spicy in my life, my throat burned for hours\n",
      "[0.01482454]\n",
      "for a phone that is as expensive as this one I expect it to be much easier to use than this thing is\n",
      "[0.01951098]\n",
      "we left there very full for a low price so I'd say you just can't go wrong at this place\n",
      "[0.0241594]\n",
      "that place does not have quality meals and it isn't a good place to go for dinner\n",
      "[0.03294182]\n",
      "\n",
      "\n"
     ]
    }
   ],
   "source": [
    "print(\"===================================\\n\",\"With two bidirectional LSTMs:\\n\", \"===================================\")\n",
    "predict_review(model_multiple_bidi_lstm, my_reviews, show_padded_sequence=False)"
   ]
  }
 ],
 "metadata": {
  "accelerator": "GPU",
  "colab": {
   "name": "l10c01_nlp_lstms_with_reviews_subwords_dataset.ipynb",
   "provenance": [],
   "toc_visible": true
  },
  "kernelspec": {
   "display_name": "Python 3 (ipykernel)",
   "language": "python",
   "name": "python3"
  },
  "language_info": {
   "codemirror_mode": {
    "name": "ipython",
    "version": 3
   },
   "file_extension": ".py",
   "mimetype": "text/x-python",
   "name": "python",
   "nbconvert_exporter": "python",
   "pygments_lexer": "ipython3",
   "version": "3.9.7"
  }
 },
 "nbformat": 4,
 "nbformat_minor": 1
}
